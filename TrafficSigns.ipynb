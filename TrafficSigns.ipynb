{
  "nbformat": 4,
  "nbformat_minor": 0,
  "metadata": {
    "colab": {
      "name": "TrafficSigns.ipynb",
      "provenance": [],
      "collapsed_sections": [],
      "include_colab_link": true
    },
    "kernelspec": {
      "display_name": "Python 3",
      "name": "python3"
    },
    "accelerator": "GPU"
  },
  "cells": [
    {
      "cell_type": "markdown",
      "metadata": {
        "id": "view-in-github",
        "colab_type": "text"
      },
      "source": [
        "<a href=\"https://colab.research.google.com/github/nahimaort/Traffic-Signs-Recognition/blob/main/TrafficSigns.ipynb\" target=\"_parent\"><img src=\"https://colab.research.google.com/assets/colab-badge.svg\" alt=\"Open In Colab\"/></a>"
      ]
    },
    {
      "cell_type": "markdown",
      "metadata": {
        "id": "cXD8sjjQLj-k"
      },
      "source": [
        "# Reconocedor de señales de tráfico\n",
        "\n",
        "Vamos a desarrollar una red que reconozca señales de tráfico de tipo precaución.\n",
        "\n",
        "\n"
      ]
    },
    {
      "cell_type": "code",
      "metadata": {
        "id": "yZcKFL_TMkzR",
        "colab": {
          "base_uri": "https://localhost:8080/"
        },
        "outputId": "c3ca592e-cf0f-41ee-866e-0718cb0ea7ba"
      },
      "source": [
        "from google.colab import drive\n",
        "drive.mount('/content/drive')\n",
        "\n",
        "\n"
      ],
      "execution_count": 8,
      "outputs": [
        {
          "output_type": "stream",
          "name": "stdout",
          "text": [
            "Drive already mounted at /content/drive; to attempt to forcibly remount, call drive.mount(\"/content/drive\", force_remount=True).\n"
          ]
        }
      ]
    },
    {
      "cell_type": "code",
      "metadata": {
        "colab": {
          "base_uri": "https://localhost:8080/",
          "height": 37
        },
        "id": "eKjrirLcRIkU",
        "outputId": "f9d3e47f-69ae-488a-874a-71b65e65dc02"
      },
      "source": [
        "import tensorflow as tf\n",
        "tf.test.gpu_device_name()"
      ],
      "execution_count": 9,
      "outputs": [
        {
          "output_type": "execute_result",
          "data": {
            "application/vnd.google.colaboratory.intrinsic+json": {
              "type": "string"
            },
            "text/plain": [
              "'/device:GPU:0'"
            ]
          },
          "metadata": {},
          "execution_count": 9
        }
      ]
    },
    {
      "cell_type": "markdown",
      "source": [
        "Vemos una imagen de ejemplo"
      ],
      "metadata": {
        "id": "N3zF5ip1kPjR"
      }
    },
    {
      "cell_type": "code",
      "metadata": {
        "colab": {
          "base_uri": "https://localhost:8080/",
          "height": 301
        },
        "id": "x3JBgGOsKu44",
        "outputId": "3f8bd9fb-fbb5-4713-d8c5-555095d82fb1"
      },
      "source": [
        "!ls \"/content/drive/My Drive/Colab Notebooks/datasets/\"\n",
        "\n",
        "from matplotlib.pyplot import imshow\n",
        "import numpy as np\n",
        "from PIL import Image\n",
        "\n",
        "%matplotlib inline\n",
        "pil_im = Image.open('/content/drive/My Drive/Colab Notebooks/datasets/Traffic-Signs/5/00025_00040_00018.png', 'r')\n",
        "imshow(np.asarray(pil_im))\n",
        "\n"
      ],
      "execution_count": 10,
      "outputs": [
        {
          "output_type": "stream",
          "name": "stdout",
          "text": [
            "Traffic-Signs  Traffic-Signs-2\tTraffic-Signs-Validation\n"
          ]
        },
        {
          "output_type": "execute_result",
          "data": {
            "text/plain": [
              "<matplotlib.image.AxesImage at 0x7f6428066b10>"
            ]
          },
          "metadata": {},
          "execution_count": 10
        },
        {
          "output_type": "display_data",
          "data": {
            "image/png": "[encoded data removed]",
            "text/plain": [
              "<Figure size 432x288 with 1 Axes>"
            ]
          },
          "metadata": {
            "needs_background": "light"
          }
        }
      ]
    },
    {
      "cell_type": "markdown",
      "source": [
        "## Data Augmentation"
      ],
      "metadata": {
        "id": "X7U_9Zjj9WsA"
      }
    },
    {
      "cell_type": "code",
      "source": [
        "from keras.preprocessing.image import ImageDataGenerator, array_to_img, img_to_array, load_img\n",
        "import glob\n",
        "\n",
        "datagen = ImageDataGenerator(\n",
        "  horizontal_flip=False,\n",
        "\tvertical_flip=False,\n",
        "\trotation_range=25,\n",
        "\tzoom_range=0.20,\n",
        "\tshear_range=0.20,\n",
        "\tfill_mode=\"nearest\")\n",
        "\n",
        "for i in range(1, 10, 1):\n",
        "  for name in glob.glob(\"/content/drive/My Drive/Colab Notebooks/datasets/Traffic-Signs/\" + str(i) + \"/*.png\"):\n",
        "    img = load_img(name)\n",
        "    x = img_to_array(img)\n",
        "    x = x.reshape((1,) + x.shape) \n",
        "    j = 0\n",
        "    for batch in datagen.flow(x, batch_size=1,\n",
        "                                  save_to_dir=\"/content/drive/My Drive/Colab Notebooks/datasets/Traffic-Signs/\" + str(i) + \"/da/\", \n",
        "                              save_prefix=\"image\", save_format='png'):\n",
        "      j += 1\n",
        "      if j >= 2:\n",
        "        break\n",
        "print(\"Finalización del aumento de datos\")"
      ],
      "metadata": {
        "id": "Wj1hJvCa9ZAA",
        "colab": {
          "base_uri": "https://localhost:8080/"
        },
        "outputId": "1742ed7a-5aec-4289-e905-be97afd5fe42"
      },
      "execution_count": 11,
      "outputs": [
        {
          "output_type": "stream",
          "name": "stdout",
          "text": [
            "Finalización del aumento de datos\n"
          ]
        }
      ]
    },
    {
      "cell_type": "markdown",
      "metadata": {
        "id": "UCaBgMS8OdiV"
      },
      "source": [
        "## Primer modelo"
      ]
    },
    {
      "cell_type": "code",
      "metadata": {
        "colab": {
          "base_uri": "https://localhost:8080/"
        },
        "id": "25NfZptPxjgD",
        "outputId": "64162bb2-0ad6-418a-e18f-23604ed1890f"
      },
      "source": [
        "# DATA SOURCE --------------------------------------------------\n",
        "\n",
        "image_size = (150, 150)\n",
        "batch_size = 32\n",
        "\n",
        "train_ds = tf.keras.preprocessing.image_dataset_from_directory(\n",
        "    \"/content/drive/My Drive/Colab Notebooks/datasets/Traffic-Signs\",\n",
        "    image_size=image_size,\n",
        "    batch_size=batch_size,\n",
        "    label_mode='categorical'\n",
        ")\n",
        "val_ds = tf.keras.preprocessing.image_dataset_from_directory(\n",
        "    \"/content/drive/My Drive/Colab Notebooks/datasets/Traffic-Signs-Validation\",\n",
        "    image_size=image_size,\n",
        "    batch_size=batch_size,\n",
        "    label_mode='categorical'\n",
        ")\n",
        "\n",
        "train_ds = train_ds.prefetch(buffer_size=32)\n",
        "val_ds = val_ds.prefetch(buffer_size=32)"
      ],
      "execution_count": 12,
      "outputs": [
        {
          "output_type": "stream",
          "name": "stdout",
          "text": [
            "Found 4393 files belonging to 9 classes.\n",
            "Found 360 files belonging to 9 classes.\n"
          ]
        }
      ]
    },
    {
      "cell_type": "code",
      "metadata": {
        "id": "e5tVrY9gxyfJ"
      },
      "source": [
        "# MODEL --------------------------------------------------\n",
        "\n",
        "import tensorflow as tf\n",
        "from tensorflow import keras\n",
        "from tensorflow.keras.layers import Conv2D, MaxPooling2D, Dropout, Dense, Rescaling, Flatten\n",
        "from tensorflow.keras.callbacks import EarlyStopping\n",
        "\n",
        "model = keras.Sequential()\n",
        "model.add(Rescaling(scale=(1./127.5),\n",
        "                    offset=-1, \n",
        "                    input_shape=(150, 150, 3)))\n",
        "model.add(Conv2D(32, kernel_size=(3, 3), activation='relu'))\n",
        "model.add(MaxPooling2D(pool_size=(2, 2)))\n",
        "model.add(Conv2D(64, (3, 3), activation='relu'))\n",
        "model.add(MaxPooling2D(pool_size=(2, 2)))\n",
        "model.add(Dropout(0.25))\n",
        "model.add(Conv2D(128, (3, 3), activation='relu'))\n",
        "model.add(MaxPooling2D(pool_size=(2, 2)))\n",
        "model.add(Dropout(0.25))\n",
        "\n",
        "model.add(Flatten())\n",
        "model.add(Dense(128, activation='relu'))\n",
        "model.add(Dropout(0.5))\n",
        "model.add(Dense(9, activation='softmax'))\n",
        "\n",
        "model.compile(loss=tf.keras.losses.categorical_crossentropy,\n",
        "              optimizer=tf.keras.optimizers.Nadam(1e-3),\n",
        "              metrics=['accuracy'])"
      ],
      "execution_count": 27,
      "outputs": []
    },
    {
      "cell_type": "code",
      "metadata": {
        "colab": {
          "base_uri": "https://localhost:8080/"
        },
        "id": "-AiE5BwazFFK",
        "outputId": "77f001a1-8b4d-4a1c-e101-76e2d246bc71"
      },
      "source": [
        "# TRAINING --------------------------------------------------\n",
        "\n",
        "epochs = 200\n",
        "\n",
        "es = EarlyStopping(monitor='val_accuracy', mode='max', verbose=1, patience=10, restore_best_weights=True)\n",
        "\n",
        "h = model.fit(\n",
        "        train_ds,\n",
        "        epochs=epochs, \n",
        "        validation_data=val_ds,\n",
        "        callbacks = [es]\n",
        ")"
      ],
      "execution_count": 28,
      "outputs": [
        {
          "output_type": "stream",
          "name": "stdout",
          "text": [
            "Epoch 1/200\n",
            "138/138 [==============================] - 19s 119ms/step - loss: 1.5243 - accuracy: 0.4648 - val_loss: 0.7779 - val_accuracy: 0.8583\n",
            "Epoch 2/200\n",
            "138/138 [==============================] - 17s 116ms/step - loss: 0.5540 - accuracy: 0.8131 - val_loss: 0.3889 - val_accuracy: 0.8833\n",
            "Epoch 3/200\n",
            "138/138 [==============================] - 17s 117ms/step - loss: 0.3237 - accuracy: 0.8939 - val_loss: 0.2864 - val_accuracy: 0.9389\n",
            "Epoch 4/200\n",
            "138/138 [==============================] - 17s 118ms/step - loss: 0.2054 - accuracy: 0.9363 - val_loss: 0.2455 - val_accuracy: 0.9250\n",
            "Epoch 5/200\n",
            "138/138 [==============================] - 17s 117ms/step - loss: 0.1866 - accuracy: 0.9401 - val_loss: 0.2324 - val_accuracy: 0.9417\n",
            "Epoch 6/200\n",
            "138/138 [==============================] - 17s 117ms/step - loss: 0.1290 - accuracy: 0.9552 - val_loss: 0.2153 - val_accuracy: 0.9389\n",
            "Epoch 7/200\n",
            "138/138 [==============================] - 17s 117ms/step - loss: 0.1176 - accuracy: 0.9586 - val_loss: 0.2301 - val_accuracy: 0.9444\n",
            "Epoch 8/200\n",
            "138/138 [==============================] - 17s 116ms/step - loss: 0.1036 - accuracy: 0.9645 - val_loss: 0.2093 - val_accuracy: 0.9500\n",
            "Epoch 9/200\n",
            "138/138 [==============================] - 18s 124ms/step - loss: 0.0902 - accuracy: 0.9697 - val_loss: 0.1913 - val_accuracy: 0.9500\n",
            "Epoch 10/200\n",
            "138/138 [==============================] - 18s 123ms/step - loss: 0.0792 - accuracy: 0.9706 - val_loss: 0.1701 - val_accuracy: 0.9417\n",
            "Epoch 11/200\n",
            "138/138 [==============================] - 17s 121ms/step - loss: 0.0750 - accuracy: 0.9761 - val_loss: 0.1370 - val_accuracy: 0.9639\n",
            "Epoch 12/200\n",
            "138/138 [==============================] - 17s 119ms/step - loss: 0.0661 - accuracy: 0.9777 - val_loss: 0.2207 - val_accuracy: 0.9611\n",
            "Epoch 13/200\n",
            "138/138 [==============================] - 17s 118ms/step - loss: 0.0704 - accuracy: 0.9802 - val_loss: 0.1887 - val_accuracy: 0.9556\n",
            "Epoch 14/200\n",
            "138/138 [==============================] - 18s 121ms/step - loss: 0.0733 - accuracy: 0.9793 - val_loss: 0.1711 - val_accuracy: 0.9583\n",
            "Epoch 15/200\n",
            "138/138 [==============================] - 17s 119ms/step - loss: 0.0561 - accuracy: 0.9829 - val_loss: 0.1416 - val_accuracy: 0.9694\n",
            "Epoch 16/200\n",
            "138/138 [==============================] - 18s 123ms/step - loss: 0.0472 - accuracy: 0.9852 - val_loss: 0.2002 - val_accuracy: 0.9472\n",
            "Epoch 17/200\n",
            "138/138 [==============================] - 18s 122ms/step - loss: 0.0627 - accuracy: 0.9813 - val_loss: 0.1660 - val_accuracy: 0.9556\n",
            "Epoch 18/200\n",
            "138/138 [==============================] - 18s 124ms/step - loss: 0.0526 - accuracy: 0.9838 - val_loss: 0.1959 - val_accuracy: 0.9583\n",
            "Epoch 19/200\n",
            "138/138 [==============================] - 18s 123ms/step - loss: 0.0489 - accuracy: 0.9863 - val_loss: 0.2182 - val_accuracy: 0.9556\n",
            "Epoch 20/200\n",
            "138/138 [==============================] - 17s 118ms/step - loss: 0.0405 - accuracy: 0.9861 - val_loss: 0.1418 - val_accuracy: 0.9694\n",
            "Epoch 21/200\n",
            "138/138 [==============================] - 18s 124ms/step - loss: 0.0339 - accuracy: 0.9882 - val_loss: 0.1858 - val_accuracy: 0.9694\n",
            "Epoch 22/200\n",
            "138/138 [==============================] - 18s 126ms/step - loss: 0.0378 - accuracy: 0.9877 - val_loss: 0.1684 - val_accuracy: 0.9583\n",
            "Epoch 23/200\n",
            "138/138 [==============================] - 18s 124ms/step - loss: 0.0385 - accuracy: 0.9909 - val_loss: 0.1281 - val_accuracy: 0.9667\n",
            "Epoch 24/200\n",
            "138/138 [==============================] - 18s 123ms/step - loss: 0.0302 - accuracy: 0.9920 - val_loss: 0.1036 - val_accuracy: 0.9778\n",
            "Epoch 25/200\n",
            "138/138 [==============================] - 17s 117ms/step - loss: 0.0316 - accuracy: 0.9904 - val_loss: 0.1735 - val_accuracy: 0.9528\n",
            "Epoch 26/200\n",
            "138/138 [==============================] - 17s 119ms/step - loss: 0.0441 - accuracy: 0.9852 - val_loss: 0.1560 - val_accuracy: 0.9556\n",
            "Epoch 27/200\n",
            "138/138 [==============================] - 17s 118ms/step - loss: 0.0312 - accuracy: 0.9920 - val_loss: 0.0998 - val_accuracy: 0.9778\n",
            "Epoch 28/200\n",
            "138/138 [==============================] - 17s 117ms/step - loss: 0.0209 - accuracy: 0.9932 - val_loss: 0.1030 - val_accuracy: 0.9778\n",
            "Epoch 29/200\n",
            "138/138 [==============================] - 17s 118ms/step - loss: 0.0319 - accuracy: 0.9907 - val_loss: 0.1023 - val_accuracy: 0.9722\n",
            "Epoch 30/200\n",
            "138/138 [==============================] - 17s 117ms/step - loss: 0.0347 - accuracy: 0.9902 - val_loss: 0.1566 - val_accuracy: 0.9667\n",
            "Epoch 31/200\n",
            "138/138 [==============================] - 17s 118ms/step - loss: 0.0276 - accuracy: 0.9904 - val_loss: 0.1723 - val_accuracy: 0.9667\n",
            "Epoch 32/200\n",
            "138/138 [==============================] - 17s 117ms/step - loss: 0.0329 - accuracy: 0.9898 - val_loss: 0.1622 - val_accuracy: 0.9667\n",
            "Epoch 33/200\n",
            "138/138 [==============================] - 17s 117ms/step - loss: 0.0225 - accuracy: 0.9927 - val_loss: 0.2280 - val_accuracy: 0.9528\n",
            "Epoch 34/200\n",
            "137/138 [============================>.] - ETA: 0s - loss: 0.0341 - accuracy: 0.9900Restoring model weights from the end of the best epoch: 24.\n",
            "138/138 [==============================] - 17s 117ms/step - loss: 0.0340 - accuracy: 0.9900 - val_loss: 0.1989 - val_accuracy: 0.9611\n",
            "Epoch 00034: early stopping\n"
          ]
        }
      ]
    },
    {
      "cell_type": "code",
      "metadata": {
        "colab": {
          "base_uri": "https://localhost:8080/",
          "height": 295
        },
        "id": "2PPKm5euoRAs",
        "outputId": "2472b259-6005-46ef-b309-2c1601f4aaf2"
      },
      "source": [
        "import matplotlib.pyplot as plt\n",
        "\n",
        "plt.plot(h.history['accuracy'])\n",
        "plt.plot(h.history['val_accuracy'])\n",
        "plt.plot(h.history['loss'])\n",
        "plt.title('Model accuracy')\n",
        "plt.ylabel('accuracy')\n",
        "plt.xlabel('epoch')\n",
        "plt.legend(['training', 'validation','loss'], loc='upper right')\n",
        "plt.show()"
      ],
      "execution_count": 29,
      "outputs": [
        {
          "output_type": "display_data",
          "data": {
            "image/png": "[encoded data removed]",
            "text/plain": [
              "<Figure size 432x288 with 1 Axes>"
            ]
          },
          "metadata": {
            "needs_background": "light"
          }
        }
      ]
    },
    {
      "cell_type": "markdown",
      "metadata": {
        "id": "TVOKAhbsm_pw"
      },
      "source": [
        "## Evaluación de los resultados"
      ]
    },
    {
      "cell_type": "code",
      "metadata": {
        "colab": {
          "base_uri": "https://localhost:8080/",
          "height": 541
        },
        "id": "IkyaTtnAKfqA",
        "outputId": "36e53dd4-1c8c-4476-d384-71b4d539fa32"
      },
      "source": [
        "import numpy as np\n",
        "from sklearn.metrics import classification_report, confusion_matrix\n",
        "import seaborn as sns\n",
        "\n",
        "results = np.concatenate([(y, model.predict(x=x)) for x, y in val_ds], axis=1)\n",
        "\n",
        "predictions = np.argmax(results[0], axis=1)\n",
        "labels = np.argmax(results[1], axis=1)\n",
        "\n",
        "cf_matrix = confusion_matrix(labels, predictions)\n",
        "\n",
        "sns.heatmap(cf_matrix, annot=True, fmt=\"d\", cmap=\"Blues\")\n",
        "\n",
        "print(classification_report(labels, predictions, digits = 4))"
      ],
      "execution_count": 30,
      "outputs": [
        {
          "output_type": "stream",
          "name": "stdout",
          "text": [
            "              precision    recall  f1-score   support\n",
            "\n",
            "           0     1.0000    0.9756    0.9877        41\n",
            "           1     1.0000    0.9756    0.9877        41\n",
            "           2     0.9500    0.9744    0.9620        39\n",
            "           3     1.0000    0.9524    0.9756        42\n",
            "           4     0.9500    1.0000    0.9744        38\n",
            "           5     1.0000    0.9756    0.9877        41\n",
            "           6     0.9250    1.0000    0.9610        37\n",
            "           7     0.9750    1.0000    0.9873        39\n",
            "           8     1.0000    0.9524    0.9756        42\n",
            "\n",
            "    accuracy                         0.9778       360\n",
            "   macro avg     0.9778    0.9784    0.9777       360\n",
            "weighted avg     0.9789    0.9778    0.9779       360\n",
            "\n"
          ]
        },
        {
          "output_type": "display_data",
          "data": {
            "image/png": "[encoded data removed]",
            "text/plain": [
              "<Figure size 432x288 with 2 Axes>"
            ]
          },
          "metadata": {
            "needs_background": "light"
          }
        }
      ]
    },
    {
      "cell_type": "code",
      "metadata": {
        "colab": {
          "base_uri": "https://localhost:8080/"
        },
        "id": "djAlHGLz-Cjj",
        "outputId": "5de76f6f-24ad-4a70-a78a-903560385e3f"
      },
      "source": [
        "img = keras.preprocessing.image.load_img(\n",
        "    '/content/drive/My Drive/Colab Notebooks/datasets/Traffic-Signs/2/00021_00006_00000.png', target_size=image_size\n",
        ")\n",
        "img_array = keras.preprocessing.image.img_to_array(img)\n",
        "img_array = tf.expand_dims(img_array, 0)  # Create batch axis\n",
        "\n",
        "predictions = model.predict(img_array)\n",
        "print(np.argmax(predictions[0]))"
      ],
      "execution_count": 31,
      "outputs": [
        {
          "output_type": "stream",
          "name": "stdout",
          "text": [
            "1\n"
          ]
        }
      ]
    },
    {
      "cell_type": "code",
      "source": [
        "img = keras.preprocessing.image.load_img(\n",
        "    '/content/drive/My Drive/Colab Notebooks/imagenes/imagen5.png', target_size=image_size\n",
        ")\n",
        "img_array = keras.preprocessing.image.img_to_array(img)\n",
        "img_array = tf.expand_dims(img_array, 0)  # Create batch axis\n",
        "\n",
        "predictions = model.predict(img_array)\n",
        "print(np.argmax(predictions[0]))"
      ],
      "metadata": {
        "colab": {
          "base_uri": "https://localhost:8080/"
        },
        "id": "AjTaWk0IO5j8",
        "outputId": "5ac97a12-b75f-42ea-823c-aaee6429f4c5"
      },
      "execution_count": 32,
      "outputs": [
        {
          "output_type": "stream",
          "name": "stdout",
          "text": [
            "5\n"
          ]
        }
      ]
    }
  ]
}