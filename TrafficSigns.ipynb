{
  "nbformat": 4,
  "nbformat_minor": 0,
  "metadata": {
    "colab": {
      "name": "TrafficSigns.ipynb",
      "provenance": [],
      "collapsed_sections": [],
      "include_colab_link": true
    },
    "kernelspec": {
      "display_name": "Python 3",
      "name": "python3"
    },
    "accelerator": "GPU"
  },
  "cells": [
    {
      "cell_type": "markdown",
      "metadata": {
        "id": "view-in-github",
        "colab_type": "text"
      },
      "source": [
        "<a href=\"https://colab.research.google.com/github/nahimaort/Traffic-Signs-Recognition/blob/main/TrafficSigns.ipynb\" target=\"_parent\"><img src=\"https://colab.research.google.com/assets/colab-badge.svg\" alt=\"Open In Colab\"/></a>"
      ]
    },
    {
      "cell_type": "markdown",
      "metadata": {
        "id": "cXD8sjjQLj-k"
      },
      "source": [
        "# Reconocedor de señales de tráfico\n",
        "\n",
        "Vamos a desarrollar una red que reconozca señales de tráfico de tipo precaución.\n",
        "\n",
        "\n"
      ]
    },
    {
      "cell_type": "code",
      "metadata": {
        "id": "yZcKFL_TMkzR",
        "colab": {
          "base_uri": "https://localhost:8080/"
        },
        "outputId": "c3ca592e-cf0f-41ee-866e-0718cb0ea7ba"
      },
      "source": [
        "from google.colab import drive\n",
        "drive.mount('/content/drive')\n",
        "\n",
        "\n"
      ],
      "execution_count": 8,
      "outputs": [
        {
          "output_type": "stream",
          "name": "stdout",
          "text": [
            "Drive already mounted at /content/drive; to attempt to forcibly remount, call drive.mount(\"/content/drive\", force_remount=True).\n"
          ]
        }
      ]
    },
    {
      "cell_type": "code",
      "metadata": {
        "colab": {
          "base_uri": "https://localhost:8080/",
          "height": 37
        },
        "id": "eKjrirLcRIkU",
        "outputId": "f9d3e47f-69ae-488a-874a-71b65e65dc02"
      },
      "source": [
        "import tensorflow as tf\n",
        "tf.test.gpu_device_name()"
      ],
      "execution_count": 9,
      "outputs": [
        {
          "output_type": "execute_result",
          "data": {
            "application/vnd.google.colaboratory.intrinsic+json": {
              "type": "string"
            },
            "text/plain": [
              "'/device:GPU:0'"
            ]
          },
          "metadata": {},
          "execution_count": 9
        }
      ]
    },
    {
      "cell_type": "markdown",
      "source": [
        "Vemos una imagen de ejemplo"
      ],
      "metadata": {
        "id": "N3zF5ip1kPjR"
      }
    },
    {
      "cell_type": "code",
      "metadata": {
        "colab": {
          "base_uri": "https://localhost:8080/",
          "height": 301
        },
        "id": "x3JBgGOsKu44",
        "outputId": "3f8bd9fb-fbb5-4713-d8c5-555095d82fb1"
      },
      "source": [
        "!ls \"/content/drive/My Drive/Colab Notebooks/datasets/\"\n",
        "\n",
        "from matplotlib.pyplot import imshow\n",
        "import numpy as np\n",
        "from PIL import Image\n",
        "\n",
        "%matplotlib inline\n",
        "pil_im = Image.open('/content/drive/My Drive/Colab Notebooks/datasets/Traffic-Signs/5/00025_00040_00018.png', 'r')\n",
        "imshow(np.asarray(pil_im))\n",
        "\n"
      ],
      "execution_count": 10,
      "outputs": [
        {
          "output_type": "stream",
          "name": "stdout",
          "text": [
            "Traffic-Signs  Traffic-Signs-2\tTraffic-Signs-Validation\n"
          ]
        },
        {
          "output_type": "execute_result",
          "data": {
            "text/plain": [
              "<matplotlib.image.AxesImage at 0x7f6428066b10>"
            ]
          },
          "metadata": {},
          "execution_count": 10
        },
        {
          "output_type": "display_data",
          "data": {
            "image/png": "[encoded data removed]",
            "text/plain": [
              "<Figure size 432x288 with 1 Axes>"
            ]
          },
          "metadata": {
            "needs_background": "light"
          }
        }
      ]
    },
    {
      "cell_type": "markdown",
      "source": [
        "## Data Augmentation"
      ],
      "metadata": {
        "id": "X7U_9Zjj9WsA"
      }
    },
    {
      "cell_type": "code",
      "source": [
        "from keras.preprocessing.image import ImageDataGenerator, array_to_img, img_to_array, load_img\n",
        "import glob\n",
        "\n",
        "datagen = ImageDataGenerator(\n",
        "  horizontal_flip=False,\n",
        "\tvertical_flip=False,\n",
        "\trotation_range=25,\n",
        "\tzoom_range=0.20,\n",
        "\tshear_range=0.20,\n",
        "\tfill_mode=\"nearest\")\n",
        "\n",
        "for i in range(1, 10, 1):\n",
        "  for name in glob.glob(\"/content/drive/My Drive/Colab Notebooks/datasets/Traffic-Signs/\" + str(i) + \"/*.png\"):\n",
        "    img = load_img(name)\n",
        "    x = img_to_array(img)\n",
        "    x = x.reshape((1,) + x.shape) \n",
        "    j = 0\n",
        "    for batch in datagen.flow(x, batch_size=1,\n",
        "                                  save_to_dir=\"/content/drive/My Drive/Colab Notebooks/datasets/Traffic-Signs/\" + str(i) + \"/da/\", \n",
        "                              save_prefix=\"image\", save_format='png'):\n",
        "      j += 1\n",
        "      if j >= 2:\n",
        "        break\n",
        "print(\"Finalización del aumento de datos\")"
      ],
      "metadata": {
        "id": "Wj1hJvCa9ZAA",
        "colab": {
          "base_uri": "https://localhost:8080/"
        },
        "outputId": "1742ed7a-5aec-4289-e905-be97afd5fe42"
      },
      "execution_count": 11,
      "outputs": [
        {
          "output_type": "stream",
          "name": "stdout",
          "text": [
            "Finalización del aumento de datos\n"
          ]
        }
      ]
    },
    {
      "cell_type": "markdown",
      "metadata": {
        "id": "UCaBgMS8OdiV"
      },
      "source": [
        "## Primer modelo"
      ]
    },
    {
      "cell_type": "code",
      "metadata": {
        "colab": {
          "base_uri": "https://localhost:8080/"
        },
        "id": "25NfZptPxjgD",
        "outputId": "64162bb2-0ad6-418a-e18f-23604ed1890f"
      },
      "source": [
        "# DATA SOURCE --------------------------------------------------\n",
        "\n",
        "image_size = (150, 150)\n",
        "batch_size = 32\n",
        "\n",
        "train_ds = tf.keras.preprocessing.image_dataset_from_directory(\n",
        "    \"/content/drive/My Drive/Colab Notebooks/datasets/Traffic-Signs\",\n",
        "    image_size=image_size,\n",
        "    batch_size=batch_size,\n",
        "    label_mode='categorical'\n",
        ")\n",
        "val_ds = tf.keras.preprocessing.image_dataset_from_directory(\n",
        "    \"/content/drive/My Drive/Colab Notebooks/datasets/Traffic-Signs-Validation\",\n",
        "    image_size=image_size,\n",
        "    batch_size=batch_size,\n",
        "    label_mode='categorical'\n",
        ")\n",
        "\n",
        "train_ds = train_ds.prefetch(buffer_size=32)\n",
        "val_ds = val_ds.prefetch(buffer_size=32)"
      ],
      "execution_count": 12,
      "outputs": [
        {
          "output_type": "stream",
          "name": "stdout",
          "text": [
            "Found 4393 files belonging to 9 classes.\n",
            "Found 360 files belonging to 9 classes.\n"
          ]
        }
      ]
    },
    {
      "cell_type": "code",
      "metadata": {
        "id": "e5tVrY9gxyfJ"
      },
      "source": [
        "# MODEL --------------------------------------------------\n",
        "\n",
        "import tensorflow as tf\n",
        "from tensorflow import keras\n",
        "from tensorflow.keras.layers import Conv2D, MaxPooling2D, Dropout, Dense, Rescaling, Flatten\n",
        "from tensorflow.keras.callbacks import EarlyStopping\n",
        "\n",
        "model = keras.Sequential()\n",
        "model.add(Rescaling(scale=(1./127.5),\n",
        "                    offset=-1, \n",
        "                    input_shape=(150, 150, 3)))\n",
        "model.add(Conv2D(32, kernel_size=(3, 3), activation='relu'))\n",
        "model.add(MaxPooling2D(pool_size=(2, 2)))\n",
        "model.add(Conv2D(64, (3, 3), activation='relu'))\n",
        "model.add(MaxPooling2D(pool_size=(2, 2)))\n",
        "model.add(Dropout(0.25))\n",
        "model.add(Conv2D(128, (3, 3), activation='relu'))\n",
        "model.add(MaxPooling2D(pool_size=(2, 2)))\n",
        "model.add(Dropout(0.25))\n",
        "\n",
        "model.add(Flatten())\n",
        "model.add(Dense(128, activation='relu'))\n",
        "model.add(Dropout(0.5))\n",
        "model.add(Dense(9, activation='softmax'))\n",
        "\n",
        "model.compile(loss=tf.keras.losses.categorical_crossentropy,\n",
        "              optimizer=tf.keras.optimizers.RMSprop(1e-3),\n",
        "              metrics=['accuracy'])"
      ],
      "execution_count": 33,
      "outputs": []
    },
    {
      "cell_type": "code",
      "metadata": {
        "colab": {
          "base_uri": "https://localhost:8080/"
        },
        "id": "-AiE5BwazFFK",
        "outputId": "8884c74f-a979-4a5f-c73d-cc82bb1ce93a"
      },
      "source": [
        "# TRAINING --------------------------------------------------\n",
        "\n",
        "epochs = 200\n",
        "\n",
        "es = EarlyStopping(monitor='val_accuracy', mode='max', verbose=1, patience=10, restore_best_weights=True)\n",
        "\n",
        "h = model.fit(\n",
        "        train_ds,\n",
        "        epochs=epochs, \n",
        "        validation_data=val_ds,\n",
        "        callbacks = [es]\n",
        ")"
      ],
      "execution_count": 34,
      "outputs": [
        {
          "output_type": "stream",
          "name": "stdout",
          "text": [
            "Epoch 1/200\n",
            "138/138 [==============================] - 18s 119ms/step - loss: 1.7422 - accuracy: 0.4325 - val_loss: 1.0180 - val_accuracy: 0.7889\n",
            "Epoch 2/200\n",
            "138/138 [==============================] - 17s 115ms/step - loss: 0.5218 - accuracy: 0.8386 - val_loss: 0.4036 - val_accuracy: 0.9083\n",
            "Epoch 3/200\n",
            "138/138 [==============================] - 17s 114ms/step - loss: 0.2699 - accuracy: 0.9149 - val_loss: 0.2631 - val_accuracy: 0.9306\n",
            "Epoch 4/200\n",
            "138/138 [==============================] - 17s 115ms/step - loss: 0.1814 - accuracy: 0.9383 - val_loss: 0.2390 - val_accuracy: 0.9444\n",
            "Epoch 5/200\n",
            "138/138 [==============================] - 17s 115ms/step - loss: 0.1301 - accuracy: 0.9602 - val_loss: 0.2056 - val_accuracy: 0.9500\n",
            "Epoch 6/200\n",
            "138/138 [==============================] - 17s 116ms/step - loss: 0.0884 - accuracy: 0.9697 - val_loss: 0.2242 - val_accuracy: 0.9361\n",
            "Epoch 7/200\n",
            "138/138 [==============================] - 17s 115ms/step - loss: 0.0787 - accuracy: 0.9772 - val_loss: 0.3020 - val_accuracy: 0.9444\n",
            "Epoch 8/200\n",
            "138/138 [==============================] - 16s 114ms/step - loss: 0.0846 - accuracy: 0.9791 - val_loss: 0.2115 - val_accuracy: 0.9556\n",
            "Epoch 9/200\n",
            "138/138 [==============================] - 17s 116ms/step - loss: 0.0680 - accuracy: 0.9813 - val_loss: 0.1833 - val_accuracy: 0.9667\n",
            "Epoch 10/200\n",
            "138/138 [==============================] - 17s 115ms/step - loss: 0.0735 - accuracy: 0.9784 - val_loss: 0.2160 - val_accuracy: 0.9639\n",
            "Epoch 11/200\n",
            "138/138 [==============================] - 17s 115ms/step - loss: 0.0470 - accuracy: 0.9847 - val_loss: 0.1798 - val_accuracy: 0.9611\n",
            "Epoch 12/200\n",
            "138/138 [==============================] - 17s 115ms/step - loss: 0.0461 - accuracy: 0.9859 - val_loss: 0.2563 - val_accuracy: 0.9667\n",
            "Epoch 13/200\n",
            "138/138 [==============================] - 17s 114ms/step - loss: 0.0440 - accuracy: 0.9868 - val_loss: 0.2489 - val_accuracy: 0.9667\n",
            "Epoch 14/200\n",
            "138/138 [==============================] - 17s 116ms/step - loss: 0.0683 - accuracy: 0.9825 - val_loss: 0.2570 - val_accuracy: 0.9556\n",
            "Epoch 15/200\n",
            "138/138 [==============================] - 17s 115ms/step - loss: 0.0557 - accuracy: 0.9884 - val_loss: 0.2719 - val_accuracy: 0.9417\n",
            "Epoch 16/200\n",
            "138/138 [==============================] - 17s 115ms/step - loss: 0.0427 - accuracy: 0.9895 - val_loss: 0.2370 - val_accuracy: 0.9694\n",
            "Epoch 17/200\n",
            "138/138 [==============================] - 17s 118ms/step - loss: 0.0585 - accuracy: 0.9857 - val_loss: 0.4417 - val_accuracy: 0.9583\n",
            "Epoch 18/200\n",
            "138/138 [==============================] - 17s 116ms/step - loss: 0.0535 - accuracy: 0.9882 - val_loss: 0.2699 - val_accuracy: 0.9639\n",
            "Epoch 19/200\n",
            "138/138 [==============================] - 17s 115ms/step - loss: 0.0416 - accuracy: 0.9893 - val_loss: 0.2921 - val_accuracy: 0.9667\n",
            "Epoch 20/200\n",
            "138/138 [==============================] - 17s 117ms/step - loss: 0.0575 - accuracy: 0.9902 - val_loss: 0.2570 - val_accuracy: 0.9667\n",
            "Epoch 21/200\n",
            "138/138 [==============================] - 17s 115ms/step - loss: 0.0478 - accuracy: 0.9918 - val_loss: 0.3516 - val_accuracy: 0.9694\n",
            "Epoch 22/200\n",
            "138/138 [==============================] - 17s 116ms/step - loss: 0.0629 - accuracy: 0.9879 - val_loss: 0.2867 - val_accuracy: 0.9667\n",
            "Epoch 23/200\n",
            "138/138 [==============================] - 17s 116ms/step - loss: 0.0390 - accuracy: 0.9920 - val_loss: 0.4065 - val_accuracy: 0.9611\n",
            "Epoch 24/200\n",
            "138/138 [==============================] - 17s 116ms/step - loss: 0.0423 - accuracy: 0.9907 - val_loss: 0.4907 - val_accuracy: 0.9472\n",
            "Epoch 25/200\n",
            "138/138 [==============================] - 17s 117ms/step - loss: 0.0581 - accuracy: 0.9913 - val_loss: 0.4089 - val_accuracy: 0.9611\n",
            "Epoch 26/200\n",
            "137/138 [============================>.] - ETA: 0s - loss: 0.0622 - accuracy: 0.9909Restoring model weights from the end of the best epoch: 16.\n",
            "138/138 [==============================] - 17s 116ms/step - loss: 0.0620 - accuracy: 0.9909 - val_loss: 0.3161 - val_accuracy: 0.9611\n",
            "Epoch 00026: early stopping\n"
          ]
        }
      ]
    },
    {
      "cell_type": "code",
      "metadata": {
        "colab": {
          "base_uri": "https://localhost:8080/",
          "height": 295
        },
        "id": "2PPKm5euoRAs",
        "outputId": "265a2c88-9a3a-4c1b-ab35-040f2b81300c"
      },
      "source": [
        "import matplotlib.pyplot as plt\n",
        "\n",
        "plt.plot(h.history['accuracy'])\n",
        "plt.plot(h.history['val_accuracy'])\n",
        "plt.plot(h.history['loss'])\n",
        "plt.title('Model accuracy')\n",
        "plt.ylabel('accuracy')\n",
        "plt.xlabel('epoch')\n",
        "plt.legend(['training', 'validation','loss'], loc='upper right')\n",
        "plt.show()"
      ],
      "execution_count": 35,
      "outputs": [
        {
          "output_type": "display_data",
          "data": {
            "image/png": "[encoded data removed]",
            "text/plain": [
              "<Figure size 432x288 with 1 Axes>"
            ]
          },
          "metadata": {
            "needs_background": "light"
          }
        }
      ]
    },
    {
      "cell_type": "markdown",
      "metadata": {
        "id": "TVOKAhbsm_pw"
      },
      "source": [
        "## Evaluación de los resultados"
      ]
    },
    {
      "cell_type": "code",
      "metadata": {
        "colab": {
          "base_uri": "https://localhost:8080/",
          "height": 541
        },
        "id": "IkyaTtnAKfqA",
        "outputId": "c1547ab2-826f-4583-c671-a773105b1a9f"
      },
      "source": [
        "import numpy as np\n",
        "from sklearn.metrics import classification_report, confusion_matrix\n",
        "import seaborn as sns\n",
        "\n",
        "results = np.concatenate([(y, model.predict(x=x)) for x, y in val_ds], axis=1)\n",
        "\n",
        "predictions = np.argmax(results[0], axis=1)\n",
        "labels = np.argmax(results[1], axis=1)\n",
        "\n",
        "cf_matrix = confusion_matrix(labels, predictions)\n",
        "\n",
        "sns.heatmap(cf_matrix, annot=True, fmt=\"d\", cmap=\"Blues\")\n",
        "\n",
        "print(classification_report(labels, predictions, digits = 4))"
      ],
      "execution_count": 36,
      "outputs": [
        {
          "output_type": "stream",
          "name": "stdout",
          "text": [
            "              precision    recall  f1-score   support\n",
            "\n",
            "           0     1.0000    0.8889    0.9412        45\n",
            "           1     0.9000    0.9474    0.9231        38\n",
            "           2     0.9500    0.9744    0.9620        39\n",
            "           3     1.0000    1.0000    1.0000        40\n",
            "           4     0.9500    1.0000    0.9744        38\n",
            "           5     0.9750    1.0000    0.9873        39\n",
            "           6     0.9500    0.9744    0.9620        39\n",
            "           7     1.0000    0.9756    0.9877        41\n",
            "           8     1.0000    0.9756    0.9877        41\n",
            "\n",
            "    accuracy                         0.9694       360\n",
            "   macro avg     0.9694    0.9707    0.9695       360\n",
            "weighted avg     0.9706    0.9694    0.9694       360\n",
            "\n"
          ]
        },
        {
          "output_type": "display_data",
          "data": {
            "image/png": "[encoded data removed]",
            "text/plain": [
              "<Figure size 432x288 with 2 Axes>"
            ]
          },
          "metadata": {
            "needs_background": "light"
          }
        }
      ]
    },
    {
      "cell_type": "code",
      "metadata": {
        "colab": {
          "base_uri": "https://localhost:8080/"
        },
        "id": "djAlHGLz-Cjj",
        "outputId": "b20987ee-567b-43f8-9ca0-bb4970359fe1"
      },
      "source": [
        "img = keras.preprocessing.image.load_img(\n",
        "    '/content/drive/My Drive/Colab Notebooks/datasets/Traffic-Signs/2/00021_00006_00000.png', target_size=image_size\n",
        ")\n",
        "img_array = keras.preprocessing.image.img_to_array(img)\n",
        "img_array = tf.expand_dims(img_array, 0)  # Create batch axis\n",
        "\n",
        "predictions = model.predict(img_array)\n",
        "print(np.argmax(predictions[0]))"
      ],
      "execution_count": 37,
      "outputs": [
        {
          "output_type": "stream",
          "name": "stdout",
          "text": [
            "1\n"
          ]
        }
      ]
    },
    {
      "cell_type": "code",
      "source": [
        "img = keras.preprocessing.image.load_img(\n",
        "    '/content/drive/My Drive/Colab Notebooks/imagenes/imagen5.png', target_size=image_size\n",
        ")\n",
        "img_array = keras.preprocessing.image.img_to_array(img)\n",
        "img_array = tf.expand_dims(img_array, 0)  # Create batch axis\n",
        "\n",
        "predictions = model.predict(img_array)\n",
        "print(np.argmax(predictions[0]))"
      ],
      "metadata": {
        "colab": {
          "base_uri": "https://localhost:8080/"
        },
        "id": "AjTaWk0IO5j8",
        "outputId": "59b62573-8485-46e1-9d8a-f7dff6788dd7"
      },
      "execution_count": 38,
      "outputs": [
        {
          "output_type": "stream",
          "name": "stdout",
          "text": [
            "5\n"
          ]
        }
      ]
    }
  ]
}