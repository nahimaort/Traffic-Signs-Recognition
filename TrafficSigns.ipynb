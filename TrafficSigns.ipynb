{
  "nbformat": 4,
  "nbformat_minor": 0,
  "metadata": {
    "colab": {
      "name": "TrafficSigns.ipynb",
      "provenance": [],
      "collapsed_sections": [],
      "include_colab_link": true
    },
    "kernelspec": {
      "display_name": "Python 3",
      "name": "python3"
    },
    "accelerator": "GPU"
  },
  "cells": [
    {
      "cell_type": "markdown",
      "metadata": {
        "id": "view-in-github",
        "colab_type": "text"
      },
      "source": [
        "<a href=\"https://colab.research.google.com/github/nahimaort/Traffic-Signs-Recognition/blob/main/TrafficSigns.ipynb\" target=\"_parent\"><img src=\"https://colab.research.google.com/assets/colab-badge.svg\" alt=\"Open In Colab\"/></a>"
      ]
    },
    {
      "cell_type": "markdown",
      "metadata": {
        "id": "cXD8sjjQLj-k"
      },
      "source": [
        "# Reconocedor de señales de tráfico\n",
        "\n",
        "Vamos a desarrollar una red que reconozca señales de tráfico de tipo precaución.\n",
        "\n",
        "\n"
      ]
    },
    {
      "cell_type": "code",
      "metadata": {
        "id": "yZcKFL_TMkzR",
        "colab": {
          "base_uri": "https://localhost:8080/"
        },
        "outputId": "15623da2-398f-4808-81af-5d2ab955cc82"
      },
      "source": [
        "from google.colab import drive\n",
        "drive.mount('/content/drive')\n",
        "\n",
        "\n"
      ],
      "execution_count": 1,
      "outputs": [
        {
          "output_type": "stream",
          "name": "stdout",
          "text": [
            "Mounted at /content/drive\n"
          ]
        }
      ]
    },
    {
      "cell_type": "code",
      "metadata": {
        "colab": {
          "base_uri": "https://localhost:8080/",
          "height": 37
        },
        "id": "eKjrirLcRIkU",
        "outputId": "eb16e777-a33a-4ee3-d811-55a801917923"
      },
      "source": [
        "import tensorflow as tf\n",
        "tf.test.gpu_device_name()"
      ],
      "execution_count": 2,
      "outputs": [
        {
          "output_type": "execute_result",
          "data": {
            "application/vnd.google.colaboratory.intrinsic+json": {
              "type": "string"
            },
            "text/plain": [
              "'/device:GPU:0'"
            ]
          },
          "metadata": {},
          "execution_count": 2
        }
      ]
    },
    {
      "cell_type": "markdown",
      "source": [
        "Vemos una imagen de ejemplo"
      ],
      "metadata": {
        "id": "N3zF5ip1kPjR"
      }
    },
    {
      "cell_type": "code",
      "metadata": {
        "colab": {
          "base_uri": "https://localhost:8080/",
          "height": 301
        },
        "id": "x3JBgGOsKu44",
        "outputId": "a98052dc-4e6a-497d-d6a3-31338ea0e2a8"
      },
      "source": [
        "!ls \"/content/drive/My Drive/Colab Notebooks/datasets/\"\n",
        "\n",
        "from matplotlib.pyplot import imshow\n",
        "import numpy as np\n",
        "from PIL import Image\n",
        "\n",
        "%matplotlib inline\n",
        "pil_im = Image.open('/content/drive/My Drive/Colab Notebooks/datasets/Traffic-Signs/5/00025_00040_00018.png', 'r')\n",
        "imshow(np.asarray(pil_im))\n",
        "\n"
      ],
      "execution_count": 3,
      "outputs": [
        {
          "output_type": "stream",
          "name": "stdout",
          "text": [
            "Traffic-Signs  Traffic-Signs-2\tTraffic-Signs-Validation\n"
          ]
        },
        {
          "output_type": "execute_result",
          "data": {
            "text/plain": [
              "<matplotlib.image.AxesImage at 0x7f7d4003eb90>"
            ]
          },
          "metadata": {},
          "execution_count": 3
        },
        {
          "output_type": "display_data",
          "data": {
            "image/png": "[encoded data removed]",
            "text/plain": [
              "<Figure size 432x288 with 1 Axes>"
            ]
          },
          "metadata": {
            "needs_background": "light"
          }
        }
      ]
    },
    {
      "cell_type": "markdown",
      "source": [
        "## Data Augmentation"
      ],
      "metadata": {
        "id": "X7U_9Zjj9WsA"
      }
    },
    {
      "cell_type": "code",
      "source": [
        "from keras.preprocessing.image import ImageDataGenerator, array_to_img, img_to_array, load_img\n",
        "import glob\n",
        "\n",
        "datagen = ImageDataGenerator(\n",
        "  horizontal_flip=False,\n",
        "\tvertical_flip=False,\n",
        "\trotation_range=25,\n",
        "\tzoom_range=0.20,\n",
        "\tshear_range=0.20,\n",
        "\tfill_mode=\"nearest\")\n",
        "\n",
        "for i in range(1, 10, 1):\n",
        "  for name in glob.glob(\"/content/drive/My Drive/Colab Notebooks/datasets/Traffic-Signs/\" + str(i) + \"/*.png\"):\n",
        "    img = load_img(name)\n",
        "    x = img_to_array(img)\n",
        "    x = x.reshape((1,) + x.shape) \n",
        "    j = 0\n",
        "    for batch in datagen.flow(x, batch_size=1,\n",
        "                                  save_to_dir=\"/content/drive/My Drive/Colab Notebooks/datasets/Traffic-Signs/\" + str(i) + \"/da/\", \n",
        "                              save_prefix=\"image\", save_format='png'):\n",
        "      j += 1\n",
        "      if j >= 2:\n",
        "        break\n",
        "print(\"Finalización del aumento de datos\")"
      ],
      "metadata": {
        "id": "Wj1hJvCa9ZAA"
      },
      "execution_count": null,
      "outputs": []
    },
    {
      "cell_type": "markdown",
      "metadata": {
        "id": "UCaBgMS8OdiV"
      },
      "source": [
        "## Primer modelo"
      ]
    },
    {
      "cell_type": "code",
      "metadata": {
        "colab": {
          "base_uri": "https://localhost:8080/"
        },
        "id": "25NfZptPxjgD",
        "outputId": "0cbb757f-6db3-4823-c09f-7d80a9e876b1"
      },
      "source": [
        "# DATA SOURCE --------------------------------------------------\n",
        "\n",
        "image_size = (150, 150)\n",
        "batch_size = 32\n",
        "\n",
        "train_ds = tf.keras.preprocessing.image_dataset_from_directory(\n",
        "    \"/content/drive/My Drive/Colab Notebooks/datasets/Traffic-Signs\",\n",
        "    image_size=image_size,\n",
        "    batch_size=batch_size,\n",
        "    label_mode='categorical'\n",
        ")\n",
        "val_ds = tf.keras.preprocessing.image_dataset_from_directory(\n",
        "    \"/content/drive/My Drive/Colab Notebooks/datasets/Traffic-Signs-Validation\",\n",
        "    image_size=image_size,\n",
        "    batch_size=batch_size,\n",
        "    label_mode='categorical'\n",
        ")\n",
        "\n",
        "train_ds = train_ds.prefetch(buffer_size=32)\n",
        "val_ds = val_ds.prefetch(buffer_size=32)"
      ],
      "execution_count": 4,
      "outputs": [
        {
          "output_type": "stream",
          "name": "stdout",
          "text": [
            "Found 4393 files belonging to 9 classes.\n",
            "Found 360 files belonging to 9 classes.\n"
          ]
        }
      ]
    },
    {
      "cell_type": "code",
      "metadata": {
        "id": "e5tVrY9gxyfJ"
      },
      "source": [
        "# MODEL --------------------------------------------------\n",
        "\n",
        "import tensorflow as tf\n",
        "from tensorflow import keras\n",
        "from tensorflow.keras.layers import Conv2D, MaxPooling2D, Dropout, Dense, Rescaling, Flatten\n",
        "from tensorflow.keras.callbacks import EarlyStopping\n",
        "\n",
        "model = keras.Sequential()\n",
        "model.add(Rescaling(scale=(1./127.5),\n",
        "                    offset=-1, \n",
        "                    input_shape=(150, 150, 3)))\n",
        "model.add(Conv2D(32, kernel_size=(5, 5), activation='relu'))\n",
        "model.add(MaxPooling2D(pool_size=(2, 2)))\n",
        "model.add(Conv2D(64, (5, 5), activation='relu'))\n",
        "model.add(MaxPooling2D(pool_size=(2, 2)))\n",
        "model.add(Dropout(0.25))\n",
        "model.add(Conv2D(128, (5, 5), activation='relu'))\n",
        "model.add(MaxPooling2D(pool_size=(2, 2)))\n",
        "model.add(Dropout(0.25))\n",
        "\n",
        "model.add(Flatten())\n",
        "model.add(Dense(128, activation='relu'))\n",
        "model.add(Dropout(0.5))\n",
        "model.add(Dense(9, activation='softmax'))\n",
        "\n",
        "model.compile(loss=tf.keras.losses.categorical_crossentropy,\n",
        "              optimizer=tf.keras.optimizers.Nadam(1e-3),\n",
        "              metrics=['accuracy'])"
      ],
      "execution_count": 11,
      "outputs": []
    },
    {
      "cell_type": "code",
      "metadata": {
        "colab": {
          "base_uri": "https://localhost:8080/"
        },
        "id": "-AiE5BwazFFK",
        "outputId": "bd10b594-0d9a-431c-ff14-a7f0a8a082eb"
      },
      "source": [
        "# TRAINING --------------------------------------------------\n",
        "\n",
        "epochs = 200\n",
        "\n",
        "es = EarlyStopping(monitor='val_accuracy', mode='max', verbose=1, patience=10, restore_best_weights=True)\n",
        "\n",
        "h = model.fit(\n",
        "        train_ds,\n",
        "        epochs=epochs, \n",
        "        validation_data=val_ds,\n",
        "        callbacks = [es]\n",
        ")"
      ],
      "execution_count": 12,
      "outputs": [
        {
          "output_type": "stream",
          "name": "stdout",
          "text": [
            "Epoch 1/200\n",
            "138/138 [==============================] - 207s 1s/step - loss: 1.1602 - accuracy: 0.6105 - val_loss: 0.3824 - val_accuracy: 0.9000\n",
            "Epoch 2/200\n",
            "138/138 [==============================] - 16s 113ms/step - loss: 0.2334 - accuracy: 0.9294 - val_loss: 0.1791 - val_accuracy: 0.9500\n",
            "Epoch 3/200\n",
            "138/138 [==============================] - 16s 114ms/step - loss: 0.1237 - accuracy: 0.9604 - val_loss: 0.1655 - val_accuracy: 0.9556\n",
            "Epoch 4/200\n",
            "138/138 [==============================] - 16s 115ms/step - loss: 0.0713 - accuracy: 0.9781 - val_loss: 0.4617 - val_accuracy: 0.8806\n",
            "Epoch 5/200\n",
            "138/138 [==============================] - 16s 114ms/step - loss: 0.0918 - accuracy: 0.9718 - val_loss: 0.2107 - val_accuracy: 0.9472\n",
            "Epoch 6/200\n",
            "138/138 [==============================] - 16s 114ms/step - loss: 0.0810 - accuracy: 0.9777 - val_loss: 0.1749 - val_accuracy: 0.9694\n",
            "Epoch 7/200\n",
            "138/138 [==============================] - 17s 115ms/step - loss: 0.0566 - accuracy: 0.9838 - val_loss: 0.2142 - val_accuracy: 0.9444\n",
            "Epoch 8/200\n",
            "138/138 [==============================] - 16s 114ms/step - loss: 0.0484 - accuracy: 0.9861 - val_loss: 0.2036 - val_accuracy: 0.9389\n",
            "Epoch 9/200\n",
            "138/138 [==============================] - 16s 113ms/step - loss: 0.0662 - accuracy: 0.9820 - val_loss: 0.2006 - val_accuracy: 0.9583\n",
            "Epoch 10/200\n",
            "138/138 [==============================] - 16s 113ms/step - loss: 0.0400 - accuracy: 0.9893 - val_loss: 0.1809 - val_accuracy: 0.9639\n",
            "Epoch 11/200\n",
            "138/138 [==============================] - 16s 114ms/step - loss: 0.0443 - accuracy: 0.9877 - val_loss: 0.2274 - val_accuracy: 0.9444\n",
            "Epoch 12/200\n",
            "138/138 [==============================] - 17s 115ms/step - loss: 0.0361 - accuracy: 0.9884 - val_loss: 0.2121 - val_accuracy: 0.9583\n",
            "Epoch 13/200\n",
            "138/138 [==============================] - 17s 115ms/step - loss: 0.0342 - accuracy: 0.9911 - val_loss: 0.4190 - val_accuracy: 0.9222\n",
            "Epoch 14/200\n",
            "138/138 [==============================] - 17s 115ms/step - loss: 0.0983 - accuracy: 0.9745 - val_loss: 0.1353 - val_accuracy: 0.9583\n",
            "Epoch 15/200\n",
            "138/138 [==============================] - 17s 115ms/step - loss: 0.2316 - accuracy: 0.9583 - val_loss: 0.2415 - val_accuracy: 0.9528\n",
            "Epoch 16/200\n",
            "137/138 [============================>.] - ETA: 0s - loss: 0.0731 - accuracy: 0.9829Restoring model weights from the end of the best epoch: 6.\n",
            "138/138 [==============================] - 17s 116ms/step - loss: 0.0732 - accuracy: 0.9829 - val_loss: 0.2994 - val_accuracy: 0.9556\n",
            "Epoch 00016: early stopping\n"
          ]
        }
      ]
    },
    {
      "cell_type": "code",
      "metadata": {
        "colab": {
          "base_uri": "https://localhost:8080/",
          "height": 295
        },
        "id": "2PPKm5euoRAs",
        "outputId": "384d68bf-92ac-449a-94d0-24edeebb1465"
      },
      "source": [
        "import matplotlib.pyplot as plt\n",
        "\n",
        "plt.plot(h.history['accuracy'])\n",
        "plt.plot(h.history['val_accuracy'])\n",
        "plt.plot(h.history['loss'])\n",
        "plt.title('Model accuracy')\n",
        "plt.ylabel('accuracy')\n",
        "plt.xlabel('epoch')\n",
        "plt.legend(['training', 'validation','loss'], loc='upper right')\n",
        "plt.show()"
      ],
      "execution_count": 13,
      "outputs": [
        {
          "output_type": "display_data",
          "data": {
            "image/png": "[encoded data removed]",
            "text/plain": [
              "<Figure size 432x288 with 1 Axes>"
            ]
          },
          "metadata": {
            "needs_background": "light"
          }
        }
      ]
    },
    {
      "cell_type": "markdown",
      "metadata": {
        "id": "TVOKAhbsm_pw"
      },
      "source": [
        "## Evaluación de los resultados"
      ]
    },
    {
      "cell_type": "code",
      "metadata": {
        "colab": {
          "base_uri": "https://localhost:8080/",
          "height": 541
        },
        "id": "IkyaTtnAKfqA",
        "outputId": "cd0cd7e0-267f-4dd4-914b-6db5b92996df"
      },
      "source": [
        "import numpy as np\n",
        "from sklearn.metrics import classification_report, confusion_matrix\n",
        "import seaborn as sns\n",
        "\n",
        "results = np.concatenate([(y, model.predict(x=x)) for x, y in val_ds], axis=1)\n",
        "\n",
        "predictions = np.argmax(results[0], axis=1)\n",
        "labels = np.argmax(results[1], axis=1)\n",
        "\n",
        "cf_matrix = confusion_matrix(labels, predictions)\n",
        "\n",
        "sns.heatmap(cf_matrix, annot=True, fmt=\"d\", cmap=\"Blues\")\n",
        "\n",
        "print(classification_report(labels, predictions, digits = 4))"
      ],
      "execution_count": 14,
      "outputs": [
        {
          "output_type": "stream",
          "name": "stdout",
          "text": [
            "              precision    recall  f1-score   support\n",
            "\n",
            "           0     1.0000    0.9302    0.9639        43\n",
            "           1     1.0000    0.9302    0.9639        43\n",
            "           2     0.9500    0.9744    0.9620        39\n",
            "           3     0.9750    1.0000    0.9873        39\n",
            "           4     0.9250    1.0000    0.9610        37\n",
            "           5     1.0000    1.0000    1.0000        40\n",
            "           6     0.8750    1.0000    0.9333        35\n",
            "           7     1.0000    0.9524    0.9756        42\n",
            "           8     1.0000    0.9524    0.9756        42\n",
            "\n",
            "    accuracy                         0.9694       360\n",
            "   macro avg     0.9694    0.9711    0.9692       360\n",
            "weighted avg     0.9720    0.9694    0.9697       360\n",
            "\n"
          ]
        },
        {
          "output_type": "display_data",
          "data": {
            "image/png": "[encoded data removed]",
            "text/plain": [
              "<Figure size 432x288 with 2 Axes>"
            ]
          },
          "metadata": {
            "needs_background": "light"
          }
        }
      ]
    },
    {
      "cell_type": "code",
      "metadata": {
        "colab": {
          "base_uri": "https://localhost:8080/"
        },
        "id": "djAlHGLz-Cjj",
        "outputId": "12e4a4fd-2ad9-43fd-c7dd-84c27928c28c"
      },
      "source": [
        "img = keras.preprocessing.image.load_img(\n",
        "    '/content/drive/My Drive/Colab Notebooks/datasets/Traffic-Signs/2/00021_00006_00000.png', target_size=image_size\n",
        ")\n",
        "img_array = keras.preprocessing.image.img_to_array(img)\n",
        "img_array = tf.expand_dims(img_array, 0)  # Create batch axis\n",
        "\n",
        "predictions = model.predict(img_array)\n",
        "print(np.argmax(predictions[0]))"
      ],
      "execution_count": 15,
      "outputs": [
        {
          "output_type": "stream",
          "name": "stdout",
          "text": [
            "1\n"
          ]
        }
      ]
    },
    {
      "cell_type": "code",
      "source": [
        "img = keras.preprocessing.image.load_img(\n",
        "    '/content/drive/My Drive/Colab Notebooks/imagenes/imagen5.png', target_size=image_size\n",
        ")\n",
        "img_array = keras.preprocessing.image.img_to_array(img)\n",
        "img_array = tf.expand_dims(img_array, 0)  # Create batch axis\n",
        "\n",
        "predictions = model.predict(img_array)\n",
        "print(np.argmax(predictions[0]))"
      ],
      "metadata": {
        "colab": {
          "base_uri": "https://localhost:8080/"
        },
        "id": "AjTaWk0IO5j8",
        "outputId": "972424c7-b8c6-48d7-aea1-015b653d75df"
      },
      "execution_count": 16,
      "outputs": [
        {
          "output_type": "stream",
          "name": "stdout",
          "text": [
            "5\n"
          ]
        }
      ]
    }
  ]
}