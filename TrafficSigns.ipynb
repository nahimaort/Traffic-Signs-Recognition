{
  "nbformat": 4,
  "nbformat_minor": 0,
  "metadata": {
    "colab": {
      "name": "TrafficSigns.ipynb",
      "provenance": [],
      "collapsed_sections": [],
      "include_colab_link": true
    },
    "kernelspec": {
      "display_name": "Python 3",
      "name": "python3"
    },
    "accelerator": "GPU"
  },
  "cells": [
    {
      "cell_type": "markdown",
      "metadata": {
        "id": "view-in-github",
        "colab_type": "text"
      },
      "source": [
        "<a href=\"https://colab.research.google.com/github/nahimaort/Traffic-Signs-Recognition/blob/main/TrafficSigns.ipynb\" target=\"_parent\"><img src=\"https://colab.research.google.com/assets/colab-badge.svg\" alt=\"Open In Colab\"/></a>"
      ]
    },
    {
      "cell_type": "markdown",
      "metadata": {
        "id": "cXD8sjjQLj-k"
      },
      "source": [
        "# Reconocedor de señales de tráfico\n",
        "\n",
        "Vamos a desarrollar una red que reconozca señales de tráfico de tipo precaución.\n",
        "\n",
        "\n"
      ]
    },
    {
      "cell_type": "code",
      "metadata": {
        "id": "yZcKFL_TMkzR",
        "colab": {
          "base_uri": "https://localhost:8080/"
        },
        "outputId": "15623da2-398f-4808-81af-5d2ab955cc82"
      },
      "source": [
        "from google.colab import drive\n",
        "drive.mount('/content/drive')\n",
        "\n",
        "\n"
      ],
      "execution_count": null,
      "outputs": [
        {
          "output_type": "stream",
          "name": "stdout",
          "text": [
            "Mounted at /content/drive\n"
          ]
        }
      ]
    },
    {
      "cell_type": "code",
      "metadata": {
        "colab": {
          "base_uri": "https://localhost:8080/",
          "height": 37
        },
        "id": "eKjrirLcRIkU",
        "outputId": "eb16e777-a33a-4ee3-d811-55a801917923"
      },
      "source": [
        "import tensorflow as tf\n",
        "tf.test.gpu_device_name()"
      ],
      "execution_count": null,
      "outputs": [
        {
          "output_type": "execute_result",
          "data": {
            "application/vnd.google.colaboratory.intrinsic+json": {
              "type": "string"
            },
            "text/plain": [
              "'/device:GPU:0'"
            ]
          },
          "metadata": {},
          "execution_count": 2
        }
      ]
    },
    {
      "cell_type": "markdown",
      "source": [
        "Vemos una imagen de ejemplo"
      ],
      "metadata": {
        "id": "N3zF5ip1kPjR"
      }
    },
    {
      "cell_type": "code",
      "metadata": {
        "colab": {
          "base_uri": "https://localhost:8080/",
          "height": 301
        },
        "id": "x3JBgGOsKu44",
        "outputId": "a98052dc-4e6a-497d-d6a3-31338ea0e2a8"
      },
      "source": [
        "!ls \"/content/drive/My Drive/Colab Notebooks/datasets/\"\n",
        "\n",
        "from matplotlib.pyplot import imshow\n",
        "import numpy as np\n",
        "from PIL import Image\n",
        "\n",
        "%matplotlib inline\n",
        "pil_im = Image.open('/content/drive/My Drive/Colab Notebooks/datasets/Traffic-Signs/5/00025_00040_00018.png', 'r')\n",
        "imshow(np.asarray(pil_im))\n",
        "\n"
      ],
      "execution_count": null,
      "outputs": [
        {
          "output_type": "stream",
          "name": "stdout",
          "text": [
            "Traffic-Signs  Traffic-Signs-2\tTraffic-Signs-Validation\n"
          ]
        },
        {
          "output_type": "execute_result",
          "data": {
            "text/plain": [
              "<matplotlib.image.AxesImage at 0x7f7d4003eb90>"
            ]
          },
          "metadata": {},
          "execution_count": 3
        },
        {
          "output_type": "display_data",
          "data": {
            "image/png": "[encoded data removed]",
            "text/plain": [
              "<Figure size 432x288 with 1 Axes>"
            ]
          },
          "metadata": {
            "needs_background": "light"
          }
        }
      ]
    },
    {
      "cell_type": "markdown",
      "source": [
        "## Data Augmentation"
      ],
      "metadata": {
        "id": "X7U_9Zjj9WsA"
      }
    },
    {
      "cell_type": "code",
      "source": [
        "from keras.preprocessing.image import ImageDataGenerator, array_to_img, img_to_array, load_img\n",
        "import glob\n",
        "\n",
        "datagen = ImageDataGenerator(\n",
        "  horizontal_flip=False,\n",
        "\tvertical_flip=False,\n",
        "\trotation_range=25,\n",
        "\tzoom_range=0.20,\n",
        "\tshear_range=0.20,\n",
        "\tfill_mode=\"nearest\")\n",
        "\n",
        "for i in range(1, 10, 1):\n",
        "  for name in glob.glob(\"/content/drive/My Drive/Colab Notebooks/datasets/Traffic-Signs/\" + str(i) + \"/*.png\"):\n",
        "    img = load_img(name)\n",
        "    x = img_to_array(img)\n",
        "    x = x.reshape((1,) + x.shape) \n",
        "    j = 0\n",
        "    for batch in datagen.flow(x, batch_size=1,\n",
        "                                  save_to_dir=\"/content/drive/My Drive/Colab Notebooks/datasets/Traffic-Signs/\" + str(i) + \"/da/\", \n",
        "                              save_prefix=\"image\", save_format='png'):\n",
        "      j += 1\n",
        "      if j >= 2:\n",
        "        break\n",
        "print(\"Finalización del aumento de datos\")"
      ],
      "metadata": {
        "id": "Wj1hJvCa9ZAA"
      },
      "execution_count": null,
      "outputs": []
    },
    {
      "cell_type": "markdown",
      "metadata": {
        "id": "UCaBgMS8OdiV"
      },
      "source": [
        "## Primer modelo"
      ]
    },
    {
      "cell_type": "code",
      "metadata": {
        "colab": {
          "base_uri": "https://localhost:8080/"
        },
        "id": "25NfZptPxjgD",
        "outputId": "0cbb757f-6db3-4823-c09f-7d80a9e876b1"
      },
      "source": [
        "# DATA SOURCE --------------------------------------------------\n",
        "\n",
        "image_size = (150, 150)\n",
        "batch_size = 32\n",
        "\n",
        "train_ds = tf.keras.preprocessing.image_dataset_from_directory(\n",
        "    \"/content/drive/My Drive/Colab Notebooks/datasets/Traffic-Signs\",\n",
        "    image_size=image_size,\n",
        "    batch_size=batch_size,\n",
        "    label_mode='categorical'\n",
        ")\n",
        "val_ds = tf.keras.preprocessing.image_dataset_from_directory(\n",
        "    \"/content/drive/My Drive/Colab Notebooks/datasets/Traffic-Signs-Validation\",\n",
        "    image_size=image_size,\n",
        "    batch_size=batch_size,\n",
        "    label_mode='categorical'\n",
        ")\n",
        "\n",
        "train_ds = train_ds.prefetch(buffer_size=32)\n",
        "val_ds = val_ds.prefetch(buffer_size=32)"
      ],
      "execution_count": null,
      "outputs": [
        {
          "output_type": "stream",
          "name": "stdout",
          "text": [
            "Found 4393 files belonging to 9 classes.\n",
            "Found 360 files belonging to 9 classes.\n"
          ]
        }
      ]
    },
    {
      "cell_type": "code",
      "metadata": {
        "id": "e5tVrY9gxyfJ"
      },
      "source": [
        "# MODEL --------------------------------------------------\n",
        "\n",
        "import tensorflow as tf\n",
        "from tensorflow import keras\n",
        "from tensorflow.keras.layers import Conv2D, MaxPooling2D, Dropout, Dense, Rescaling, Flatten\n",
        "from tensorflow.keras.callbacks import EarlyStopping\n",
        "\n",
        "model = keras.Sequential()\n",
        "model.add(Rescaling(scale=(1./127.5),\n",
        "                    offset=-1, \n",
        "                    input_shape=(150, 150, 3)))\n",
        "model.add(Conv2D(32, kernel_size=(5, 5), activation='relu'))\n",
        "model.add(MaxPooling2D(pool_size=(2, 2)))\n",
        "model.add(Conv2D(64, (5, 5), activation='relu'))\n",
        "model.add(MaxPooling2D(pool_size=(2, 2)))\n",
        "model.add(Dropout(0.5))\n",
        "model.add(Conv2D(128, (5, 5), activation='relu'))\n",
        "model.add(MaxPooling2D(pool_size=(2, 2)))\n",
        "model.add(Dropout(0.5))\n",
        "\n",
        "model.add(Flatten())\n",
        "model.add(Dense(128, activation='relu'))\n",
        "model.add(Dropout(0.5))\n",
        "model.add(Dense(9, activation='softmax'))\n",
        "\n",
        "model.compile(loss=tf.keras.losses.categorical_crossentropy,\n",
        "              optimizer=tf.keras.optimizers.Adam(1e-3),\n",
        "              metrics=['accuracy'])"
      ],
      "execution_count": 23,
      "outputs": []
    },
    {
      "cell_type": "code",
      "metadata": {
        "colab": {
          "base_uri": "https://localhost:8080/"
        },
        "id": "-AiE5BwazFFK",
        "outputId": "5457e32d-bb49-4660-d358-01eb040183d9"
      },
      "source": [
        "# TRAINING --------------------------------------------------\n",
        "\n",
        "epochs = 200\n",
        "\n",
        "es = EarlyStopping(monitor='val_accuracy', mode='max', verbose=1, patience=10, restore_best_weights=True)\n",
        "\n",
        "h = model.fit(\n",
        "        train_ds,\n",
        "        epochs=epochs, \n",
        "        validation_data=val_ds,\n",
        "        callbacks = [es]\n",
        ")"
      ],
      "execution_count": 24,
      "outputs": [
        {
          "output_type": "stream",
          "name": "stdout",
          "text": [
            "Epoch 1/200\n",
            "138/138 [==============================] - 17s 116ms/step - loss: 1.6453 - accuracy: 0.3981 - val_loss: 0.7211 - val_accuracy: 0.8361\n",
            "Epoch 2/200\n",
            "138/138 [==============================] - 17s 118ms/step - loss: 0.5428 - accuracy: 0.8165 - val_loss: 0.3531 - val_accuracy: 0.9111\n",
            "Epoch 3/200\n",
            "138/138 [==============================] - 16s 114ms/step - loss: 0.3031 - accuracy: 0.9039 - val_loss: 0.2368 - val_accuracy: 0.9472\n",
            "Epoch 4/200\n",
            "138/138 [==============================] - 16s 114ms/step - loss: 0.2270 - accuracy: 0.9237 - val_loss: 0.2012 - val_accuracy: 0.9500\n",
            "Epoch 5/200\n",
            "138/138 [==============================] - 16s 114ms/step - loss: 0.2031 - accuracy: 0.9340 - val_loss: 0.1975 - val_accuracy: 0.9472\n",
            "Epoch 6/200\n",
            "138/138 [==============================] - 17s 115ms/step - loss: 0.1309 - accuracy: 0.9533 - val_loss: 0.1918 - val_accuracy: 0.9556\n",
            "Epoch 7/200\n",
            "138/138 [==============================] - 16s 114ms/step - loss: 0.1515 - accuracy: 0.9501 - val_loss: 0.1602 - val_accuracy: 0.9528\n",
            "Epoch 8/200\n",
            "138/138 [==============================] - 17s 116ms/step - loss: 0.1094 - accuracy: 0.9665 - val_loss: 0.2170 - val_accuracy: 0.9472\n",
            "Epoch 9/200\n",
            "138/138 [==============================] - 17s 119ms/step - loss: 0.1107 - accuracy: 0.9656 - val_loss: 0.1907 - val_accuracy: 0.9583\n",
            "Epoch 10/200\n",
            "138/138 [==============================] - 16s 114ms/step - loss: 0.0972 - accuracy: 0.9729 - val_loss: 0.1451 - val_accuracy: 0.9583\n",
            "Epoch 11/200\n",
            "138/138 [==============================] - 17s 119ms/step - loss: 0.0904 - accuracy: 0.9715 - val_loss: 0.1228 - val_accuracy: 0.9639\n",
            "Epoch 12/200\n",
            "138/138 [==============================] - 17s 115ms/step - loss: 0.0867 - accuracy: 0.9759 - val_loss: 0.1136 - val_accuracy: 0.9694\n",
            "Epoch 13/200\n",
            "138/138 [==============================] - 16s 114ms/step - loss: 0.0801 - accuracy: 0.9754 - val_loss: 0.1835 - val_accuracy: 0.9472\n",
            "Epoch 14/200\n",
            "138/138 [==============================] - 17s 116ms/step - loss: 0.1066 - accuracy: 0.9711 - val_loss: 0.1922 - val_accuracy: 0.9417\n",
            "Epoch 15/200\n",
            "138/138 [==============================] - 18s 122ms/step - loss: 0.0683 - accuracy: 0.9777 - val_loss: 0.1280 - val_accuracy: 0.9722\n",
            "Epoch 16/200\n",
            "138/138 [==============================] - 16s 115ms/step - loss: 0.0703 - accuracy: 0.9779 - val_loss: 0.1985 - val_accuracy: 0.9500\n",
            "Epoch 17/200\n",
            "138/138 [==============================] - 17s 116ms/step - loss: 0.0726 - accuracy: 0.9772 - val_loss: 0.1318 - val_accuracy: 0.9528\n",
            "Epoch 18/200\n",
            "138/138 [==============================] - 17s 120ms/step - loss: 0.0771 - accuracy: 0.9750 - val_loss: 0.1025 - val_accuracy: 0.9667\n",
            "Epoch 19/200\n",
            "138/138 [==============================] - 17s 121ms/step - loss: 0.0840 - accuracy: 0.9777 - val_loss: 0.2340 - val_accuracy: 0.9444\n",
            "Epoch 20/200\n",
            "138/138 [==============================] - 17s 116ms/step - loss: 0.0561 - accuracy: 0.9809 - val_loss: 0.1293 - val_accuracy: 0.9639\n",
            "Epoch 21/200\n",
            "138/138 [==============================] - 17s 115ms/step - loss: 0.0703 - accuracy: 0.9797 - val_loss: 0.1503 - val_accuracy: 0.9667\n",
            "Epoch 22/200\n",
            "138/138 [==============================] - 16s 115ms/step - loss: 0.0472 - accuracy: 0.9868 - val_loss: 0.1089 - val_accuracy: 0.9750\n",
            "Epoch 23/200\n",
            "138/138 [==============================] - 16s 114ms/step - loss: 0.0701 - accuracy: 0.9784 - val_loss: 0.1065 - val_accuracy: 0.9750\n",
            "Epoch 24/200\n",
            "138/138 [==============================] - 17s 115ms/step - loss: 0.0449 - accuracy: 0.9838 - val_loss: 0.1157 - val_accuracy: 0.9639\n",
            "Epoch 25/200\n",
            "138/138 [==============================] - 17s 115ms/step - loss: 0.0763 - accuracy: 0.9775 - val_loss: 0.1636 - val_accuracy: 0.9639\n",
            "Epoch 26/200\n",
            "138/138 [==============================] - 16s 115ms/step - loss: 0.0734 - accuracy: 0.9793 - val_loss: 0.1122 - val_accuracy: 0.9639\n",
            "Epoch 27/200\n",
            "138/138 [==============================] - 16s 114ms/step - loss: 0.0786 - accuracy: 0.9786 - val_loss: 0.1441 - val_accuracy: 0.9556\n",
            "Epoch 28/200\n",
            "138/138 [==============================] - 17s 118ms/step - loss: 0.0505 - accuracy: 0.9847 - val_loss: 0.1005 - val_accuracy: 0.9694\n",
            "Epoch 29/200\n",
            "138/138 [==============================] - 17s 119ms/step - loss: 0.0542 - accuracy: 0.9818 - val_loss: 0.1012 - val_accuracy: 0.9806\n",
            "Epoch 30/200\n",
            "138/138 [==============================] - 16s 114ms/step - loss: 0.0676 - accuracy: 0.9804 - val_loss: 0.1556 - val_accuracy: 0.9667\n",
            "Epoch 31/200\n",
            "138/138 [==============================] - 17s 117ms/step - loss: 0.0527 - accuracy: 0.9847 - val_loss: 0.2000 - val_accuracy: 0.9611\n",
            "Epoch 32/200\n",
            "138/138 [==============================] - 17s 120ms/step - loss: 0.0608 - accuracy: 0.9836 - val_loss: 0.1759 - val_accuracy: 0.9667\n",
            "Epoch 33/200\n",
            "138/138 [==============================] - 17s 119ms/step - loss: 0.0552 - accuracy: 0.9838 - val_loss: 0.1492 - val_accuracy: 0.9694\n",
            "Epoch 34/200\n",
            "138/138 [==============================] - 17s 119ms/step - loss: 0.0431 - accuracy: 0.9868 - val_loss: 0.1066 - val_accuracy: 0.9778\n",
            "Epoch 35/200\n",
            "138/138 [==============================] - 17s 120ms/step - loss: 0.0522 - accuracy: 0.9873 - val_loss: 0.1046 - val_accuracy: 0.9750\n",
            "Epoch 36/200\n",
            "138/138 [==============================] - 16s 114ms/step - loss: 0.0432 - accuracy: 0.9873 - val_loss: 0.1523 - val_accuracy: 0.9750\n",
            "Epoch 37/200\n",
            "138/138 [==============================] - 17s 117ms/step - loss: 0.0409 - accuracy: 0.9873 - val_loss: 0.0936 - val_accuracy: 0.9750\n",
            "Epoch 38/200\n",
            "138/138 [==============================] - 16s 114ms/step - loss: 0.0568 - accuracy: 0.9877 - val_loss: 0.1106 - val_accuracy: 0.9694\n",
            "Epoch 39/200\n",
            "137/138 [============================>.] - ETA: 0s - loss: 0.0433 - accuracy: 0.9854Restoring model weights from the end of the best epoch: 29.\n",
            "138/138 [==============================] - 16s 115ms/step - loss: 0.0432 - accuracy: 0.9854 - val_loss: 0.0731 - val_accuracy: 0.9778\n",
            "Epoch 00039: early stopping\n"
          ]
        }
      ]
    },
    {
      "cell_type": "code",
      "metadata": {
        "colab": {
          "base_uri": "https://localhost:8080/",
          "height": 295
        },
        "id": "2PPKm5euoRAs",
        "outputId": "0c53d480-7d71-44af-936e-ebad68a970e2"
      },
      "source": [
        "import matplotlib.pyplot as plt\n",
        "\n",
        "plt.plot(h.history['accuracy'])\n",
        "plt.plot(h.history['val_accuracy'])\n",
        "plt.plot(h.history['loss'])\n",
        "plt.title('Model accuracy')\n",
        "plt.ylabel('accuracy')\n",
        "plt.xlabel('epoch')\n",
        "plt.legend(['training', 'validation','loss'], loc='upper right')\n",
        "plt.show()"
      ],
      "execution_count": 25,
      "outputs": [
        {
          "output_type": "display_data",
          "data": {
            "image/png": "[encoded data removed]",
            "text/plain": [
              "<Figure size 432x288 with 1 Axes>"
            ]
          },
          "metadata": {
            "needs_background": "light"
          }
        }
      ]
    },
    {
      "cell_type": "markdown",
      "metadata": {
        "id": "TVOKAhbsm_pw"
      },
      "source": [
        "## Evaluación de los resultados"
      ]
    },
    {
      "cell_type": "code",
      "metadata": {
        "colab": {
          "base_uri": "https://localhost:8080/",
          "height": 541
        },
        "id": "IkyaTtnAKfqA",
        "outputId": "2f6306f1-e701-4ba7-8254-e36e40b466b7"
      },
      "source": [
        "import numpy as np\n",
        "from sklearn.metrics import classification_report, confusion_matrix\n",
        "import seaborn as sns\n",
        "\n",
        "results = np.concatenate([(y, model.predict(x=x)) for x, y in val_ds], axis=1)\n",
        "\n",
        "predictions = np.argmax(results[0], axis=1)\n",
        "labels = np.argmax(results[1], axis=1)\n",
        "\n",
        "cf_matrix = confusion_matrix(labels, predictions)\n",
        "\n",
        "sns.heatmap(cf_matrix, annot=True, fmt=\"d\", cmap=\"Blues\")\n",
        "\n",
        "print(classification_report(labels, predictions, digits = 4))"
      ],
      "execution_count": 26,
      "outputs": [
        {
          "output_type": "stream",
          "name": "stdout",
          "text": [
            "              precision    recall  f1-score   support\n",
            "\n",
            "           0     1.0000    0.9524    0.9756        42\n",
            "           1     0.9750    0.9750    0.9750        40\n",
            "           2     1.0000    0.9524    0.9756        42\n",
            "           3     1.0000    1.0000    1.0000        40\n",
            "           4     0.9500    1.0000    0.9744        38\n",
            "           5     1.0000    1.0000    1.0000        40\n",
            "           6     0.9250    1.0000    0.9610        37\n",
            "           7     0.9750    0.9512    0.9630        41\n",
            "           8     1.0000    1.0000    1.0000        40\n",
            "\n",
            "    accuracy                         0.9806       360\n",
            "   macro avg     0.9806    0.9812    0.9805       360\n",
            "weighted avg     0.9814    0.9806    0.9806       360\n",
            "\n"
          ]
        },
        {
          "output_type": "display_data",
          "data": {
            "image/png": "[encoded data removed]",
            "text/plain": [
              "<Figure size 432x288 with 2 Axes>"
            ]
          },
          "metadata": {
            "needs_background": "light"
          }
        }
      ]
    },
    {
      "cell_type": "code",
      "metadata": {
        "colab": {
          "base_uri": "https://localhost:8080/"
        },
        "id": "djAlHGLz-Cjj",
        "outputId": "0bd1efec-9a37-496c-ea49-69772037c687"
      },
      "source": [
        "img = keras.preprocessing.image.load_img(\n",
        "    '/content/drive/My Drive/Colab Notebooks/datasets/Traffic-Signs/2/00021_00006_00000.png', target_size=image_size\n",
        ")\n",
        "img_array = keras.preprocessing.image.img_to_array(img)\n",
        "img_array = tf.expand_dims(img_array, 0)  # Create batch axis\n",
        "\n",
        "predictions = model.predict(img_array)\n",
        "print(np.argmax(predictions[0]))"
      ],
      "execution_count": 27,
      "outputs": [
        {
          "output_type": "stream",
          "name": "stdout",
          "text": [
            "1\n"
          ]
        }
      ]
    },
    {
      "cell_type": "code",
      "source": [
        "img = keras.preprocessing.image.load_img(\n",
        "    '/content/drive/My Drive/Colab Notebooks/imagenes/imagen5.png', target_size=image_size\n",
        ")\n",
        "img_array = keras.preprocessing.image.img_to_array(img)\n",
        "img_array = tf.expand_dims(img_array, 0)  # Create batch axis\n",
        "\n",
        "predictions = model.predict(img_array)\n",
        "print(np.argmax(predictions[0]))"
      ],
      "metadata": {
        "colab": {
          "base_uri": "https://localhost:8080/"
        },
        "id": "AjTaWk0IO5j8",
        "outputId": "6c8225dd-ec89-4438-ec55-dd4f1f925111"
      },
      "execution_count": 28,
      "outputs": [
        {
          "output_type": "stream",
          "name": "stdout",
          "text": [
            "5\n"
          ]
        }
      ]
    }
  ]
}