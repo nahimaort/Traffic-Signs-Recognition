{
  "nbformat": 4,
  "nbformat_minor": 0,
  "metadata": {
    "colab": {
      "name": "TrafficSigns.ipynb",
      "provenance": [],
      "collapsed_sections": [],
      "include_colab_link": true
    },
    "kernelspec": {
      "display_name": "Python 3",
      "name": "python3"
    },
    "accelerator": "GPU"
  },
  "cells": [
    {
      "cell_type": "markdown",
      "metadata": {
        "id": "view-in-github",
        "colab_type": "text"
      },
      "source": [
        "<a href=\"https://colab.research.google.com/github/nahimaort/Traffic-Signs-Recognition/blob/main/TrafficSigns.ipynb\" target=\"_parent\"><img src=\"https://colab.research.google.com/assets/colab-badge.svg\" alt=\"Open In Colab\"/></a>"
      ]
    },
    {
      "cell_type": "markdown",
      "metadata": {
        "id": "cXD8sjjQLj-k"
      },
      "source": [
        "# Reconocedor de señales de tráfico\n",
        "\n",
        "Vamos a desarrollar una red que reconozca señales de tráfico de tipo precaución.\n",
        "\n",
        "\n"
      ]
    },
    {
      "cell_type": "code",
      "metadata": {
        "id": "yZcKFL_TMkzR",
        "colab": {
          "base_uri": "https://localhost:8080/"
        },
        "outputId": "c3ca592e-cf0f-41ee-866e-0718cb0ea7ba"
      },
      "source": [
        "from google.colab import drive\n",
        "drive.mount('/content/drive')\n",
        "\n",
        "\n"
      ],
      "execution_count": 8,
      "outputs": [
        {
          "output_type": "stream",
          "name": "stdout",
          "text": [
            "Drive already mounted at /content/drive; to attempt to forcibly remount, call drive.mount(\"/content/drive\", force_remount=True).\n"
          ]
        }
      ]
    },
    {
      "cell_type": "code",
      "metadata": {
        "colab": {
          "base_uri": "https://localhost:8080/",
          "height": 37
        },
        "id": "eKjrirLcRIkU",
        "outputId": "f9d3e47f-69ae-488a-874a-71b65e65dc02"
      },
      "source": [
        "import tensorflow as tf\n",
        "tf.test.gpu_device_name()"
      ],
      "execution_count": 9,
      "outputs": [
        {
          "output_type": "execute_result",
          "data": {
            "application/vnd.google.colaboratory.intrinsic+json": {
              "type": "string"
            },
            "text/plain": [
              "'/device:GPU:0'"
            ]
          },
          "metadata": {},
          "execution_count": 9
        }
      ]
    },
    {
      "cell_type": "markdown",
      "source": [
        "Vemos una imagen de ejemplo"
      ],
      "metadata": {
        "id": "N3zF5ip1kPjR"
      }
    },
    {
      "cell_type": "code",
      "metadata": {
        "colab": {
          "base_uri": "https://localhost:8080/",
          "height": 301
        },
        "id": "x3JBgGOsKu44",
        "outputId": "3f8bd9fb-fbb5-4713-d8c5-555095d82fb1"
      },
      "source": [
        "!ls \"/content/drive/My Drive/Colab Notebooks/datasets/\"\n",
        "\n",
        "from matplotlib.pyplot import imshow\n",
        "import numpy as np\n",
        "from PIL import Image\n",
        "\n",
        "%matplotlib inline\n",
        "pil_im = Image.open('/content/drive/My Drive/Colab Notebooks/datasets/Traffic-Signs/5/00025_00040_00018.png', 'r')\n",
        "imshow(np.asarray(pil_im))\n",
        "\n"
      ],
      "execution_count": 10,
      "outputs": [
        {
          "output_type": "stream",
          "name": "stdout",
          "text": [
            "Traffic-Signs  Traffic-Signs-2\tTraffic-Signs-Validation\n"
          ]
        },
        {
          "output_type": "execute_result",
          "data": {
            "text/plain": [
              "<matplotlib.image.AxesImage at 0x7f6428066b10>"
            ]
          },
          "metadata": {},
          "execution_count": 10
        },
        {
          "output_type": "display_data",
          "data": {
            "image/png": "[encoded data removed]",
            "text/plain": [
              "<Figure size 432x288 with 1 Axes>"
            ]
          },
          "metadata": {
            "needs_background": "light"
          }
        }
      ]
    },
    {
      "cell_type": "markdown",
      "source": [
        "## Data Augmentation"
      ],
      "metadata": {
        "id": "X7U_9Zjj9WsA"
      }
    },
    {
      "cell_type": "code",
      "source": [
        "from keras.preprocessing.image import ImageDataGenerator, array_to_img, img_to_array, load_img\n",
        "import glob\n",
        "\n",
        "datagen = ImageDataGenerator(\n",
        "  horizontal_flip=False,\n",
        "\tvertical_flip=False,\n",
        "\trotation_range=25,\n",
        "\tzoom_range=0.20,\n",
        "\tshear_range=0.20,\n",
        "\tfill_mode=\"nearest\")\n",
        "\n",
        "for i in range(1, 10, 1):\n",
        "  for name in glob.glob(\"/content/drive/My Drive/Colab Notebooks/datasets/Traffic-Signs/\" + str(i) + \"/*.png\"):\n",
        "    img = load_img(name)\n",
        "    x = img_to_array(img)\n",
        "    x = x.reshape((1,) + x.shape) \n",
        "    j = 0\n",
        "    for batch in datagen.flow(x, batch_size=1,\n",
        "                                  save_to_dir=\"/content/drive/My Drive/Colab Notebooks/datasets/Traffic-Signs/\" + str(i) + \"/da/\", \n",
        "                              save_prefix=\"image\", save_format='png'):\n",
        "      j += 1\n",
        "      if j >= 2:\n",
        "        break\n",
        "print(\"Finalización del aumento de datos\")"
      ],
      "metadata": {
        "id": "Wj1hJvCa9ZAA",
        "colab": {
          "base_uri": "https://localhost:8080/"
        },
        "outputId": "1742ed7a-5aec-4289-e905-be97afd5fe42"
      },
      "execution_count": 11,
      "outputs": [
        {
          "output_type": "stream",
          "name": "stdout",
          "text": [
            "Finalización del aumento de datos\n"
          ]
        }
      ]
    },
    {
      "cell_type": "markdown",
      "metadata": {
        "id": "UCaBgMS8OdiV"
      },
      "source": [
        "## Primer modelo"
      ]
    },
    {
      "cell_type": "code",
      "metadata": {
        "colab": {
          "base_uri": "https://localhost:8080/"
        },
        "id": "25NfZptPxjgD",
        "outputId": "64162bb2-0ad6-418a-e18f-23604ed1890f"
      },
      "source": [
        "# DATA SOURCE --------------------------------------------------\n",
        "\n",
        "image_size = (150, 150)\n",
        "batch_size = 32\n",
        "\n",
        "train_ds = tf.keras.preprocessing.image_dataset_from_directory(\n",
        "    \"/content/drive/My Drive/Colab Notebooks/datasets/Traffic-Signs\",\n",
        "    image_size=image_size,\n",
        "    batch_size=batch_size,\n",
        "    label_mode='categorical'\n",
        ")\n",
        "val_ds = tf.keras.preprocessing.image_dataset_from_directory(\n",
        "    \"/content/drive/My Drive/Colab Notebooks/datasets/Traffic-Signs-Validation\",\n",
        "    image_size=image_size,\n",
        "    batch_size=batch_size,\n",
        "    label_mode='categorical'\n",
        ")\n",
        "\n",
        "train_ds = train_ds.prefetch(buffer_size=32)\n",
        "val_ds = val_ds.prefetch(buffer_size=32)"
      ],
      "execution_count": 12,
      "outputs": [
        {
          "output_type": "stream",
          "name": "stdout",
          "text": [
            "Found 4393 files belonging to 9 classes.\n",
            "Found 360 files belonging to 9 classes.\n"
          ]
        }
      ]
    },
    {
      "cell_type": "code",
      "metadata": {
        "id": "e5tVrY9gxyfJ"
      },
      "source": [
        "# MODEL --------------------------------------------------\n",
        "\n",
        "import tensorflow as tf\n",
        "from tensorflow import keras\n",
        "from tensorflow.keras.layers import Conv2D, MaxPooling2D, Dropout, Dense, Rescaling, Flatten\n",
        "from tensorflow.keras.callbacks import EarlyStopping\n",
        "\n",
        "model = keras.Sequential()\n",
        "model.add(Rescaling(scale=(1./127.5),\n",
        "                    offset=-1, \n",
        "                    input_shape=(150, 150, 3)))\n",
        "model.add(Conv2D(32, kernel_size=(3, 3), activation='relu'))\n",
        "model.add(MaxPooling2D(pool_size=(2, 2)))\n",
        "model.add(Conv2D(64, (3, 3), activation='relu'))\n",
        "model.add(MaxPooling2D(pool_size=(2, 2)))\n",
        "model.add(Dropout(0.25))\n",
        "model.add(Conv2D(128, (3, 3), activation='relu'))\n",
        "model.add(MaxPooling2D(pool_size=(2, 2)))\n",
        "model.add(Dropout(0.25))\n",
        "\n",
        "model.add(Flatten())\n",
        "model.add(Dense(128, activation='relu'))\n",
        "model.add(Dropout(0.5))\n",
        "model.add(Dense(9, activation='softmax'))\n",
        "\n",
        "model.compile(loss=tf.keras.losses.categorical_crossentropy,\n",
        "              optimizer=tf.keras.optimizers.SGD(1e-3),\n",
        "              metrics=['accuracy'])"
      ],
      "execution_count": 13,
      "outputs": []
    },
    {
      "cell_type": "code",
      "metadata": {
        "colab": {
          "base_uri": "https://localhost:8080/"
        },
        "id": "-AiE5BwazFFK",
        "outputId": "7bee6595-db38-4226-fcd7-ac831598086c"
      },
      "source": [
        "# TRAINING --------------------------------------------------\n",
        "\n",
        "epochs = 200\n",
        "\n",
        "es = EarlyStopping(monitor='val_accuracy', mode='max', verbose=1, patience=10, restore_best_weights=True)\n",
        "\n",
        "h = model.fit(\n",
        "        train_ds,\n",
        "        epochs=epochs, \n",
        "        validation_data=val_ds,\n",
        "        callbacks = [es]\n",
        ")"
      ],
      "execution_count": 14,
      "outputs": [
        {
          "output_type": "stream",
          "name": "stdout",
          "text": [
            "Epoch 1/200\n",
            "138/138 [==============================] - 47s 265ms/step - loss: 2.2011 - accuracy: 0.1220 - val_loss: 2.1766 - val_accuracy: 0.2056\n",
            "Epoch 2/200\n",
            "138/138 [==============================] - 18s 127ms/step - loss: 2.1731 - accuracy: 0.1614 - val_loss: 2.1578 - val_accuracy: 0.2611\n",
            "Epoch 3/200\n",
            "138/138 [==============================] - 18s 124ms/step - loss: 2.1433 - accuracy: 0.1887 - val_loss: 2.1353 - val_accuracy: 0.2694\n",
            "Epoch 4/200\n",
            "138/138 [==============================] - 16s 112ms/step - loss: 2.1190 - accuracy: 0.2122 - val_loss: 2.1078 - val_accuracy: 0.2889\n",
            "Epoch 5/200\n",
            "138/138 [==============================] - 16s 111ms/step - loss: 2.0859 - accuracy: 0.2358 - val_loss: 2.0736 - val_accuracy: 0.3222\n",
            "Epoch 6/200\n",
            "138/138 [==============================] - 16s 112ms/step - loss: 2.0436 - accuracy: 0.2647 - val_loss: 2.0361 - val_accuracy: 0.3194\n",
            "Epoch 7/200\n",
            "138/138 [==============================] - 16s 112ms/step - loss: 1.9803 - accuracy: 0.3157 - val_loss: 1.9755 - val_accuracy: 0.3833\n",
            "Epoch 8/200\n",
            "138/138 [==============================] - 16s 111ms/step - loss: 1.8951 - accuracy: 0.3626 - val_loss: 1.8912 - val_accuracy: 0.4250\n",
            "Epoch 9/200\n",
            "138/138 [==============================] - 16s 114ms/step - loss: 1.7966 - accuracy: 0.3947 - val_loss: 1.7987 - val_accuracy: 0.4250\n",
            "Epoch 10/200\n",
            "138/138 [==============================] - 16s 112ms/step - loss: 1.6442 - accuracy: 0.4489 - val_loss: 1.6535 - val_accuracy: 0.5111\n",
            "Epoch 11/200\n",
            "138/138 [==============================] - 16s 111ms/step - loss: 1.5160 - accuracy: 0.4978 - val_loss: 1.4988 - val_accuracy: 0.5889\n",
            "Epoch 12/200\n",
            "138/138 [==============================] - 16s 111ms/step - loss: 1.3939 - accuracy: 0.5354 - val_loss: 1.4141 - val_accuracy: 0.6083\n",
            "Epoch 13/200\n",
            "138/138 [==============================] - 16s 111ms/step - loss: 1.2801 - accuracy: 0.5645 - val_loss: 1.3424 - val_accuracy: 0.6306\n",
            "Epoch 14/200\n",
            "138/138 [==============================] - 16s 113ms/step - loss: 1.1952 - accuracy: 0.5939 - val_loss: 1.1924 - val_accuracy: 0.6917\n",
            "Epoch 15/200\n",
            "138/138 [==============================] - 16s 113ms/step - loss: 1.1255 - accuracy: 0.6185 - val_loss: 1.1426 - val_accuracy: 0.7028\n",
            "Epoch 16/200\n",
            "138/138 [==============================] - 16s 112ms/step - loss: 1.0736 - accuracy: 0.6335 - val_loss: 1.1151 - val_accuracy: 0.6861\n",
            "Epoch 17/200\n",
            "138/138 [==============================] - 16s 113ms/step - loss: 1.0131 - accuracy: 0.6522 - val_loss: 1.0470 - val_accuracy: 0.7167\n",
            "Epoch 18/200\n",
            "138/138 [==============================] - 16s 112ms/step - loss: 0.9623 - accuracy: 0.6711 - val_loss: 1.0008 - val_accuracy: 0.7389\n",
            "Epoch 19/200\n",
            "138/138 [==============================] - 16s 112ms/step - loss: 0.9160 - accuracy: 0.6793 - val_loss: 1.0792 - val_accuracy: 0.6750\n",
            "Epoch 20/200\n",
            "138/138 [==============================] - 16s 113ms/step - loss: 0.8956 - accuracy: 0.6824 - val_loss: 0.9326 - val_accuracy: 0.7667\n",
            "Epoch 21/200\n",
            "138/138 [==============================] - 16s 112ms/step - loss: 0.8664 - accuracy: 0.7100 - val_loss: 1.0047 - val_accuracy: 0.7167\n",
            "Epoch 22/200\n",
            "138/138 [==============================] - 16s 113ms/step - loss: 0.8369 - accuracy: 0.7184 - val_loss: 0.8749 - val_accuracy: 0.7694\n",
            "Epoch 23/200\n",
            "138/138 [==============================] - 16s 111ms/step - loss: 0.7820 - accuracy: 0.7307 - val_loss: 0.8636 - val_accuracy: 0.7611\n",
            "Epoch 24/200\n",
            "138/138 [==============================] - 16s 111ms/step - loss: 0.7594 - accuracy: 0.7425 - val_loss: 0.8522 - val_accuracy: 0.7722\n",
            "Epoch 25/200\n",
            "138/138 [==============================] - 16s 113ms/step - loss: 0.7355 - accuracy: 0.7503 - val_loss: 0.8366 - val_accuracy: 0.7694\n",
            "Epoch 26/200\n",
            "138/138 [==============================] - 16s 111ms/step - loss: 0.7150 - accuracy: 0.7548 - val_loss: 0.7639 - val_accuracy: 0.7917\n",
            "Epoch 27/200\n",
            "138/138 [==============================] - 16s 114ms/step - loss: 0.6827 - accuracy: 0.7751 - val_loss: 0.7584 - val_accuracy: 0.7917\n",
            "Epoch 28/200\n",
            "138/138 [==============================] - 16s 113ms/step - loss: 0.6633 - accuracy: 0.7806 - val_loss: 0.7813 - val_accuracy: 0.7972\n",
            "Epoch 29/200\n",
            "138/138 [==============================] - 16s 111ms/step - loss: 0.6562 - accuracy: 0.7735 - val_loss: 0.7779 - val_accuracy: 0.7889\n",
            "Epoch 30/200\n",
            "138/138 [==============================] - 16s 113ms/step - loss: 0.6283 - accuracy: 0.7867 - val_loss: 0.7606 - val_accuracy: 0.7722\n",
            "Epoch 31/200\n",
            "138/138 [==============================] - 16s 110ms/step - loss: 0.5981 - accuracy: 0.8029 - val_loss: 0.7586 - val_accuracy: 0.7833\n",
            "Epoch 32/200\n",
            "138/138 [==============================] - 16s 111ms/step - loss: 0.6118 - accuracy: 0.7949 - val_loss: 0.7877 - val_accuracy: 0.7778\n",
            "Epoch 33/200\n",
            "138/138 [==============================] - 16s 113ms/step - loss: 0.5953 - accuracy: 0.7954 - val_loss: 0.6786 - val_accuracy: 0.8111\n",
            "Epoch 34/200\n",
            "138/138 [==============================] - 16s 111ms/step - loss: 0.5598 - accuracy: 0.8099 - val_loss: 0.7430 - val_accuracy: 0.8028\n",
            "Epoch 35/200\n",
            "138/138 [==============================] - 17s 114ms/step - loss: 0.5463 - accuracy: 0.8152 - val_loss: 0.7323 - val_accuracy: 0.7889\n",
            "Epoch 36/200\n",
            "138/138 [==============================] - 16s 113ms/step - loss: 0.5452 - accuracy: 0.8161 - val_loss: 0.6846 - val_accuracy: 0.8278\n",
            "Epoch 37/200\n",
            "138/138 [==============================] - 16s 113ms/step - loss: 0.5195 - accuracy: 0.8265 - val_loss: 0.7302 - val_accuracy: 0.8083\n",
            "Epoch 38/200\n",
            "138/138 [==============================] - 16s 113ms/step - loss: 0.5156 - accuracy: 0.8268 - val_loss: 0.6958 - val_accuracy: 0.8250\n",
            "Epoch 39/200\n",
            "138/138 [==============================] - 16s 114ms/step - loss: 0.5100 - accuracy: 0.8329 - val_loss: 0.7248 - val_accuracy: 0.8167\n",
            "Epoch 40/200\n",
            "138/138 [==============================] - 16s 114ms/step - loss: 0.4871 - accuracy: 0.8320 - val_loss: 0.6695 - val_accuracy: 0.8306\n",
            "Epoch 41/200\n",
            "138/138 [==============================] - 16s 111ms/step - loss: 0.4839 - accuracy: 0.8300 - val_loss: 0.7184 - val_accuracy: 0.8083\n",
            "Epoch 42/200\n",
            "138/138 [==============================] - 16s 113ms/step - loss: 0.4887 - accuracy: 0.8331 - val_loss: 0.8194 - val_accuracy: 0.7306\n",
            "Epoch 43/200\n",
            "138/138 [==============================] - 17s 115ms/step - loss: 0.4693 - accuracy: 0.8411 - val_loss: 0.6549 - val_accuracy: 0.8111\n",
            "Epoch 44/200\n",
            "138/138 [==============================] - 16s 113ms/step - loss: 0.4438 - accuracy: 0.8514 - val_loss: 0.6154 - val_accuracy: 0.8500\n",
            "Epoch 45/200\n",
            "138/138 [==============================] - 16s 113ms/step - loss: 0.4383 - accuracy: 0.8475 - val_loss: 0.6660 - val_accuracy: 0.8333\n",
            "Epoch 46/200\n",
            "138/138 [==============================] - 16s 112ms/step - loss: 0.4340 - accuracy: 0.8545 - val_loss: 0.6280 - val_accuracy: 0.8333\n",
            "Epoch 47/200\n",
            "138/138 [==============================] - 16s 112ms/step - loss: 0.3994 - accuracy: 0.8684 - val_loss: 0.6331 - val_accuracy: 0.8333\n",
            "Epoch 48/200\n",
            "138/138 [==============================] - 17s 115ms/step - loss: 0.4116 - accuracy: 0.8600 - val_loss: 0.6641 - val_accuracy: 0.8222\n",
            "Epoch 49/200\n",
            "138/138 [==============================] - 16s 113ms/step - loss: 0.3951 - accuracy: 0.8707 - val_loss: 0.6267 - val_accuracy: 0.8306\n",
            "Epoch 50/200\n",
            "138/138 [==============================] - 16s 113ms/step - loss: 0.3858 - accuracy: 0.8680 - val_loss: 0.6472 - val_accuracy: 0.8306\n",
            "Epoch 51/200\n",
            "138/138 [==============================] - 17s 115ms/step - loss: 0.3721 - accuracy: 0.8753 - val_loss: 0.7098 - val_accuracy: 0.7944\n",
            "Epoch 52/200\n",
            "138/138 [==============================] - 16s 112ms/step - loss: 0.3758 - accuracy: 0.8746 - val_loss: 0.6376 - val_accuracy: 0.8278\n",
            "Epoch 53/200\n",
            "138/138 [==============================] - 16s 112ms/step - loss: 0.3671 - accuracy: 0.8762 - val_loss: 0.6327 - val_accuracy: 0.8139\n",
            "Epoch 54/200\n",
            "138/138 [==============================] - 17s 115ms/step - loss: 0.3526 - accuracy: 0.8837 - val_loss: 0.5737 - val_accuracy: 0.8611\n",
            "Epoch 55/200\n",
            "138/138 [==============================] - 16s 113ms/step - loss: 0.3551 - accuracy: 0.8791 - val_loss: 0.6134 - val_accuracy: 0.8333\n",
            "Epoch 56/200\n",
            "138/138 [==============================] - 16s 112ms/step - loss: 0.3374 - accuracy: 0.8862 - val_loss: 0.6302 - val_accuracy: 0.8250\n",
            "Epoch 57/200\n",
            "138/138 [==============================] - 16s 113ms/step - loss: 0.3264 - accuracy: 0.8885 - val_loss: 0.6004 - val_accuracy: 0.8444\n",
            "Epoch 58/200\n",
            "138/138 [==============================] - 16s 113ms/step - loss: 0.3187 - accuracy: 0.8964 - val_loss: 0.5556 - val_accuracy: 0.8667\n",
            "Epoch 59/200\n",
            "138/138 [==============================] - 16s 114ms/step - loss: 0.3366 - accuracy: 0.8896 - val_loss: 0.6137 - val_accuracy: 0.8139\n",
            "Epoch 60/200\n",
            "138/138 [==============================] - 16s 112ms/step - loss: 0.3228 - accuracy: 0.8844 - val_loss: 0.5811 - val_accuracy: 0.8306\n",
            "Epoch 61/200\n",
            "138/138 [==============================] - 16s 112ms/step - loss: 0.3053 - accuracy: 0.8951 - val_loss: 0.6419 - val_accuracy: 0.8250\n",
            "Epoch 62/200\n",
            "138/138 [==============================] - 16s 113ms/step - loss: 0.3088 - accuracy: 0.8891 - val_loss: 0.5710 - val_accuracy: 0.8528\n",
            "Epoch 63/200\n",
            "138/138 [==============================] - 16s 112ms/step - loss: 0.3085 - accuracy: 0.8937 - val_loss: 0.5677 - val_accuracy: 0.8250\n",
            "Epoch 64/200\n",
            "138/138 [==============================] - 16s 112ms/step - loss: 0.2963 - accuracy: 0.9005 - val_loss: 0.5453 - val_accuracy: 0.8472\n",
            "Epoch 65/200\n",
            "138/138 [==============================] - 17s 115ms/step - loss: 0.2818 - accuracy: 0.9046 - val_loss: 0.5731 - val_accuracy: 0.8444\n",
            "Epoch 66/200\n",
            "138/138 [==============================] - 16s 112ms/step - loss: 0.2678 - accuracy: 0.9092 - val_loss: 0.5727 - val_accuracy: 0.8417\n",
            "Epoch 67/200\n",
            "138/138 [==============================] - 16s 113ms/step - loss: 0.2779 - accuracy: 0.9048 - val_loss: 0.5788 - val_accuracy: 0.8444\n",
            "Epoch 68/200\n",
            "138/138 [==============================] - ETA: 0s - loss: 0.2671 - accuracy: 0.9099Restoring model weights from the end of the best epoch: 58.\n",
            "138/138 [==============================] - 16s 112ms/step - loss: 0.2671 - accuracy: 0.9099 - val_loss: 0.5971 - val_accuracy: 0.8222\n",
            "Epoch 00068: early stopping\n"
          ]
        }
      ]
    },
    {
      "cell_type": "code",
      "metadata": {
        "colab": {
          "base_uri": "https://localhost:8080/",
          "height": 295
        },
        "id": "2PPKm5euoRAs",
        "outputId": "83c22afd-7f94-4b9e-adff-a6bfea3d8ba8"
      },
      "source": [
        "import matplotlib.pyplot as plt\n",
        "\n",
        "plt.plot(h.history['accuracy'])\n",
        "plt.plot(h.history['val_accuracy'])\n",
        "plt.plot(h.history['loss'])\n",
        "plt.title('Model accuracy')\n",
        "plt.ylabel('accuracy')\n",
        "plt.xlabel('epoch')\n",
        "plt.legend(['training', 'validation','loss'], loc='upper right')\n",
        "plt.show()"
      ],
      "execution_count": 15,
      "outputs": [
        {
          "output_type": "display_data",
          "data": {
            "image/png": "[encoded data removed]",
            "text/plain": [
              "<Figure size 432x288 with 1 Axes>"
            ]
          },
          "metadata": {
            "needs_background": "light"
          }
        }
      ]
    },
    {
      "cell_type": "markdown",
      "metadata": {
        "id": "TVOKAhbsm_pw"
      },
      "source": [
        "## Evaluación de los resultados"
      ]
    },
    {
      "cell_type": "code",
      "metadata": {
        "colab": {
          "base_uri": "https://localhost:8080/",
          "height": 541
        },
        "id": "IkyaTtnAKfqA",
        "outputId": "47ebbc99-b608-4a42-cc74-4548ae70c642"
      },
      "source": [
        "import numpy as np\n",
        "from sklearn.metrics import classification_report, confusion_matrix\n",
        "import seaborn as sns\n",
        "\n",
        "results = np.concatenate([(y, model.predict(x=x)) for x, y in val_ds], axis=1)\n",
        "\n",
        "predictions = np.argmax(results[0], axis=1)\n",
        "labels = np.argmax(results[1], axis=1)\n",
        "\n",
        "cf_matrix = confusion_matrix(labels, predictions)\n",
        "\n",
        "sns.heatmap(cf_matrix, annot=True, fmt=\"d\", cmap=\"Blues\")\n",
        "\n",
        "print(classification_report(labels, predictions, digits = 4))"
      ],
      "execution_count": 16,
      "outputs": [
        {
          "output_type": "stream",
          "name": "stdout",
          "text": [
            "              precision    recall  f1-score   support\n",
            "\n",
            "           0     0.8750    0.7778    0.8235        45\n",
            "           1     0.6500    0.8667    0.7429        30\n",
            "           2     0.8750    0.8140    0.8434        43\n",
            "           3     1.0000    0.9524    0.9756        42\n",
            "           4     0.8750    0.9722    0.9211        36\n",
            "           5     0.9500    0.9500    0.9500        40\n",
            "           6     0.8000    0.9697    0.8767        33\n",
            "           7     0.9500    0.7170    0.8172        53\n",
            "           8     0.8250    0.8684    0.8462        38\n",
            "\n",
            "    accuracy                         0.8667       360\n",
            "   macro avg     0.8667    0.8765    0.8663       360\n",
            "weighted avg     0.8781    0.8667    0.8671       360\n",
            "\n"
          ]
        },
        {
          "output_type": "display_data",
          "data": {
            "image/png": "[encoded data removed]",
            "text/plain": [
              "<Figure size 432x288 with 2 Axes>"
            ]
          },
          "metadata": {
            "needs_background": "light"
          }
        }
      ]
    },
    {
      "cell_type": "code",
      "metadata": {
        "colab": {
          "base_uri": "https://localhost:8080/"
        },
        "id": "djAlHGLz-Cjj",
        "outputId": "474d597e-8264-4058-efdf-cf00f0c23546"
      },
      "source": [
        "img = keras.preprocessing.image.load_img(\n",
        "    '/content/drive/My Drive/Colab Notebooks/datasets/Traffic-Signs/2/00021_00006_00000.png', target_size=image_size\n",
        ")\n",
        "img_array = keras.preprocessing.image.img_to_array(img)\n",
        "img_array = tf.expand_dims(img_array, 0)  # Create batch axis\n",
        "\n",
        "predictions = model.predict(img_array)\n",
        "print(np.argmax(predictions[0]))"
      ],
      "execution_count": 17,
      "outputs": [
        {
          "output_type": "stream",
          "name": "stdout",
          "text": [
            "1\n"
          ]
        }
      ]
    },
    {
      "cell_type": "code",
      "source": [
        "img = keras.preprocessing.image.load_img(\n",
        "    '/content/drive/My Drive/Colab Notebooks/imagenes/imagen5.png', target_size=image_size\n",
        ")\n",
        "img_array = keras.preprocessing.image.img_to_array(img)\n",
        "img_array = tf.expand_dims(img_array, 0)  # Create batch axis\n",
        "\n",
        "predictions = model.predict(img_array)\n",
        "print(np.argmax(predictions[0]))"
      ],
      "metadata": {
        "colab": {
          "base_uri": "https://localhost:8080/"
        },
        "id": "AjTaWk0IO5j8",
        "outputId": "55d50ea4-a195-455d-dc33-e8aab8e103c7"
      },
      "execution_count": 18,
      "outputs": [
        {
          "output_type": "stream",
          "name": "stdout",
          "text": [
            "0\n"
          ]
        }
      ]
    }
  ]
}