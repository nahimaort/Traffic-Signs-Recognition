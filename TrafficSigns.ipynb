{
  "nbformat": 4,
  "nbformat_minor": 0,
  "metadata": {
    "colab": {
      "name": "TrafficSigns.ipynb",
      "provenance": [],
      "collapsed_sections": [],
      "include_colab_link": true
    },
    "kernelspec": {
      "display_name": "Python 3",
      "name": "python3"
    },
    "accelerator": "GPU"
  },
  "cells": [
    {
      "cell_type": "markdown",
      "metadata": {
        "id": "view-in-github",
        "colab_type": "text"
      },
      "source": [
        "<a href=\"https://colab.research.google.com/github/nahimaort/Traffic-Signs-Recognition/blob/main/TrafficSigns.ipynb\" target=\"_parent\"><img src=\"https://colab.research.google.com/assets/colab-badge.svg\" alt=\"Open In Colab\"/></a>"
      ]
    },
    {
      "cell_type": "markdown",
      "metadata": {
        "id": "cXD8sjjQLj-k"
      },
      "source": [
        "# Reconocedor de señales de tráfico\n",
        "\n",
        "Vamos a desarrollar una red que reconozca señales de tráfico de tipo precaución.\n",
        "\n",
        "\n"
      ]
    },
    {
      "cell_type": "code",
      "metadata": {
        "id": "yZcKFL_TMkzR",
        "colab": {
          "base_uri": "https://localhost:8080/"
        },
        "outputId": "662d6480-6b86-411a-9503-22328ee8ae11"
      },
      "source": [
        "from google.colab import drive\n",
        "drive.mount('/content/drive')\n",
        "\n",
        "\n"
      ],
      "execution_count": 1,
      "outputs": [
        {
          "output_type": "stream",
          "name": "stdout",
          "text": [
            "Mounted at /content/drive\n"
          ]
        }
      ]
    },
    {
      "cell_type": "code",
      "metadata": {
        "colab": {
          "base_uri": "https://localhost:8080/",
          "height": 37
        },
        "id": "eKjrirLcRIkU",
        "outputId": "a93257a4-089e-4b01-ac8d-ed5e137f6e87"
      },
      "source": [
        "import tensorflow as tf\n",
        "tf.test.gpu_device_name()"
      ],
      "execution_count": 2,
      "outputs": [
        {
          "output_type": "execute_result",
          "data": {
            "application/vnd.google.colaboratory.intrinsic+json": {
              "type": "string"
            },
            "text/plain": [
              "'/device:GPU:0'"
            ]
          },
          "metadata": {},
          "execution_count": 2
        }
      ]
    },
    {
      "cell_type": "markdown",
      "source": [
        "Vemos una imagen de ejemplo"
      ],
      "metadata": {
        "id": "N3zF5ip1kPjR"
      }
    },
    {
      "cell_type": "code",
      "metadata": {
        "colab": {
          "base_uri": "https://localhost:8080/",
          "height": 301
        },
        "id": "x3JBgGOsKu44",
        "outputId": "a98052dc-4e6a-497d-d6a3-31338ea0e2a8"
      },
      "source": [
        "!ls \"/content/drive/My Drive/Colab Notebooks/datasets/\"\n",
        "\n",
        "from matplotlib.pyplot import imshow\n",
        "import numpy as np\n",
        "from PIL import Image\n",
        "\n",
        "%matplotlib inline\n",
        "pil_im = Image.open('/content/drive/My Drive/Colab Notebooks/datasets/Traffic-Signs/5/00025_00040_00018.png', 'r')\n",
        "imshow(np.asarray(pil_im))\n",
        "\n"
      ],
      "execution_count": null,
      "outputs": [
        {
          "output_type": "stream",
          "name": "stdout",
          "text": [
            "Traffic-Signs  Traffic-Signs-2\tTraffic-Signs-Validation\n"
          ]
        },
        {
          "output_type": "execute_result",
          "data": {
            "text/plain": [
              "<matplotlib.image.AxesImage at 0x7f7d4003eb90>"
            ]
          },
          "metadata": {},
          "execution_count": 3
        },
        {
          "output_type": "display_data",
          "data": {
            "image/png": "[encoded data removed]",
            "text/plain": [
              "<Figure size 432x288 with 1 Axes>"
            ]
          },
          "metadata": {
            "needs_background": "light"
          }
        }
      ]
    },
    {
      "cell_type": "markdown",
      "source": [
        "## Data Augmentation"
      ],
      "metadata": {
        "id": "X7U_9Zjj9WsA"
      }
    },
    {
      "cell_type": "code",
      "source": [
        "from keras.preprocessing.image import ImageDataGenerator, array_to_img, img_to_array, load_img\n",
        "import glob\n",
        "\n",
        "datagen = ImageDataGenerator(\n",
        "  horizontal_flip=False,\n",
        "\tvertical_flip=False,\n",
        "\trotation_range=25,\n",
        "\tzoom_range=0.20,\n",
        "\tshear_range=0.20,\n",
        "\tfill_mode=\"nearest\")\n",
        "\n",
        "for i in range(1, 10, 1):\n",
        "  for name in glob.glob(\"/content/drive/My Drive/Colab Notebooks/datasets/Traffic-Signs/\" + str(i) + \"/*.png\"):\n",
        "    img = load_img(name)\n",
        "    x = img_to_array(img)\n",
        "    x = x.reshape((1,) + x.shape) \n",
        "    j = 0\n",
        "    for batch in datagen.flow(x, batch_size=1,\n",
        "                                  save_to_dir=\"/content/drive/My Drive/Colab Notebooks/datasets/Traffic-Signs/\" + str(i) + \"/da/\", \n",
        "                              save_prefix=\"image\", save_format='png'):\n",
        "      j += 1\n",
        "      if j >= 2:\n",
        "        break\n",
        "print(\"Finalización del aumento de datos\")"
      ],
      "metadata": {
        "id": "Wj1hJvCa9ZAA"
      },
      "execution_count": null,
      "outputs": []
    },
    {
      "cell_type": "markdown",
      "metadata": {
        "id": "UCaBgMS8OdiV"
      },
      "source": [
        "## Primer modelo"
      ]
    },
    {
      "cell_type": "code",
      "metadata": {
        "colab": {
          "base_uri": "https://localhost:8080/"
        },
        "id": "25NfZptPxjgD",
        "outputId": "25c02a19-df8d-4f91-bbe9-2b6c0ec71718"
      },
      "source": [
        "# DATA SOURCE --------------------------------------------------\n",
        "\n",
        "image_size = (150, 150)\n",
        "batch_size = 32\n",
        "\n",
        "train_ds = tf.keras.preprocessing.image_dataset_from_directory(\n",
        "    \"/content/drive/My Drive/Colab Notebooks/datasets/Traffic-Signs\",\n",
        "    image_size=image_size,\n",
        "    batch_size=batch_size,\n",
        "    label_mode='categorical'\n",
        ")\n",
        "val_ds = tf.keras.preprocessing.image_dataset_from_directory(\n",
        "    \"/content/drive/My Drive/Colab Notebooks/datasets/Traffic-Signs-Validation\",\n",
        "    image_size=image_size,\n",
        "    batch_size=batch_size,\n",
        "    label_mode='categorical'\n",
        ")\n",
        "\n",
        "train_ds = train_ds.prefetch(buffer_size=32)\n",
        "val_ds = val_ds.prefetch(buffer_size=32)"
      ],
      "execution_count": 3,
      "outputs": [
        {
          "output_type": "stream",
          "name": "stdout",
          "text": [
            "Found 4393 files belonging to 9 classes.\n",
            "Found 360 files belonging to 9 classes.\n"
          ]
        }
      ]
    },
    {
      "cell_type": "code",
      "metadata": {
        "id": "e5tVrY9gxyfJ"
      },
      "source": [
        "# MODEL --------------------------------------------------\n",
        "\n",
        "import tensorflow as tf\n",
        "from tensorflow import keras\n",
        "from tensorflow.keras.layers import Conv2D, MaxPooling2D, Dropout, Dense, Rescaling, Flatten\n",
        "from tensorflow.keras.callbacks import EarlyStopping\n",
        "\n",
        "model = keras.Sequential()\n",
        "model.add(Rescaling(scale=(1./127.5),\n",
        "                    offset=-1, \n",
        "                    input_shape=(150, 150, 3)))\n",
        "model.add(Conv2D(16, kernel_size=(3, 3), activation='relu'))\n",
        "model.add(MaxPooling2D(pool_size=(2, 2)))\n",
        "model.add(Conv2D(32, (3, 3), activation='relu'))\n",
        "model.add(MaxPooling2D(pool_size=(2, 2)))\n",
        "model.add(Dropout(0.25))\n",
        "model.add(Conv2D(64, (5, 5), activation='relu'))\n",
        "model.add(MaxPooling2D(pool_size=(2, 2)))\n",
        "model.add(Dropout(0.5))\n",
        "\n",
        "model.add(Flatten())\n",
        "model.add(Dense(64, activation='relu'))\n",
        "model.add(Dropout(0.5))\n",
        "model.add(Dense(9, activation='softmax'))\n",
        "\n",
        "model.compile(loss=tf.keras.losses.categorical_crossentropy,\n",
        "              optimizer=tf.keras.optimizers.Adam(1e-3),\n",
        "              metrics=['accuracy'])"
      ],
      "execution_count": 4,
      "outputs": []
    },
    {
      "cell_type": "code",
      "metadata": {
        "colab": {
          "base_uri": "https://localhost:8080/"
        },
        "id": "-AiE5BwazFFK",
        "outputId": "f74ab5db-144f-412f-b273-2d6eab9e96cb"
      },
      "source": [
        "# TRAINING --------------------------------------------------\n",
        "\n",
        "epochs = 200\n",
        "\n",
        "es = EarlyStopping(monitor='val_accuracy', mode='max', verbose=1, patience=10, restore_best_weights=True)\n",
        "\n",
        "h = model.fit(\n",
        "        train_ds,\n",
        "        epochs=epochs, \n",
        "        validation_data=val_ds,\n",
        "        callbacks = [es]\n",
        ")"
      ],
      "execution_count": 5,
      "outputs": [
        {
          "output_type": "stream",
          "name": "stdout",
          "text": [
            "Epoch 1/200\n",
            "138/138 [==============================] - 18s 99ms/step - loss: 1.7258 - accuracy: 0.3644 - val_loss: 0.8120 - val_accuracy: 0.7667\n",
            "Epoch 2/200\n",
            "138/138 [==============================] - 16s 110ms/step - loss: 0.7011 - accuracy: 0.7596 - val_loss: 0.4143 - val_accuracy: 0.8944\n",
            "Epoch 3/200\n",
            "138/138 [==============================] - 16s 111ms/step - loss: 0.4193 - accuracy: 0.8514 - val_loss: 0.3460 - val_accuracy: 0.8889\n",
            "Epoch 4/200\n",
            "138/138 [==============================] - 16s 110ms/step - loss: 0.3212 - accuracy: 0.8901 - val_loss: 0.2472 - val_accuracy: 0.9278\n",
            "Epoch 5/200\n",
            "138/138 [==============================] - 16s 110ms/step - loss: 0.2721 - accuracy: 0.9080 - val_loss: 0.2687 - val_accuracy: 0.9139\n",
            "Epoch 6/200\n",
            "138/138 [==============================] - 16s 110ms/step - loss: 0.2247 - accuracy: 0.9199 - val_loss: 0.2218 - val_accuracy: 0.9306\n",
            "Epoch 7/200\n",
            "138/138 [==============================] - 16s 108ms/step - loss: 0.1971 - accuracy: 0.9269 - val_loss: 0.1700 - val_accuracy: 0.9500\n",
            "Epoch 8/200\n",
            "138/138 [==============================] - 16s 111ms/step - loss: 0.1739 - accuracy: 0.9408 - val_loss: 0.2033 - val_accuracy: 0.9417\n",
            "Epoch 9/200\n",
            "138/138 [==============================] - 16s 108ms/step - loss: 0.1376 - accuracy: 0.9499 - val_loss: 0.2091 - val_accuracy: 0.9389\n",
            "Epoch 10/200\n",
            "138/138 [==============================] - 16s 113ms/step - loss: 0.1399 - accuracy: 0.9540 - val_loss: 0.2015 - val_accuracy: 0.9528\n",
            "Epoch 11/200\n",
            "138/138 [==============================] - 16s 112ms/step - loss: 0.1277 - accuracy: 0.9549 - val_loss: 0.2098 - val_accuracy: 0.9417\n",
            "Epoch 12/200\n",
            "138/138 [==============================] - 16s 113ms/step - loss: 0.1146 - accuracy: 0.9636 - val_loss: 0.1276 - val_accuracy: 0.9667\n",
            "Epoch 13/200\n",
            "138/138 [==============================] - 16s 113ms/step - loss: 0.1185 - accuracy: 0.9577 - val_loss: 0.1478 - val_accuracy: 0.9667\n",
            "Epoch 14/200\n",
            "138/138 [==============================] - 16s 113ms/step - loss: 0.1065 - accuracy: 0.9634 - val_loss: 0.1533 - val_accuracy: 0.9556\n",
            "Epoch 15/200\n",
            "138/138 [==============================] - 17s 115ms/step - loss: 0.0900 - accuracy: 0.9686 - val_loss: 0.1632 - val_accuracy: 0.9583\n",
            "Epoch 16/200\n",
            "138/138 [==============================] - 17s 115ms/step - loss: 0.1041 - accuracy: 0.9690 - val_loss: 0.1513 - val_accuracy: 0.9583\n",
            "Epoch 17/200\n",
            "138/138 [==============================] - 17s 117ms/step - loss: 0.0817 - accuracy: 0.9727 - val_loss: 0.1512 - val_accuracy: 0.9611\n",
            "Epoch 18/200\n",
            "138/138 [==============================] - 16s 113ms/step - loss: 0.0716 - accuracy: 0.9752 - val_loss: 0.1655 - val_accuracy: 0.9639\n",
            "Epoch 19/200\n",
            "138/138 [==============================] - 16s 113ms/step - loss: 0.0823 - accuracy: 0.9718 - val_loss: 0.1889 - val_accuracy: 0.9639\n",
            "Epoch 20/200\n",
            "138/138 [==============================] - 17s 115ms/step - loss: 0.0898 - accuracy: 0.9718 - val_loss: 0.1162 - val_accuracy: 0.9722\n",
            "Epoch 21/200\n",
            "138/138 [==============================] - 16s 109ms/step - loss: 0.0937 - accuracy: 0.9713 - val_loss: 0.1626 - val_accuracy: 0.9556\n",
            "Epoch 22/200\n",
            "138/138 [==============================] - 16s 108ms/step - loss: 0.0687 - accuracy: 0.9752 - val_loss: 0.1308 - val_accuracy: 0.9639\n",
            "Epoch 23/200\n",
            "138/138 [==============================] - 16s 110ms/step - loss: 0.0684 - accuracy: 0.9786 - val_loss: 0.1327 - val_accuracy: 0.9694\n",
            "Epoch 24/200\n",
            "138/138 [==============================] - 16s 108ms/step - loss: 0.0710 - accuracy: 0.9795 - val_loss: 0.1154 - val_accuracy: 0.9667\n",
            "Epoch 25/200\n",
            "138/138 [==============================] - 16s 108ms/step - loss: 0.0593 - accuracy: 0.9820 - val_loss: 0.0992 - val_accuracy: 0.9611\n",
            "Epoch 26/200\n",
            "138/138 [==============================] - 16s 108ms/step - loss: 0.0574 - accuracy: 0.9820 - val_loss: 0.1047 - val_accuracy: 0.9722\n",
            "Epoch 27/200\n",
            "138/138 [==============================] - 16s 109ms/step - loss: 0.0527 - accuracy: 0.9804 - val_loss: 0.0967 - val_accuracy: 0.9750\n",
            "Epoch 28/200\n",
            "138/138 [==============================] - 16s 109ms/step - loss: 0.0566 - accuracy: 0.9788 - val_loss: 0.1281 - val_accuracy: 0.9611\n",
            "Epoch 29/200\n",
            "138/138 [==============================] - 15s 107ms/step - loss: 0.0566 - accuracy: 0.9816 - val_loss: 0.1113 - val_accuracy: 0.9722\n",
            "Epoch 30/200\n",
            "138/138 [==============================] - 15s 107ms/step - loss: 0.0515 - accuracy: 0.9843 - val_loss: 0.1015 - val_accuracy: 0.9806\n",
            "Epoch 31/200\n",
            "138/138 [==============================] - 15s 107ms/step - loss: 0.0540 - accuracy: 0.9813 - val_loss: 0.1843 - val_accuracy: 0.9389\n",
            "Epoch 32/200\n",
            "138/138 [==============================] - 16s 110ms/step - loss: 0.0603 - accuracy: 0.9788 - val_loss: 0.1165 - val_accuracy: 0.9722\n",
            "Epoch 33/200\n",
            "138/138 [==============================] - 16s 110ms/step - loss: 0.0508 - accuracy: 0.9822 - val_loss: 0.0674 - val_accuracy: 0.9806\n",
            "Epoch 34/200\n",
            "138/138 [==============================] - 16s 109ms/step - loss: 0.0443 - accuracy: 0.9854 - val_loss: 0.0785 - val_accuracy: 0.9806\n",
            "Epoch 35/200\n",
            "138/138 [==============================] - 15s 107ms/step - loss: 0.0416 - accuracy: 0.9863 - val_loss: 0.1194 - val_accuracy: 0.9694\n",
            "Epoch 36/200\n",
            "138/138 [==============================] - 16s 108ms/step - loss: 0.0369 - accuracy: 0.9895 - val_loss: 0.1108 - val_accuracy: 0.9722\n",
            "Epoch 37/200\n",
            "138/138 [==============================] - 16s 108ms/step - loss: 0.0570 - accuracy: 0.9797 - val_loss: 0.1173 - val_accuracy: 0.9722\n",
            "Epoch 38/200\n",
            "138/138 [==============================] - 16s 108ms/step - loss: 0.0474 - accuracy: 0.9861 - val_loss: 0.0752 - val_accuracy: 0.9806\n",
            "Epoch 39/200\n",
            "138/138 [==============================] - 15s 107ms/step - loss: 0.0371 - accuracy: 0.9879 - val_loss: 0.0964 - val_accuracy: 0.9750\n",
            "Epoch 40/200\n",
            "138/138 [==============================] - ETA: 0s - loss: 0.0534 - accuracy: 0.9845Restoring model weights from the end of the best epoch: 30.\n",
            "138/138 [==============================] - 16s 109ms/step - loss: 0.0534 - accuracy: 0.9845 - val_loss: 0.0910 - val_accuracy: 0.9722\n",
            "Epoch 00040: early stopping\n"
          ]
        }
      ]
    },
    {
      "cell_type": "code",
      "metadata": {
        "colab": {
          "base_uri": "https://localhost:8080/",
          "height": 295
        },
        "id": "2PPKm5euoRAs",
        "outputId": "f96deefc-7a1c-41e5-bab3-ed18c8706ca4"
      },
      "source": [
        "import matplotlib.pyplot as plt\n",
        "\n",
        "plt.plot(h.history['accuracy'])\n",
        "plt.plot(h.history['val_accuracy'])\n",
        "plt.plot(h.history['loss'])\n",
        "plt.title('Model accuracy')\n",
        "plt.ylabel('accuracy')\n",
        "plt.xlabel('epoch')\n",
        "plt.legend(['training', 'validation','loss'], loc='upper right')\n",
        "plt.show()"
      ],
      "execution_count": 6,
      "outputs": [
        {
          "output_type": "display_data",
          "data": {
            "image/png": "[encoded data removed]",
            "text/plain": [
              "<Figure size 432x288 with 1 Axes>"
            ]
          },
          "metadata": {
            "needs_background": "light"
          }
        }
      ]
    },
    {
      "cell_type": "markdown",
      "metadata": {
        "id": "TVOKAhbsm_pw"
      },
      "source": [
        "## Evaluación de los resultados"
      ]
    },
    {
      "cell_type": "code",
      "metadata": {
        "colab": {
          "base_uri": "https://localhost:8080/",
          "height": 541
        },
        "id": "IkyaTtnAKfqA",
        "outputId": "1959c4a6-4ef1-4489-b36a-8a4ba50bffa1"
      },
      "source": [
        "import numpy as np\n",
        "from sklearn.metrics import classification_report, confusion_matrix\n",
        "import seaborn as sns\n",
        "\n",
        "results = np.concatenate([(y, model.predict(x=x)) for x, y in val_ds], axis=1)\n",
        "\n",
        "predictions = np.argmax(results[0], axis=1)\n",
        "labels = np.argmax(results[1], axis=1)\n",
        "\n",
        "cf_matrix = confusion_matrix(labels, predictions)\n",
        "\n",
        "sns.heatmap(cf_matrix, annot=True, fmt=\"d\", cmap=\"Blues\")\n",
        "\n",
        "print(classification_report(labels, predictions, digits = 4))"
      ],
      "execution_count": 7,
      "outputs": [
        {
          "output_type": "stream",
          "name": "stdout",
          "text": [
            "              precision    recall  f1-score   support\n",
            "\n",
            "           0     1.0000    0.9756    0.9877        41\n",
            "           1     0.9500    1.0000    0.9744        38\n",
            "           2     0.9500    1.0000    0.9744        38\n",
            "           3     1.0000    1.0000    1.0000        40\n",
            "           4     0.9500    0.9744    0.9620        39\n",
            "           5     1.0000    1.0000    1.0000        40\n",
            "           6     0.9750    1.0000    0.9873        39\n",
            "           7     1.0000    0.9524    0.9756        42\n",
            "           8     1.0000    0.9302    0.9639        43\n",
            "\n",
            "    accuracy                         0.9806       360\n",
            "   macro avg     0.9806    0.9814    0.9806       360\n",
            "weighted avg     0.9813    0.9806    0.9805       360\n",
            "\n"
          ]
        },
        {
          "output_type": "display_data",
          "data": {
            "image/png": "[encoded data removed]",
            "text/plain": [
              "<Figure size 432x288 with 2 Axes>"
            ]
          },
          "metadata": {
            "needs_background": "light"
          }
        }
      ]
    },
    {
      "cell_type": "code",
      "metadata": {
        "colab": {
          "base_uri": "https://localhost:8080/"
        },
        "id": "djAlHGLz-Cjj",
        "outputId": "fb5dcbd5-34f9-48b3-bbf7-cea03467a0d2"
      },
      "source": [
        "img = keras.preprocessing.image.load_img(\n",
        "    '/content/drive/My Drive/Colab Notebooks/datasets/Traffic-Signs/2/00021_00006_00000.png', target_size=image_size\n",
        ")\n",
        "img_array = keras.preprocessing.image.img_to_array(img)\n",
        "img_array = tf.expand_dims(img_array, 0)  # Create batch axis\n",
        "\n",
        "predictions = model.predict(img_array)\n",
        "print(np.argmax(predictions[0]))"
      ],
      "execution_count": 8,
      "outputs": [
        {
          "output_type": "stream",
          "name": "stdout",
          "text": [
            "1\n"
          ]
        }
      ]
    },
    {
      "cell_type": "code",
      "source": [
        "img = keras.preprocessing.image.load_img(\n",
        "    '/content/drive/My Drive/Colab Notebooks/imagenes/imagen5.png', target_size=image_size\n",
        ")\n",
        "img_array = keras.preprocessing.image.img_to_array(img)\n",
        "img_array = tf.expand_dims(img_array, 0)  # Create batch axis\n",
        "\n",
        "predictions = model.predict(img_array)\n",
        "print(np.argmax(predictions[0]))"
      ],
      "metadata": {
        "colab": {
          "base_uri": "https://localhost:8080/"
        },
        "id": "AjTaWk0IO5j8",
        "outputId": "7132c10c-3fc1-4e61-cc94-8133d55e4fe3"
      },
      "execution_count": 9,
      "outputs": [
        {
          "output_type": "stream",
          "name": "stdout",
          "text": [
            "5\n"
          ]
        }
      ]
    }
  ]
}