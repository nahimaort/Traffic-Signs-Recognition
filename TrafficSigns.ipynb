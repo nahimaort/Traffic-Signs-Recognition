{
  "nbformat": 4,
  "nbformat_minor": 0,
  "metadata": {
    "colab": {
      "name": "TrafficSigns.ipynb",
      "provenance": [],
      "collapsed_sections": [],
      "include_colab_link": true
    },
    "kernelspec": {
      "display_name": "Python 3",
      "name": "python3"
    },
    "accelerator": "GPU"
  },
  "cells": [
    {
      "cell_type": "markdown",
      "metadata": {
        "id": "view-in-github",
        "colab_type": "text"
      },
      "source": [
        "<a href=\"https://colab.research.google.com/github/nahimaort/Traffic-Signs-Recognition/blob/main/TrafficSigns.ipynb\" target=\"_parent\"><img src=\"https://colab.research.google.com/assets/colab-badge.svg\" alt=\"Open In Colab\"/></a>"
      ]
    },
    {
      "cell_type": "markdown",
      "metadata": {
        "id": "cXD8sjjQLj-k"
      },
      "source": [
        "# Reconocedor de señales de tráfico\n",
        "\n",
        "Vamos a desarrollar una red que reconozca señales de tráfico de tipo precaución.\n",
        "\n",
        "\n"
      ]
    },
    {
      "cell_type": "code",
      "metadata": {
        "id": "yZcKFL_TMkzR",
        "colab": {
          "base_uri": "https://localhost:8080/"
        },
        "outputId": "662d6480-6b86-411a-9503-22328ee8ae11"
      },
      "source": [
        "from google.colab import drive\n",
        "drive.mount('/content/drive')\n",
        "\n",
        "\n"
      ],
      "execution_count": 1,
      "outputs": [
        {
          "output_type": "stream",
          "name": "stdout",
          "text": [
            "Mounted at /content/drive\n"
          ]
        }
      ]
    },
    {
      "cell_type": "code",
      "metadata": {
        "colab": {
          "base_uri": "https://localhost:8080/",
          "height": 37
        },
        "id": "eKjrirLcRIkU",
        "outputId": "a93257a4-089e-4b01-ac8d-ed5e137f6e87"
      },
      "source": [
        "import tensorflow as tf\n",
        "tf.test.gpu_device_name()"
      ],
      "execution_count": 2,
      "outputs": [
        {
          "output_type": "execute_result",
          "data": {
            "application/vnd.google.colaboratory.intrinsic+json": {
              "type": "string"
            },
            "text/plain": [
              "'/device:GPU:0'"
            ]
          },
          "metadata": {},
          "execution_count": 2
        }
      ]
    },
    {
      "cell_type": "markdown",
      "source": [
        "Vemos una imagen de ejemplo"
      ],
      "metadata": {
        "id": "N3zF5ip1kPjR"
      }
    },
    {
      "cell_type": "code",
      "metadata": {
        "colab": {
          "base_uri": "https://localhost:8080/",
          "height": 301
        },
        "id": "x3JBgGOsKu44",
        "outputId": "a98052dc-4e6a-497d-d6a3-31338ea0e2a8"
      },
      "source": [
        "!ls \"/content/drive/My Drive/Colab Notebooks/datasets/\"\n",
        "\n",
        "from matplotlib.pyplot import imshow\n",
        "import numpy as np\n",
        "from PIL import Image\n",
        "\n",
        "%matplotlib inline\n",
        "pil_im = Image.open('/content/drive/My Drive/Colab Notebooks/datasets/Traffic-Signs/5/00025_00040_00018.png', 'r')\n",
        "imshow(np.asarray(pil_im))\n",
        "\n"
      ],
      "execution_count": null,
      "outputs": [
        {
          "output_type": "stream",
          "name": "stdout",
          "text": [
            "Traffic-Signs  Traffic-Signs-2\tTraffic-Signs-Validation\n"
          ]
        },
        {
          "output_type": "execute_result",
          "data": {
            "text/plain": [
              "<matplotlib.image.AxesImage at 0x7f7d4003eb90>"
            ]
          },
          "metadata": {},
          "execution_count": 3
        },
        {
          "output_type": "display_data",
          "data": {
            "image/png": "[encoded data removed]",
            "text/plain": [
              "<Figure size 432x288 with 1 Axes>"
            ]
          },
          "metadata": {
            "needs_background": "light"
          }
        }
      ]
    },
    {
      "cell_type": "markdown",
      "source": [
        "## Data Augmentation"
      ],
      "metadata": {
        "id": "X7U_9Zjj9WsA"
      }
    },
    {
      "cell_type": "code",
      "source": [
        "from keras.preprocessing.image import ImageDataGenerator, img_to_array, load_img\n",
        "import glob\n",
        "\n",
        "datagen = ImageDataGenerator(\n",
        "  horizontal_flip=False,\n",
        "\tvertical_flip=False,\n",
        "\trotation_range=25,\n",
        "\tzoom_range=0.20,\n",
        "\tshear_range=0.20,\n",
        "\tfill_mode=\"nearest\")\n",
        "\n",
        "for i in range(1, 10, 1):\n",
        "  for name in glob.glob(\"/content/drive/My Drive/Colab Notebooks/datasets/Traffic-Signs/\" + str(i) + \"/*.png\"):\n",
        "    img = load_img(name)\n",
        "    x = img_to_array(img)\n",
        "    x = x.reshape((1,) + x.shape) \n",
        "    j = 0\n",
        "    for batch in datagen.flow(x, batch_size=1,\n",
        "                                  save_to_dir=\"/content/drive/My Drive/Colab Notebooks/datasets/Traffic-Signs/\" + str(i) + \"/da/\", \n",
        "                              save_prefix=\"image\", save_format='png'):\n",
        "      j += 1\n",
        "      if j >= 2:\n",
        "        break\n",
        "print(\"Finalización del aumento de datos\")"
      ],
      "metadata": {
        "id": "Wj1hJvCa9ZAA"
      },
      "execution_count": null,
      "outputs": []
    },
    {
      "cell_type": "markdown",
      "metadata": {
        "id": "UCaBgMS8OdiV"
      },
      "source": [
        "## Primer modelo"
      ]
    },
    {
      "cell_type": "code",
      "metadata": {
        "colab": {
          "base_uri": "https://localhost:8080/"
        },
        "id": "25NfZptPxjgD",
        "outputId": "9c3cd527-b3df-418c-bada-6f443829eef8"
      },
      "source": [
        "# DATA SOURCE --------------------------------------------------\n",
        "\n",
        "image_size = (150, 150)\n",
        "batch_size = 32\n",
        "\n",
        "train_ds = tf.keras.preprocessing.image_dataset_from_directory(\n",
        "    \"/content/drive/My Drive/Colab Notebooks/datasets/Traffic-Signs\",\n",
        "    image_size=image_size,\n",
        "    batch_size=batch_size,\n",
        "    label_mode='categorical'\n",
        ")\n",
        "val_ds = tf.keras.preprocessing.image_dataset_from_directory(\n",
        "    \"/content/drive/My Drive/Colab Notebooks/datasets/Traffic-Signs-Validation\",\n",
        "    image_size=image_size,\n",
        "    batch_size=batch_size,\n",
        "    label_mode='categorical'\n",
        ")\n",
        "\n",
        "train_ds = train_ds.prefetch(buffer_size=32)\n",
        "val_ds = val_ds.prefetch(buffer_size=32)"
      ],
      "execution_count": 10,
      "outputs": [
        {
          "output_type": "stream",
          "name": "stdout",
          "text": [
            "Found 4393 files belonging to 9 classes.\n",
            "Found 360 files belonging to 9 classes.\n"
          ]
        }
      ]
    },
    {
      "cell_type": "code",
      "metadata": {
        "id": "e5tVrY9gxyfJ"
      },
      "source": [
        "# MODEL --------------------------------------------------\n",
        "\n",
        "import tensorflow as tf\n",
        "from tensorflow import keras\n",
        "from tensorflow.keras.layers import Conv2D, MaxPooling2D, Dropout, Dense, Rescaling, Flatten\n",
        "from tensorflow.keras.callbacks import EarlyStopping\n",
        "\n",
        "model = keras.Sequential()\n",
        "model.add(Rescaling(scale=(1./127.5),\n",
        "                    offset=-1, \n",
        "                    input_shape=(150, 150, 3)))\n",
        "model.add(Conv2D(16, kernel_size=(5, 5), activation='relu'))\n",
        "model.add(MaxPooling2D(pool_size=(2, 2)))\n",
        "model.add(Conv2D(32, (5, 5), activation='relu'))\n",
        "model.add(MaxPooling2D(pool_size=(2, 2)))\n",
        "model.add(Dropout(0.25))\n",
        "model.add(Conv2D(64, (5, 5), activation='relu'))\n",
        "model.add(MaxPooling2D(pool_size=(2, 2)))\n",
        "model.add(Dropout(0.5))\n",
        "\n",
        "model.add(Flatten())\n",
        "model.add(Dense(64, activation='relu'))\n",
        "model.add(Dropout(0.5))\n",
        "model.add(Dense(9, activation='softmax'))\n",
        "\n",
        "model.compile(loss=tf.keras.losses.categorical_crossentropy,\n",
        "              optimizer=tf.keras.optimizers.Adam(1e-3),\n",
        "              metrics=['accuracy'])"
      ],
      "execution_count": 11,
      "outputs": []
    },
    {
      "cell_type": "code",
      "metadata": {
        "colab": {
          "base_uri": "https://localhost:8080/"
        },
        "id": "-AiE5BwazFFK",
        "outputId": "de49024e-2ac1-4a59-e6c4-bb25f3bf9b25"
      },
      "source": [
        "# TRAINING --------------------------------------------------\n",
        "\n",
        "epochs = 200\n",
        "\n",
        "es = EarlyStopping(monitor='val_accuracy', mode='max', verbose=1, patience=10, restore_best_weights=True)\n",
        "\n",
        "h = model.fit(\n",
        "        train_ds,\n",
        "        epochs=epochs, \n",
        "        validation_data=val_ds,\n",
        "        callbacks = [es]\n",
        ")"
      ],
      "execution_count": 12,
      "outputs": [
        {
          "output_type": "stream",
          "name": "stdout",
          "text": [
            "Epoch 1/200\n",
            "138/138 [==============================] - 18s 113ms/step - loss: 1.5869 - accuracy: 0.4216 - val_loss: 0.7097 - val_accuracy: 0.8139\n",
            "Epoch 2/200\n",
            "138/138 [==============================] - 16s 109ms/step - loss: 0.6495 - accuracy: 0.7810 - val_loss: 0.3573 - val_accuracy: 0.9056\n",
            "Epoch 3/200\n",
            "138/138 [==============================] - 16s 113ms/step - loss: 0.3868 - accuracy: 0.8691 - val_loss: 0.2843 - val_accuracy: 0.9222\n",
            "Epoch 4/200\n",
            "138/138 [==============================] - 17s 116ms/step - loss: 0.2675 - accuracy: 0.9119 - val_loss: 0.2292 - val_accuracy: 0.9222\n",
            "Epoch 5/200\n",
            "138/138 [==============================] - 17s 117ms/step - loss: 0.2266 - accuracy: 0.9219 - val_loss: 0.2090 - val_accuracy: 0.9389\n",
            "Epoch 6/200\n",
            "138/138 [==============================] - 17s 116ms/step - loss: 0.1840 - accuracy: 0.9344 - val_loss: 0.2346 - val_accuracy: 0.9417\n",
            "Epoch 7/200\n",
            "138/138 [==============================] - 17s 119ms/step - loss: 0.1564 - accuracy: 0.9438 - val_loss: 0.1793 - val_accuracy: 0.9611\n",
            "Epoch 8/200\n",
            "138/138 [==============================] - 17s 116ms/step - loss: 0.1403 - accuracy: 0.9515 - val_loss: 0.1503 - val_accuracy: 0.9667\n",
            "Epoch 9/200\n",
            "138/138 [==============================] - 17s 116ms/step - loss: 0.1215 - accuracy: 0.9572 - val_loss: 0.1593 - val_accuracy: 0.9500\n",
            "Epoch 10/200\n",
            "138/138 [==============================] - 17s 119ms/step - loss: 0.1074 - accuracy: 0.9615 - val_loss: 0.1151 - val_accuracy: 0.9694\n",
            "Epoch 11/200\n",
            "138/138 [==============================] - 16s 112ms/step - loss: 0.0924 - accuracy: 0.9679 - val_loss: 0.1682 - val_accuracy: 0.9611\n",
            "Epoch 12/200\n",
            "138/138 [==============================] - 17s 118ms/step - loss: 0.0792 - accuracy: 0.9729 - val_loss: 0.1309 - val_accuracy: 0.9667\n",
            "Epoch 13/200\n",
            "138/138 [==============================] - 16s 113ms/step - loss: 0.0896 - accuracy: 0.9665 - val_loss: 0.1898 - val_accuracy: 0.9500\n",
            "Epoch 14/200\n",
            "138/138 [==============================] - 17s 116ms/step - loss: 0.0791 - accuracy: 0.9704 - val_loss: 0.1255 - val_accuracy: 0.9722\n",
            "Epoch 15/200\n",
            "138/138 [==============================] - 17s 116ms/step - loss: 0.0682 - accuracy: 0.9761 - val_loss: 0.1912 - val_accuracy: 0.9556\n",
            "Epoch 16/200\n",
            "138/138 [==============================] - 16s 113ms/step - loss: 0.0828 - accuracy: 0.9743 - val_loss: 0.1721 - val_accuracy: 0.9611\n",
            "Epoch 17/200\n",
            "138/138 [==============================] - 17s 117ms/step - loss: 0.0655 - accuracy: 0.9797 - val_loss: 0.1216 - val_accuracy: 0.9722\n",
            "Epoch 18/200\n",
            "138/138 [==============================] - 17s 117ms/step - loss: 0.0851 - accuracy: 0.9754 - val_loss: 0.1594 - val_accuracy: 0.9611\n",
            "Epoch 19/200\n",
            "138/138 [==============================] - 16s 114ms/step - loss: 0.0913 - accuracy: 0.9709 - val_loss: 0.1305 - val_accuracy: 0.9750\n",
            "Epoch 20/200\n",
            "138/138 [==============================] - 17s 116ms/step - loss: 0.0887 - accuracy: 0.9690 - val_loss: 0.1543 - val_accuracy: 0.9583\n",
            "Epoch 21/200\n",
            "138/138 [==============================] - 17s 116ms/step - loss: 0.1208 - accuracy: 0.9622 - val_loss: 0.1447 - val_accuracy: 0.9639\n",
            "Epoch 22/200\n",
            "138/138 [==============================] - 16s 114ms/step - loss: 0.0578 - accuracy: 0.9779 - val_loss: 0.2061 - val_accuracy: 0.9611\n",
            "Epoch 23/200\n",
            "138/138 [==============================] - 17s 119ms/step - loss: 0.0499 - accuracy: 0.9816 - val_loss: 0.1363 - val_accuracy: 0.9750\n",
            "Epoch 24/200\n",
            "138/138 [==============================] - 16s 113ms/step - loss: 0.0591 - accuracy: 0.9820 - val_loss: 0.1178 - val_accuracy: 0.9722\n",
            "Epoch 25/200\n",
            "138/138 [==============================] - 17s 118ms/step - loss: 0.0475 - accuracy: 0.9841 - val_loss: 0.1558 - val_accuracy: 0.9583\n",
            "Epoch 26/200\n",
            "138/138 [==============================] - 17s 118ms/step - loss: 0.0626 - accuracy: 0.9795 - val_loss: 0.1352 - val_accuracy: 0.9694\n",
            "Epoch 27/200\n",
            "138/138 [==============================] - 17s 119ms/step - loss: 0.0391 - accuracy: 0.9850 - val_loss: 0.1248 - val_accuracy: 0.9556\n",
            "Epoch 28/200\n",
            "138/138 [==============================] - 18s 124ms/step - loss: 0.0452 - accuracy: 0.9850 - val_loss: 0.1335 - val_accuracy: 0.9639\n",
            "Epoch 29/200\n",
            "137/138 [============================>.] - ETA: 0s - loss: 0.0505 - accuracy: 0.9815Restoring model weights from the end of the best epoch: 19.\n",
            "138/138 [==============================] - 17s 121ms/step - loss: 0.0511 - accuracy: 0.9813 - val_loss: 0.1248 - val_accuracy: 0.9667\n",
            "Epoch 00029: early stopping\n"
          ]
        }
      ]
    },
    {
      "cell_type": "code",
      "metadata": {
        "colab": {
          "base_uri": "https://localhost:8080/",
          "height": 295
        },
        "id": "2PPKm5euoRAs",
        "outputId": "9dd016d7-caa8-4463-b256-3477ba8537be"
      },
      "source": [
        "import matplotlib.pyplot as plt\n",
        "\n",
        "plt.plot(h.history['accuracy'])\n",
        "plt.plot(h.history['val_accuracy'])\n",
        "plt.plot(h.history['loss'])\n",
        "plt.title('Model accuracy')\n",
        "plt.ylabel('accuracy')\n",
        "plt.xlabel('epoch')\n",
        "plt.legend(['training', 'validation','loss'], loc='upper right')\n",
        "plt.show()"
      ],
      "execution_count": 13,
      "outputs": [
        {
          "output_type": "display_data",
          "data": {
            "image/png": "[encoded data removed]",
            "text/plain": [
              "<Figure size 432x288 with 1 Axes>"
            ]
          },
          "metadata": {
            "needs_background": "light"
          }
        }
      ]
    },
    {
      "cell_type": "markdown",
      "metadata": {
        "id": "TVOKAhbsm_pw"
      },
      "source": [
        "## Evaluación de los resultados"
      ]
    },
    {
      "cell_type": "code",
      "metadata": {
        "colab": {
          "base_uri": "https://localhost:8080/",
          "height": 541
        },
        "id": "IkyaTtnAKfqA",
        "outputId": "bd4c2339-fa60-4915-f904-1a93ee5a4318"
      },
      "source": [
        "import numpy as np\n",
        "from sklearn.metrics import classification_report, confusion_matrix\n",
        "import seaborn as sns\n",
        "\n",
        "results = np.concatenate([(y, model.predict(x=x)) for x, y in val_ds], axis=1)\n",
        "\n",
        "predictions = np.argmax(results[0], axis=1)\n",
        "labels = np.argmax(results[1], axis=1)\n",
        "\n",
        "cf_matrix = confusion_matrix(labels, predictions)\n",
        "\n",
        "sns.heatmap(cf_matrix, annot=True, fmt=\"d\", cmap=\"Blues\")\n",
        "\n",
        "print(classification_report(labels, predictions, digits = 4))"
      ],
      "execution_count": 14,
      "outputs": [
        {
          "output_type": "stream",
          "name": "stdout",
          "text": [
            "              precision    recall  f1-score   support\n",
            "\n",
            "           0     1.0000    0.9524    0.9756        42\n",
            "           1     0.9750    0.9286    0.9512        42\n",
            "           2     0.9750    0.9750    0.9750        40\n",
            "           3     1.0000    0.9756    0.9877        41\n",
            "           4     0.9500    0.9744    0.9620        39\n",
            "           5     0.9750    1.0000    0.9873        39\n",
            "           6     0.9000    1.0000    0.9474        36\n",
            "           7     1.0000    1.0000    1.0000        40\n",
            "           8     1.0000    0.9756    0.9877        41\n",
            "\n",
            "    accuracy                         0.9750       360\n",
            "   macro avg     0.9750    0.9757    0.9749       360\n",
            "weighted avg     0.9762    0.9750    0.9751       360\n",
            "\n"
          ]
        },
        {
          "output_type": "display_data",
          "data": {
            "image/png": "[encoded data removed]",
            "text/plain": [
              "<Figure size 432x288 with 2 Axes>"
            ]
          },
          "metadata": {
            "needs_background": "light"
          }
        }
      ]
    },
    {
      "cell_type": "code",
      "metadata": {
        "colab": {
          "base_uri": "https://localhost:8080/"
        },
        "id": "djAlHGLz-Cjj",
        "outputId": "c7299dd2-c192-4b9b-9a21-2b0a4e9f3cf5"
      },
      "source": [
        "img = keras.preprocessing.image.load_img(\n",
        "    '/content/drive/My Drive/Colab Notebooks/datasets/Traffic-Signs/2/00021_00006_00000.png', target_size=image_size\n",
        ")\n",
        "img_array = keras.preprocessing.image.img_to_array(img)\n",
        "img_array = tf.expand_dims(img_array, 0)  # Create batch axis\n",
        "\n",
        "predictions = model.predict(img_array)\n",
        "print(np.argmax(predictions[0]))"
      ],
      "execution_count": 15,
      "outputs": [
        {
          "output_type": "stream",
          "name": "stdout",
          "text": [
            "1\n"
          ]
        }
      ]
    },
    {
      "cell_type": "code",
      "source": [
        "img = keras.preprocessing.image.load_img(\n",
        "    '/content/drive/My Drive/Colab Notebooks/imagenes/imagen5.png', target_size=image_size\n",
        ")\n",
        "img_array = keras.preprocessing.image.img_to_array(img)\n",
        "img_array = tf.expand_dims(img_array, 0)  # Create batch axis\n",
        "\n",
        "predictions = model.predict(img_array)\n",
        "print(np.argmax(predictions[0]))"
      ],
      "metadata": {
        "colab": {
          "base_uri": "https://localhost:8080/"
        },
        "id": "AjTaWk0IO5j8",
        "outputId": "32b162a0-7ba2-48a0-8d86-94c679072336"
      },
      "execution_count": 16,
      "outputs": [
        {
          "output_type": "stream",
          "name": "stdout",
          "text": [
            "5\n"
          ]
        }
      ]
    }
  ]
}