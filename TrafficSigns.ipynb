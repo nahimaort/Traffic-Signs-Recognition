{
  "nbformat": 4,
  "nbformat_minor": 0,
  "metadata": {
    "colab": {
      "name": "TrafficSigns.ipynb",
      "provenance": [],
      "collapsed_sections": [],
      "include_colab_link": true
    },
    "kernelspec": {
      "display_name": "Python 3",
      "name": "python3"
    },
    "accelerator": "GPU"
  },
  "cells": [
    {
      "cell_type": "markdown",
      "metadata": {
        "id": "view-in-github",
        "colab_type": "text"
      },
      "source": [
        "<a href=\"https://colab.research.google.com/github/nahimaort/Traffic-Signs-Recognition/blob/main/TrafficSigns.ipynb\" target=\"_parent\"><img src=\"https://colab.research.google.com/assets/colab-badge.svg\" alt=\"Open In Colab\"/></a>"
      ]
    },
    {
      "cell_type": "markdown",
      "metadata": {
        "id": "cXD8sjjQLj-k"
      },
      "source": [
        "# Reconocedor de señales de tráfico\n",
        "\n",
        "Vamos a desarrollar una red que reconozca señales de tráfico de tipo precaución.\n",
        "\n",
        "\n"
      ]
    },
    {
      "cell_type": "code",
      "metadata": {
        "id": "yZcKFL_TMkzR",
        "colab": {
          "base_uri": "https://localhost:8080/"
        },
        "outputId": "c3ca592e-cf0f-41ee-866e-0718cb0ea7ba"
      },
      "source": [
        "from google.colab import drive\n",
        "drive.mount('/content/drive')\n",
        "\n",
        "\n"
      ],
      "execution_count": 8,
      "outputs": [
        {
          "output_type": "stream",
          "name": "stdout",
          "text": [
            "Drive already mounted at /content/drive; to attempt to forcibly remount, call drive.mount(\"/content/drive\", force_remount=True).\n"
          ]
        }
      ]
    },
    {
      "cell_type": "code",
      "metadata": {
        "colab": {
          "base_uri": "https://localhost:8080/",
          "height": 37
        },
        "id": "eKjrirLcRIkU",
        "outputId": "f9d3e47f-69ae-488a-874a-71b65e65dc02"
      },
      "source": [
        "import tensorflow as tf\n",
        "tf.test.gpu_device_name()"
      ],
      "execution_count": 9,
      "outputs": [
        {
          "output_type": "execute_result",
          "data": {
            "application/vnd.google.colaboratory.intrinsic+json": {
              "type": "string"
            },
            "text/plain": [
              "'/device:GPU:0'"
            ]
          },
          "metadata": {},
          "execution_count": 9
        }
      ]
    },
    {
      "cell_type": "markdown",
      "source": [
        "Vemos una imagen de ejemplo"
      ],
      "metadata": {
        "id": "N3zF5ip1kPjR"
      }
    },
    {
      "cell_type": "code",
      "metadata": {
        "colab": {
          "base_uri": "https://localhost:8080/",
          "height": 301
        },
        "id": "x3JBgGOsKu44",
        "outputId": "3f8bd9fb-fbb5-4713-d8c5-555095d82fb1"
      },
      "source": [
        "!ls \"/content/drive/My Drive/Colab Notebooks/datasets/\"\n",
        "\n",
        "from matplotlib.pyplot import imshow\n",
        "import numpy as np\n",
        "from PIL import Image\n",
        "\n",
        "%matplotlib inline\n",
        "pil_im = Image.open('/content/drive/My Drive/Colab Notebooks/datasets/Traffic-Signs/5/00025_00040_00018.png', 'r')\n",
        "imshow(np.asarray(pil_im))\n",
        "\n"
      ],
      "execution_count": 10,
      "outputs": [
        {
          "output_type": "stream",
          "name": "stdout",
          "text": [
            "Traffic-Signs  Traffic-Signs-2\tTraffic-Signs-Validation\n"
          ]
        },
        {
          "output_type": "execute_result",
          "data": {
            "text/plain": [
              "<matplotlib.image.AxesImage at 0x7f6428066b10>"
            ]
          },
          "metadata": {},
          "execution_count": 10
        },
        {
          "output_type": "display_data",
          "data": {
            "image/png": "[encoded data removed]",
            "text/plain": [
              "<Figure size 432x288 with 1 Axes>"
            ]
          },
          "metadata": {
            "needs_background": "light"
          }
        }
      ]
    },
    {
      "cell_type": "markdown",
      "source": [
        "## Data Augmentation"
      ],
      "metadata": {
        "id": "X7U_9Zjj9WsA"
      }
    },
    {
      "cell_type": "code",
      "source": [
        "from keras.preprocessing.image import ImageDataGenerator, array_to_img, img_to_array, load_img\n",
        "import glob\n",
        "\n",
        "datagen = ImageDataGenerator(\n",
        "  horizontal_flip=False,\n",
        "\tvertical_flip=False,\n",
        "\trotation_range=25,\n",
        "\tzoom_range=0.20,\n",
        "\tshear_range=0.20,\n",
        "\tfill_mode=\"nearest\")\n",
        "\n",
        "for i in range(1, 10, 1):\n",
        "  for name in glob.glob(\"/content/drive/My Drive/Colab Notebooks/datasets/Traffic-Signs/\" + str(i) + \"/*.png\"):\n",
        "    img = load_img(name)\n",
        "    x = img_to_array(img)\n",
        "    x = x.reshape((1,) + x.shape) \n",
        "    j = 0\n",
        "    for batch in datagen.flow(x, batch_size=1,\n",
        "                                  save_to_dir=\"/content/drive/My Drive/Colab Notebooks/datasets/Traffic-Signs/\" + str(i) + \"/da/\", \n",
        "                              save_prefix=\"image\", save_format='png'):\n",
        "      j += 1\n",
        "      if j >= 2:\n",
        "        break\n",
        "print(\"Finalización del aumento de datos\")"
      ],
      "metadata": {
        "id": "Wj1hJvCa9ZAA",
        "colab": {
          "base_uri": "https://localhost:8080/"
        },
        "outputId": "1742ed7a-5aec-4289-e905-be97afd5fe42"
      },
      "execution_count": 11,
      "outputs": [
        {
          "output_type": "stream",
          "name": "stdout",
          "text": [
            "Finalización del aumento de datos\n"
          ]
        }
      ]
    },
    {
      "cell_type": "markdown",
      "metadata": {
        "id": "UCaBgMS8OdiV"
      },
      "source": [
        "## Primer modelo"
      ]
    },
    {
      "cell_type": "code",
      "metadata": {
        "colab": {
          "base_uri": "https://localhost:8080/"
        },
        "id": "25NfZptPxjgD",
        "outputId": "64162bb2-0ad6-418a-e18f-23604ed1890f"
      },
      "source": [
        "# DATA SOURCE --------------------------------------------------\n",
        "\n",
        "image_size = (150, 150)\n",
        "batch_size = 32\n",
        "\n",
        "train_ds = tf.keras.preprocessing.image_dataset_from_directory(\n",
        "    \"/content/drive/My Drive/Colab Notebooks/datasets/Traffic-Signs\",\n",
        "    image_size=image_size,\n",
        "    batch_size=batch_size,\n",
        "    label_mode='categorical'\n",
        ")\n",
        "val_ds = tf.keras.preprocessing.image_dataset_from_directory(\n",
        "    \"/content/drive/My Drive/Colab Notebooks/datasets/Traffic-Signs-Validation\",\n",
        "    image_size=image_size,\n",
        "    batch_size=batch_size,\n",
        "    label_mode='categorical'\n",
        ")\n",
        "\n",
        "train_ds = train_ds.prefetch(buffer_size=32)\n",
        "val_ds = val_ds.prefetch(buffer_size=32)"
      ],
      "execution_count": 12,
      "outputs": [
        {
          "output_type": "stream",
          "name": "stdout",
          "text": [
            "Found 4393 files belonging to 9 classes.\n",
            "Found 360 files belonging to 9 classes.\n"
          ]
        }
      ]
    },
    {
      "cell_type": "code",
      "metadata": {
        "id": "e5tVrY9gxyfJ"
      },
      "source": [
        "# MODEL --------------------------------------------------\n",
        "\n",
        "import tensorflow as tf\n",
        "from tensorflow import keras\n",
        "from tensorflow.keras.layers import Conv2D, MaxPooling2D, Dropout, Dense, Rescaling, Flatten\n",
        "from tensorflow.keras.callbacks import EarlyStopping\n",
        "\n",
        "model = keras.Sequential()\n",
        "model.add(Rescaling(scale=(1./127.5),\n",
        "                    offset=-1, \n",
        "                    input_shape=(150, 150, 3)))\n",
        "model.add(Conv2D(32, kernel_size=(3, 3), activation='relu'))\n",
        "model.add(MaxPooling2D(pool_size=(2, 2)))\n",
        "model.add(Conv2D(64, (3, 3), activation='relu'))\n",
        "model.add(MaxPooling2D(pool_size=(2, 2)))\n",
        "model.add(Dropout(0.25))\n",
        "model.add(Conv2D(128, (3, 3), activation='relu'))\n",
        "model.add(MaxPooling2D(pool_size=(2, 2)))\n",
        "model.add(Dropout(0.25))\n",
        "\n",
        "model.add(Flatten())\n",
        "model.add(Dense(128, activation='relu'))\n",
        "model.add(Dropout(0.5))\n",
        "model.add(Dense(9, activation='softmax'))\n",
        "\n",
        "model.compile(loss=tf.keras.losses.categorical_crossentropy,\n",
        "              optimizer=tf.keras.optimizers.Adagrad(1e-3),\n",
        "              metrics=['accuracy'])"
      ],
      "execution_count": 19,
      "outputs": []
    },
    {
      "cell_type": "code",
      "metadata": {
        "colab": {
          "base_uri": "https://localhost:8080/"
        },
        "id": "-AiE5BwazFFK",
        "outputId": "8a8942f0-98d2-44b3-cfb7-ab882a31b84a"
      },
      "source": [
        "# TRAINING --------------------------------------------------\n",
        "\n",
        "epochs = 200\n",
        "\n",
        "es = EarlyStopping(monitor='val_accuracy', mode='max', verbose=1, patience=10, restore_best_weights=True)\n",
        "\n",
        "h = model.fit(\n",
        "        train_ds,\n",
        "        epochs=epochs, \n",
        "        validation_data=val_ds,\n",
        "        callbacks = [es]\n",
        ")"
      ],
      "execution_count": 20,
      "outputs": [
        {
          "output_type": "stream",
          "name": "stdout",
          "text": [
            "Epoch 1/200\n",
            "138/138 [==============================] - 17s 115ms/step - loss: 2.1618 - accuracy: 0.1603 - val_loss: 2.1151 - val_accuracy: 0.3306\n",
            "Epoch 2/200\n",
            "138/138 [==============================] - 17s 115ms/step - loss: 1.9865 - accuracy: 0.2916 - val_loss: 1.9260 - val_accuracy: 0.3444\n",
            "Epoch 3/200\n",
            "138/138 [==============================] - 17s 114ms/step - loss: 1.6509 - accuracy: 0.4405 - val_loss: 1.6034 - val_accuracy: 0.5556\n",
            "Epoch 4/200\n",
            "138/138 [==============================] - 16s 114ms/step - loss: 1.3547 - accuracy: 0.5404 - val_loss: 1.2841 - val_accuracy: 0.6639\n",
            "Epoch 5/200\n",
            "138/138 [==============================] - 16s 114ms/step - loss: 1.1495 - accuracy: 0.6014 - val_loss: 1.2077 - val_accuracy: 0.6556\n",
            "Epoch 6/200\n",
            "138/138 [==============================] - 16s 114ms/step - loss: 1.0457 - accuracy: 0.6440 - val_loss: 1.0567 - val_accuracy: 0.7444\n",
            "Epoch 7/200\n",
            "138/138 [==============================] - 16s 113ms/step - loss: 0.9258 - accuracy: 0.6827 - val_loss: 1.0331 - val_accuracy: 0.7222\n",
            "Epoch 8/200\n",
            "138/138 [==============================] - 16s 113ms/step - loss: 0.8659 - accuracy: 0.7089 - val_loss: 0.9517 - val_accuracy: 0.7472\n",
            "Epoch 9/200\n",
            "138/138 [==============================] - 16s 112ms/step - loss: 0.8055 - accuracy: 0.7357 - val_loss: 0.8919 - val_accuracy: 0.7389\n",
            "Epoch 10/200\n",
            "138/138 [==============================] - 16s 114ms/step - loss: 0.7367 - accuracy: 0.7455 - val_loss: 0.8261 - val_accuracy: 0.7944\n",
            "Epoch 11/200\n",
            "138/138 [==============================] - 16s 113ms/step - loss: 0.6912 - accuracy: 0.7653 - val_loss: 0.7952 - val_accuracy: 0.8028\n",
            "Epoch 12/200\n",
            "138/138 [==============================] - 16s 113ms/step - loss: 0.6555 - accuracy: 0.7767 - val_loss: 0.8396 - val_accuracy: 0.7417\n",
            "Epoch 13/200\n",
            "138/138 [==============================] - 16s 114ms/step - loss: 0.6275 - accuracy: 0.7853 - val_loss: 0.7420 - val_accuracy: 0.8056\n",
            "Epoch 14/200\n",
            "138/138 [==============================] - 16s 112ms/step - loss: 0.5754 - accuracy: 0.8015 - val_loss: 0.7076 - val_accuracy: 0.8222\n",
            "Epoch 15/200\n",
            "138/138 [==============================] - 17s 115ms/step - loss: 0.5541 - accuracy: 0.8168 - val_loss: 0.6679 - val_accuracy: 0.8417\n",
            "Epoch 16/200\n",
            "138/138 [==============================] - 16s 113ms/step - loss: 0.5274 - accuracy: 0.8293 - val_loss: 0.6756 - val_accuracy: 0.8222\n",
            "Epoch 17/200\n",
            "138/138 [==============================] - 16s 112ms/step - loss: 0.5222 - accuracy: 0.8281 - val_loss: 0.6810 - val_accuracy: 0.8111\n",
            "Epoch 18/200\n",
            "138/138 [==============================] - 17s 114ms/step - loss: 0.4750 - accuracy: 0.8372 - val_loss: 0.6419 - val_accuracy: 0.8417\n",
            "Epoch 19/200\n",
            "138/138 [==============================] - 16s 114ms/step - loss: 0.4648 - accuracy: 0.8457 - val_loss: 0.6191 - val_accuracy: 0.8306\n",
            "Epoch 20/200\n",
            "138/138 [==============================] - 16s 113ms/step - loss: 0.4452 - accuracy: 0.8516 - val_loss: 0.6322 - val_accuracy: 0.8389\n",
            "Epoch 21/200\n",
            "138/138 [==============================] - 17s 115ms/step - loss: 0.4366 - accuracy: 0.8495 - val_loss: 0.5821 - val_accuracy: 0.8472\n",
            "Epoch 22/200\n",
            "138/138 [==============================] - 16s 113ms/step - loss: 0.4063 - accuracy: 0.8614 - val_loss: 0.6682 - val_accuracy: 0.8000\n",
            "Epoch 23/200\n",
            "138/138 [==============================] - 16s 114ms/step - loss: 0.3792 - accuracy: 0.8789 - val_loss: 0.5690 - val_accuracy: 0.8500\n",
            "Epoch 24/200\n",
            "138/138 [==============================] - 16s 113ms/step - loss: 0.3650 - accuracy: 0.8841 - val_loss: 0.5415 - val_accuracy: 0.8556\n",
            "Epoch 25/200\n",
            "138/138 [==============================] - 16s 114ms/step - loss: 0.3643 - accuracy: 0.8794 - val_loss: 0.5392 - val_accuracy: 0.8556\n",
            "Epoch 26/200\n",
            "138/138 [==============================] - 17s 115ms/step - loss: 0.3510 - accuracy: 0.8837 - val_loss: 0.5379 - val_accuracy: 0.8667\n",
            "Epoch 27/200\n",
            "138/138 [==============================] - 16s 113ms/step - loss: 0.3409 - accuracy: 0.8866 - val_loss: 0.5260 - val_accuracy: 0.8722\n",
            "Epoch 28/200\n",
            "138/138 [==============================] - 16s 113ms/step - loss: 0.3320 - accuracy: 0.8939 - val_loss: 0.5191 - val_accuracy: 0.8611\n",
            "Epoch 29/200\n",
            "138/138 [==============================] - 17s 114ms/step - loss: 0.3217 - accuracy: 0.8957 - val_loss: 0.4900 - val_accuracy: 0.8861\n",
            "Epoch 30/200\n",
            "138/138 [==============================] - 16s 114ms/step - loss: 0.3023 - accuracy: 0.9033 - val_loss: 0.5483 - val_accuracy: 0.8444\n",
            "Epoch 31/200\n",
            "138/138 [==============================] - 16s 114ms/step - loss: 0.3032 - accuracy: 0.9010 - val_loss: 0.4892 - val_accuracy: 0.8861\n",
            "Epoch 32/200\n",
            "138/138 [==============================] - 16s 113ms/step - loss: 0.2930 - accuracy: 0.9033 - val_loss: 0.5048 - val_accuracy: 0.8556\n",
            "Epoch 33/200\n",
            "138/138 [==============================] - 16s 113ms/step - loss: 0.2819 - accuracy: 0.9026 - val_loss: 0.4833 - val_accuracy: 0.8722\n",
            "Epoch 34/200\n",
            "138/138 [==============================] - 17s 114ms/step - loss: 0.2619 - accuracy: 0.9140 - val_loss: 0.4916 - val_accuracy: 0.8583\n",
            "Epoch 35/200\n",
            "138/138 [==============================] - 16s 113ms/step - loss: 0.2620 - accuracy: 0.9135 - val_loss: 0.4739 - val_accuracy: 0.8833\n",
            "Epoch 36/200\n",
            "138/138 [==============================] - 16s 114ms/step - loss: 0.2554 - accuracy: 0.9165 - val_loss: 0.4920 - val_accuracy: 0.8722\n",
            "Epoch 37/200\n",
            "138/138 [==============================] - 17s 114ms/step - loss: 0.2465 - accuracy: 0.9142 - val_loss: 0.4886 - val_accuracy: 0.8722\n",
            "Epoch 38/200\n",
            "138/138 [==============================] - 16s 112ms/step - loss: 0.2404 - accuracy: 0.9221 - val_loss: 0.4710 - val_accuracy: 0.8833\n",
            "Epoch 39/200\n",
            "137/138 [============================>.] - ETA: 0s - loss: 0.2230 - accuracy: 0.9313Restoring model weights from the end of the best epoch: 29.\n",
            "138/138 [==============================] - 17s 114ms/step - loss: 0.2230 - accuracy: 0.9313 - val_loss: 0.4746 - val_accuracy: 0.8722\n",
            "Epoch 00039: early stopping\n"
          ]
        }
      ]
    },
    {
      "cell_type": "code",
      "metadata": {
        "colab": {
          "base_uri": "https://localhost:8080/",
          "height": 295
        },
        "id": "2PPKm5euoRAs",
        "outputId": "373bbb4b-5bfb-4608-f245-0406b62a9167"
      },
      "source": [
        "import matplotlib.pyplot as plt\n",
        "\n",
        "plt.plot(h.history['accuracy'])\n",
        "plt.plot(h.history['val_accuracy'])\n",
        "plt.plot(h.history['loss'])\n",
        "plt.title('Model accuracy')\n",
        "plt.ylabel('accuracy')\n",
        "plt.xlabel('epoch')\n",
        "plt.legend(['training', 'validation','loss'], loc='upper right')\n",
        "plt.show()"
      ],
      "execution_count": 21,
      "outputs": [
        {
          "output_type": "display_data",
          "data": {
            "image/png": "[encoded data removed]",
            "text/plain": [
              "<Figure size 432x288 with 1 Axes>"
            ]
          },
          "metadata": {
            "needs_background": "light"
          }
        }
      ]
    },
    {
      "cell_type": "markdown",
      "metadata": {
        "id": "TVOKAhbsm_pw"
      },
      "source": [
        "## Evaluación de los resultados"
      ]
    },
    {
      "cell_type": "code",
      "metadata": {
        "colab": {
          "base_uri": "https://localhost:8080/",
          "height": 541
        },
        "id": "IkyaTtnAKfqA",
        "outputId": "014e5b9a-64a8-4f88-c6b0-a72bc42d5ecf"
      },
      "source": [
        "import numpy as np\n",
        "from sklearn.metrics import classification_report, confusion_matrix\n",
        "import seaborn as sns\n",
        "\n",
        "results = np.concatenate([(y, model.predict(x=x)) for x, y in val_ds], axis=1)\n",
        "\n",
        "predictions = np.argmax(results[0], axis=1)\n",
        "labels = np.argmax(results[1], axis=1)\n",
        "\n",
        "cf_matrix = confusion_matrix(labels, predictions)\n",
        "\n",
        "sns.heatmap(cf_matrix, annot=True, fmt=\"d\", cmap=\"Blues\")\n",
        "\n",
        "print(classification_report(labels, predictions, digits = 4))"
      ],
      "execution_count": 22,
      "outputs": [
        {
          "output_type": "stream",
          "name": "stdout",
          "text": [
            "              precision    recall  f1-score   support\n",
            "\n",
            "           0     0.9000    0.8571    0.8780        42\n",
            "           1     0.7750    0.7949    0.7848        39\n",
            "           2     0.9000    0.8000    0.8471        45\n",
            "           3     1.0000    0.9756    0.9877        41\n",
            "           4     0.9250    0.9487    0.9367        39\n",
            "           5     0.9750    0.9512    0.9630        41\n",
            "           6     0.8250    0.9706    0.8919        34\n",
            "           7     0.8500    0.8095    0.8293        42\n",
            "           8     0.8250    0.8919    0.8571        37\n",
            "\n",
            "    accuracy                         0.8861       360\n",
            "   macro avg     0.8861    0.8888    0.8862       360\n",
            "weighted avg     0.8885    0.8861    0.8861       360\n",
            "\n"
          ]
        },
        {
          "output_type": "display_data",
          "data": {
            "image/png": "[encoded data removed]",
            "text/plain": [
              "<Figure size 432x288 with 2 Axes>"
            ]
          },
          "metadata": {
            "needs_background": "light"
          }
        }
      ]
    },
    {
      "cell_type": "code",
      "metadata": {
        "colab": {
          "base_uri": "https://localhost:8080/"
        },
        "id": "djAlHGLz-Cjj",
        "outputId": "ab2fa477-3c73-4b27-c72c-77ff8c3fabb5"
      },
      "source": [
        "img = keras.preprocessing.image.load_img(\n",
        "    '/content/drive/My Drive/Colab Notebooks/datasets/Traffic-Signs/2/00021_00006_00000.png', target_size=image_size\n",
        ")\n",
        "img_array = keras.preprocessing.image.img_to_array(img)\n",
        "img_array = tf.expand_dims(img_array, 0)  # Create batch axis\n",
        "\n",
        "predictions = model.predict(img_array)\n",
        "print(np.argmax(predictions[0]))"
      ],
      "execution_count": 23,
      "outputs": [
        {
          "output_type": "stream",
          "name": "stdout",
          "text": [
            "1\n"
          ]
        }
      ]
    },
    {
      "cell_type": "code",
      "source": [
        "img = keras.preprocessing.image.load_img(\n",
        "    '/content/drive/My Drive/Colab Notebooks/imagenes/imagen5.png', target_size=image_size\n",
        ")\n",
        "img_array = keras.preprocessing.image.img_to_array(img)\n",
        "img_array = tf.expand_dims(img_array, 0)  # Create batch axis\n",
        "\n",
        "predictions = model.predict(img_array)\n",
        "print(np.argmax(predictions[0]))"
      ],
      "metadata": {
        "colab": {
          "base_uri": "https://localhost:8080/"
        },
        "id": "AjTaWk0IO5j8",
        "outputId": "fee507fa-705e-4a7d-8021-9675e90cd9c3"
      },
      "execution_count": 24,
      "outputs": [
        {
          "output_type": "stream",
          "name": "stdout",
          "text": [
            "5\n"
          ]
        }
      ]
    }
  ]
}