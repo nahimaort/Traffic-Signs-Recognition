{
  "nbformat": 4,
  "nbformat_minor": 0,
  "metadata": {
    "colab": {
      "name": "TrafficSigns.ipynb",
      "provenance": [],
      "collapsed_sections": [],
      "include_colab_link": true
    },
    "kernelspec": {
      "display_name": "Python 3",
      "name": "python3"
    }
  },
  "cells": [
    {
      "cell_type": "markdown",
      "metadata": {
        "id": "view-in-github",
        "colab_type": "text"
      },
      "source": [
        "<a href=\"https://colab.research.google.com/github/nahimaort/Traffic-Signs-Recognition/blob/main/TrafficSigns.ipynb\" target=\"_parent\"><img src=\"https://colab.research.google.com/assets/colab-badge.svg\" alt=\"Open In Colab\"/></a>"
      ]
    },
    {
      "cell_type": "markdown",
      "metadata": {
        "id": "cXD8sjjQLj-k"
      },
      "source": [
        "# Reconocedor de señales de tráfico\n",
        "\n",
        "Vamos a desarrollar una red que reconozca señales de tráfico de tipo precaución. Para ello, vamos a utilizar un dataset hemos extraído de Kaggle: el dataset GTSRB."
      ]
    },
    {
      "cell_type": "code",
      "metadata": {
        "id": "yZcKFL_TMkzR",
        "colab": {
          "base_uri": "https://localhost:8080/"
        },
        "outputId": "7711f3a2-06dc-40a2-d31a-a95328a6eab4"
      },
      "source": [
        "from google.colab import drive\n",
        "drive.mount('/content/drive')"
      ],
      "execution_count": null,
      "outputs": [
        {
          "output_type": "stream",
          "name": "stdout",
          "text": [
            "Mounted at /content/drive\n"
          ]
        }
      ]
    },
    {
      "cell_type": "code",
      "metadata": {
        "colab": {
          "base_uri": "https://localhost:8080/",
          "height": 37
        },
        "id": "eKjrirLcRIkU",
        "outputId": "c40c90b3-52c9-4b86-d6c1-6ca8bade8c39"
      },
      "source": [
        "import tensorflow as tf\n",
        "tf.test.gpu_device_name()"
      ],
      "execution_count": null,
      "outputs": [
        {
          "output_type": "execute_result",
          "data": {
            "application/vnd.google.colaboratory.intrinsic+json": {
              "type": "string"
            },
            "text/plain": [
              "'/device:GPU:0'"
            ]
          },
          "metadata": {},
          "execution_count": 2
        }
      ]
    },
    {
      "cell_type": "markdown",
      "source": [
        "Vemos una imagen de ejemplo"
      ],
      "metadata": {
        "id": "N3zF5ip1kPjR"
      }
    },
    {
      "cell_type": "code",
      "metadata": {
        "colab": {
          "base_uri": "https://localhost:8080/",
          "height": 301
        },
        "id": "x3JBgGOsKu44",
        "outputId": "d8b00051-ece8-4d10-ab3c-a576fc6c6630"
      },
      "source": [
        "!ls \"/content/drive/My Drive/Colab Notebooks/datasets/\"\n",
        "\n",
        "from matplotlib.pyplot import imshow\n",
        "import numpy as np\n",
        "from PIL import Image\n",
        "\n",
        "%matplotlib inline\n",
        "pil_im = Image.open('/content/drive/My Drive/Colab Notebooks/datasets/Traffic-Signs/5/00025_00040_00018.png', 'r')\n",
        "imshow(np.asarray(pil_im))\n",
        "\n"
      ],
      "execution_count": null,
      "outputs": [
        {
          "output_type": "stream",
          "name": "stdout",
          "text": [
            "Traffic-Signs  Traffic-Signs-2\tTraffic-Signs-3  Traffic-Signs-4\n"
          ]
        },
        {
          "output_type": "execute_result",
          "data": {
            "text/plain": [
              "<matplotlib.image.AxesImage at 0x7f73b004b7d0>"
            ]
          },
          "metadata": {},
          "execution_count": 3
        },
        {
          "output_type": "display_data",
          "data": {
            "image/png": "[encoded data removed]",
            "text/plain": [
              "<Figure size 432x288 with 1 Axes>"
            ]
          },
          "metadata": {
            "needs_background": "light"
          }
        }
      ]
    },
    {
      "cell_type": "markdown",
      "metadata": {
        "id": "UCaBgMS8OdiV"
      },
      "source": [
        "## Primer modelo"
      ]
    },
    {
      "cell_type": "code",
      "metadata": {
        "colab": {
          "base_uri": "https://localhost:8080/"
        },
        "id": "25NfZptPxjgD",
        "outputId": "d8954545-47b3-433a-cf23-cfc845d6427e"
      },
      "source": [
        "# DATA SOURCE --------------------------------------------------\n",
        "\n",
        "image_size = (150, 150)\n",
        "batch_size = 32\n",
        "\n",
        "train_ds = tf.keras.preprocessing.image_dataset_from_directory(\n",
        "    \"/content/drive/My Drive/Colab Notebooks/datasets/Traffic-Signs\",\n",
        "    validation_split=0.2,\n",
        "    subset=\"training\",\n",
        "    seed=1337,\n",
        "    image_size=image_size,\n",
        "    batch_size=batch_size,\n",
        "    label_mode='categorical'\n",
        ")\n",
        "val_ds = tf.keras.preprocessing.image_dataset_from_directory(\n",
        "    \"/content/drive/My Drive/Colab Notebooks/datasets/Traffic-Signs\",\n",
        "    validation_split=0.2,\n",
        "    subset=\"validation\",\n",
        "    seed=1337,\n",
        "    image_size=image_size,\n",
        "    batch_size=batch_size,\n",
        "    label_mode='categorical'\n",
        ")\n",
        "\n",
        "train_ds = train_ds.prefetch(buffer_size=32)\n",
        "val_ds = val_ds.prefetch(buffer_size=32)"
      ],
      "execution_count": null,
      "outputs": [
        {
          "output_type": "stream",
          "name": "stdout",
          "text": [
            "Found 1840 files belonging to 9 classes.\n",
            "Using 1472 files for training.\n",
            "Found 1840 files belonging to 9 classes.\n",
            "Using 368 files for validation.\n"
          ]
        }
      ]
    },
    {
      "cell_type": "code",
      "metadata": {
        "id": "e5tVrY9gxyfJ"
      },
      "source": [
        "# MODEL --------------------------------------------------\n",
        "\n",
        "import tensorflow as tf\n",
        "from tensorflow import keras\n",
        "from tensorflow.keras.layers import Conv2D, MaxPooling2D, Dropout, Dense, Rescaling, Flatten\n",
        "from tensorflow.keras.callbacks import EarlyStopping\n",
        "\n",
        "model = keras.Sequential()\n",
        "model.add(Rescaling(scale=(1./127.5),\n",
        "                    offset=-1, \n",
        "                    input_shape=(150, 150, 3)))\n",
        "model.add(Conv2D(32, kernel_size=(3, 3), activation='relu'))\n",
        "model.add(MaxPooling2D(pool_size=(2, 2)))\n",
        "model.add(Conv2D(64, (3, 3), activation='relu'))\n",
        "model.add(MaxPooling2D(pool_size=(2, 2)))\n",
        "model.add(Dropout(0.25))\n",
        "model.add(Conv2D(128, (3, 3), activation='relu'))\n",
        "model.add(MaxPooling2D(pool_size=(2, 2)))\n",
        "model.add(Dropout(0.25))\n",
        "\n",
        "model.add(Flatten())\n",
        "model.add(Dense(128, activation='relu'))\n",
        "model.add(Dropout(0.5))\n",
        "model.add(Dense(9, activation='softmax'))\n",
        "\n",
        "model.compile(loss=tf.keras.losses.categorical_crossentropy,\n",
        "              optimizer=tf.keras.optimizers.Adam(1e-3),\n",
        "              metrics=['accuracy'])"
      ],
      "execution_count": null,
      "outputs": []
    },
    {
      "cell_type": "code",
      "metadata": {
        "colab": {
          "base_uri": "https://localhost:8080/"
        },
        "id": "-AiE5BwazFFK",
        "outputId": "836ea450-398d-487d-e4ed-9164d4e41ed8"
      },
      "source": [
        "# TRAINING --------------------------------------------------\n",
        "\n",
        "epochs = 200\n",
        "\n",
        "es = EarlyStopping(monitor='val_accuracy', mode='max', verbose=1, patience=10, restore_best_weights=True)\n",
        "\n",
        "h = model.fit(\n",
        "        train_ds,\n",
        "        epochs=epochs, \n",
        "        validation_data=val_ds,\n",
        "        callbacks = [es]\n",
        ")"
      ],
      "execution_count": null,
      "outputs": [
        {
          "output_type": "stream",
          "name": "stdout",
          "text": [
            "Epoch 1/200\n",
            "46/46 [==============================] - 319s 6s/step - loss: 2.1783 - accuracy: 0.1977 - val_loss: 1.9917 - val_accuracy: 0.3234\n",
            "Epoch 2/200\n",
            "46/46 [==============================] - 6s 113ms/step - loss: 1.4670 - accuracy: 0.5082 - val_loss: 0.9159 - val_accuracy: 0.7418\n",
            "Epoch 3/200\n",
            "46/46 [==============================] - 6s 112ms/step - loss: 0.7102 - accuracy: 0.7833 - val_loss: 0.4472 - val_accuracy: 0.9022\n",
            "Epoch 4/200\n",
            "46/46 [==============================] - 6s 111ms/step - loss: 0.4390 - accuracy: 0.8655 - val_loss: 0.3541 - val_accuracy: 0.9158\n",
            "Epoch 5/200\n",
            "46/46 [==============================] - 6s 111ms/step - loss: 0.3108 - accuracy: 0.8967 - val_loss: 0.2892 - val_accuracy: 0.9103\n",
            "Epoch 6/200\n",
            "46/46 [==============================] - 6s 108ms/step - loss: 0.2308 - accuracy: 0.9273 - val_loss: 0.2572 - val_accuracy: 0.9348\n",
            "Epoch 7/200\n",
            "46/46 [==============================] - 6s 114ms/step - loss: 0.1960 - accuracy: 0.9307 - val_loss: 0.2374 - val_accuracy: 0.9538\n",
            "Epoch 8/200\n",
            "46/46 [==============================] - 6s 112ms/step - loss: 0.1759 - accuracy: 0.9436 - val_loss: 0.2332 - val_accuracy: 0.9375\n",
            "Epoch 9/200\n",
            "46/46 [==============================] - 6s 112ms/step - loss: 0.1416 - accuracy: 0.9565 - val_loss: 0.2530 - val_accuracy: 0.9429\n",
            "Epoch 10/200\n",
            "46/46 [==============================] - 6s 112ms/step - loss: 0.1248 - accuracy: 0.9606 - val_loss: 0.2398 - val_accuracy: 0.9511\n",
            "Epoch 11/200\n",
            "46/46 [==============================] - 6s 109ms/step - loss: 0.1167 - accuracy: 0.9647 - val_loss: 0.2240 - val_accuracy: 0.9538\n",
            "Epoch 12/200\n",
            "46/46 [==============================] - 6s 112ms/step - loss: 0.0858 - accuracy: 0.9715 - val_loss: 0.2347 - val_accuracy: 0.9620\n",
            "Epoch 13/200\n",
            "46/46 [==============================] - 6s 113ms/step - loss: 0.1325 - accuracy: 0.9633 - val_loss: 0.2310 - val_accuracy: 0.9538\n",
            "Epoch 14/200\n",
            "46/46 [==============================] - 6s 111ms/step - loss: 0.1369 - accuracy: 0.9599 - val_loss: 0.1894 - val_accuracy: 0.9565\n",
            "Epoch 15/200\n",
            "46/46 [==============================] - 6s 111ms/step - loss: 0.0978 - accuracy: 0.9654 - val_loss: 0.2263 - val_accuracy: 0.9511\n",
            "Epoch 16/200\n",
            "46/46 [==============================] - 6s 110ms/step - loss: 0.0818 - accuracy: 0.9755 - val_loss: 0.2335 - val_accuracy: 0.9484\n",
            "Epoch 17/200\n",
            "46/46 [==============================] - 6s 109ms/step - loss: 0.0680 - accuracy: 0.9810 - val_loss: 0.1837 - val_accuracy: 0.9565\n",
            "Epoch 18/200\n",
            "46/46 [==============================] - 6s 109ms/step - loss: 0.0637 - accuracy: 0.9796 - val_loss: 0.1974 - val_accuracy: 0.9620\n",
            "Epoch 19/200\n",
            "46/46 [==============================] - 6s 110ms/step - loss: 0.0417 - accuracy: 0.9857 - val_loss: 0.2122 - val_accuracy: 0.9647\n",
            "Epoch 20/200\n",
            "46/46 [==============================] - 6s 108ms/step - loss: 0.0634 - accuracy: 0.9830 - val_loss: 0.2200 - val_accuracy: 0.9620\n",
            "Epoch 21/200\n",
            "46/46 [==============================] - 6s 109ms/step - loss: 0.0484 - accuracy: 0.9844 - val_loss: 0.2157 - val_accuracy: 0.9755\n",
            "Epoch 22/200\n",
            "46/46 [==============================] - 6s 110ms/step - loss: 0.0553 - accuracy: 0.9823 - val_loss: 0.2592 - val_accuracy: 0.9592\n",
            "Epoch 23/200\n",
            "46/46 [==============================] - 5s 107ms/step - loss: 0.0563 - accuracy: 0.9844 - val_loss: 0.1584 - val_accuracy: 0.9755\n",
            "Epoch 24/200\n",
            "46/46 [==============================] - 5s 107ms/step - loss: 0.0598 - accuracy: 0.9810 - val_loss: 0.1437 - val_accuracy: 0.9755\n",
            "Epoch 25/200\n",
            "46/46 [==============================] - 6s 108ms/step - loss: 0.0320 - accuracy: 0.9912 - val_loss: 0.1994 - val_accuracy: 0.9674\n",
            "Epoch 26/200\n",
            "46/46 [==============================] - 5s 108ms/step - loss: 0.0250 - accuracy: 0.9925 - val_loss: 0.1756 - val_accuracy: 0.9728\n",
            "Epoch 27/200\n",
            "46/46 [==============================] - 6s 109ms/step - loss: 0.0448 - accuracy: 0.9885 - val_loss: 0.1815 - val_accuracy: 0.9728\n",
            "Epoch 28/200\n",
            "46/46 [==============================] - 6s 110ms/step - loss: 0.0562 - accuracy: 0.9823 - val_loss: 0.2078 - val_accuracy: 0.9647\n",
            "Epoch 29/200\n",
            "46/46 [==============================] - 6s 110ms/step - loss: 0.0436 - accuracy: 0.9864 - val_loss: 0.2007 - val_accuracy: 0.9647\n",
            "Epoch 30/200\n",
            "46/46 [==============================] - 6s 111ms/step - loss: 0.0543 - accuracy: 0.9844 - val_loss: 0.1742 - val_accuracy: 0.9674\n",
            "Epoch 31/200\n",
            "46/46 [==============================] - ETA: 0s - loss: 0.0515 - accuracy: 0.9851Restoring model weights from the end of the best epoch: 21.\n",
            "46/46 [==============================] - 6s 112ms/step - loss: 0.0515 - accuracy: 0.9851 - val_loss: 0.1997 - val_accuracy: 0.9647\n",
            "Epoch 00031: early stopping\n"
          ]
        }
      ]
    },
    {
      "cell_type": "code",
      "metadata": {
        "colab": {
          "base_uri": "https://localhost:8080/",
          "height": 295
        },
        "id": "2PPKm5euoRAs",
        "outputId": "c5e387ca-ae76-409a-b509-303691a3a1c1"
      },
      "source": [
        "import matplotlib.pyplot as plt\n",
        "\n",
        "plt.plot(h.history['accuracy'])\n",
        "plt.plot(h.history['val_accuracy'])\n",
        "plt.plot(h.history['loss'])\n",
        "plt.title('Model accuracy')\n",
        "plt.ylabel('accuracy')\n",
        "plt.xlabel('epoch')\n",
        "plt.legend(['training', 'validation','loss'], loc='upper right')\n",
        "plt.show()"
      ],
      "execution_count": null,
      "outputs": [
        {
          "output_type": "display_data",
          "data": {
            "image/png": "[encoded data removed]",
            "text/plain": [
              "<Figure size 432x288 with 1 Axes>"
            ]
          },
          "metadata": {
            "needs_background": "light"
          }
        }
      ]
    },
    {
      "cell_type": "markdown",
      "metadata": {
        "id": "TVOKAhbsm_pw"
      },
      "source": [
        "## Evaluación de los resultados"
      ]
    },
    {
      "cell_type": "code",
      "metadata": {
        "colab": {
          "base_uri": "https://localhost:8080/",
          "height": 537
        },
        "id": "IkyaTtnAKfqA",
        "outputId": "3c52e742-b7d4-4132-975d-35a42d6fa58b"
      },
      "source": [
        "import numpy as np\n",
        "from sklearn.metrics import classification_report, confusion_matrix\n",
        "import seaborn as sns\n",
        "\n",
        "results = np.concatenate([(y, model.predict(x=x)) for x, y in val_ds], axis=1)\n",
        "\n",
        "predictions = np.argmax(results[0], axis=1)\n",
        "labels = np.argmax(results[1], axis=1)\n",
        "\n",
        "cf_matrix = confusion_matrix(labels, predictions)\n",
        "\n",
        "sns.heatmap(cf_matrix, annot=True, fmt=\"d\", cmap=\"Blues\")\n",
        "\n",
        "print(classification_report(labels, predictions, digits = 4))"
      ],
      "execution_count": null,
      "outputs": [
        {
          "output_type": "stream",
          "name": "stdout",
          "text": [
            "              precision    recall  f1-score   support\n",
            "\n",
            "           0     0.9143    1.0000    0.9552        32\n",
            "           1     0.9773    0.9556    0.9663        45\n",
            "           2     1.0000    0.9362    0.9670        47\n",
            "           3     1.0000    0.9796    0.9897        49\n",
            "           4     0.9697    1.0000    0.9846        32\n",
            "           5     1.0000    0.9730    0.9863        37\n",
            "           6     0.9808    0.9808    0.9808        52\n",
            "           7     0.9444    0.9714    0.9577        35\n",
            "           8     0.9750    1.0000    0.9873        39\n",
            "\n",
            "    accuracy                         0.9755       368\n",
            "   macro avg     0.9735    0.9774    0.9750       368\n",
            "weighted avg     0.9765    0.9755    0.9756       368\n",
            "\n"
          ]
        },
        {
          "output_type": "display_data",
          "data": {
            "image/png": "[encoded data removed]",
            "text/plain": [
              "<Figure size 432x288 with 2 Axes>"
            ]
          },
          "metadata": {
            "needs_background": "light"
          }
        }
      ]
    },
    {
      "cell_type": "code",
      "metadata": {
        "colab": {
          "base_uri": "https://localhost:8080/"
        },
        "id": "djAlHGLz-Cjj",
        "outputId": "b984b778-213f-41a1-c28b-f4568d621027"
      },
      "source": [
        "img = keras.preprocessing.image.load_img(\n",
        "    '/content/drive/My Drive/Colab Notebooks/datasets/Traffic-Signs/2/00021_00006_00000.png', target_size=image_size\n",
        ")\n",
        "img_array = keras.preprocessing.image.img_to_array(img)\n",
        "img_array = tf.expand_dims(img_array, 0)  # Create batch axis\n",
        "\n",
        "predictions = model.predict(img_array)\n",
        "print(np.argmax(predictions[0]))"
      ],
      "execution_count": null,
      "outputs": [
        {
          "output_type": "stream",
          "name": "stdout",
          "text": [
            "1\n"
          ]
        }
      ]
    },
    {
      "cell_type": "code",
      "source": [
        "img = keras.preprocessing.image.load_img(\n",
        "    '/content/drive/My Drive/Colab Notebooks/imagenes/imagen5.png', target_size=image_size\n",
        ")\n",
        "img_array = keras.preprocessing.image.img_to_array(img)\n",
        "img_array = tf.expand_dims(img_array, 0)  # Create batch axis\n",
        "\n",
        "predictions = model.predict(img_array)\n",
        "print(np.argmax(predictions[0]))"
      ],
      "metadata": {
        "colab": {
          "base_uri": "https://localhost:8080/"
        },
        "id": "AjTaWk0IO5j8",
        "outputId": "1d624142-5438-4877-b026-64af1df70389"
      },
      "execution_count": null,
      "outputs": [
        {
          "output_type": "stream",
          "name": "stdout",
          "text": [
            "5\n"
          ]
        }
      ]
    }
  ]
}