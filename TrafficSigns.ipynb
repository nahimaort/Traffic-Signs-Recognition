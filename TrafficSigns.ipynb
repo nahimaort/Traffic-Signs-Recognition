{
  "cells": [
    {
      "cell_type": "markdown",
      "metadata": {
        "id": "view-in-github",
        "colab_type": "text"
      },
      "source": [
        "<a href=\"https://colab.research.google.com/github/nahimaort/Traffic-Signs-Recognition/blob/main/TrafficSigns.ipynb\" target=\"_parent\"><img src=\"https://colab.research.google.com/assets/colab-badge.svg\" alt=\"Open In Colab\"/></a>"
      ]
    },
    {
      "cell_type": "markdown",
      "metadata": {
        "id": "cXD8sjjQLj-k"
      },
      "source": [
        "# Reconocedor de señales de tráfico\n",
        "\n",
        "Vamos a desarrollar una red que reconozca señales de tráfico de tipo precaución.\n",
        "\n",
        "\n"
      ]
    },
    {
      "cell_type": "code",
      "execution_count": 2,
      "metadata": {
        "id": "yZcKFL_TMkzR",
        "colab": {
          "base_uri": "https://localhost:8080/"
        },
        "outputId": "9a03fe41-fa3a-41d2-f832-17cceef70ec7"
      },
      "outputs": [
        {
          "output_type": "stream",
          "name": "stdout",
          "text": [
            "Mounted at /content/drive\n"
          ]
        }
      ],
      "source": [
        "from google.colab import drive\n",
        "drive.mount('/content/drive')\n",
        "\n",
        "\n"
      ]
    },
    {
      "cell_type": "code",
      "execution_count": 3,
      "metadata": {
        "colab": {
          "base_uri": "https://localhost:8080/",
          "height": 37
        },
        "id": "eKjrirLcRIkU",
        "outputId": "3b23f470-87ae-497c-f49e-38a1f129d1a6"
      },
      "outputs": [
        {
          "output_type": "execute_result",
          "data": {
            "application/vnd.google.colaboratory.intrinsic+json": {
              "type": "string"
            },
            "text/plain": [
              "'/device:GPU:0'"
            ]
          },
          "metadata": {},
          "execution_count": 3
        }
      ],
      "source": [
        "import tensorflow as tf\n",
        "tf.test.gpu_device_name()"
      ]
    },
    {
      "cell_type": "markdown",
      "metadata": {
        "id": "N3zF5ip1kPjR"
      },
      "source": [
        "Vemos una imagen de ejemplo"
      ]
    },
    {
      "cell_type": "code",
      "execution_count": 4,
      "metadata": {
        "colab": {
          "base_uri": "https://localhost:8080/",
          "height": 301
        },
        "id": "x3JBgGOsKu44",
        "outputId": "6257c19b-0306-462a-d611-2ad44acac904"
      },
      "outputs": [
        {
          "output_type": "stream",
          "name": "stdout",
          "text": [
            "Traffic-Signs  Traffic-Signs-Validation\n"
          ]
        },
        {
          "output_type": "execute_result",
          "data": {
            "text/plain": [
              "<matplotlib.image.AxesImage at 0x7fc83b30c810>"
            ]
          },
          "metadata": {},
          "execution_count": 4
        },
        {
          "output_type": "display_data",
          "data": {
            "image/png": "[encoded data removed]",
            "text/plain": [
              "<Figure size 432x288 with 1 Axes>"
            ]
          },
          "metadata": {
            "needs_background": "light"
          }
        }
      ],
      "source": [
        "!ls \"/content/drive/My Drive/Colab Notebooks/datasets/\"\n",
        "\n",
        "from matplotlib.pyplot import imshow\n",
        "import numpy as np\n",
        "from PIL import Image\n",
        "\n",
        "%matplotlib inline\n",
        "pil_im = Image.open('/content/drive/My Drive/Colab Notebooks/datasets/Traffic-Signs/5/00025_00040_00018.png', 'r')\n",
        "imshow(np.asarray(pil_im))\n",
        "\n"
      ]
    },
    {
      "cell_type": "markdown",
      "metadata": {
        "id": "X7U_9Zjj9WsA"
      },
      "source": [
        "## Data Augmentation"
      ]
    },
    {
      "cell_type": "code",
      "execution_count": null,
      "metadata": {
        "id": "Wj1hJvCa9ZAA"
      },
      "outputs": [],
      "source": [
        "from keras.preprocessing.image import ImageDataGenerator, img_to_array, load_img\n",
        "import glob\n",
        "\n",
        "datagen = ImageDataGenerator(\n",
        "  horizontal_flip=False,\n",
        "\tvertical_flip=False,\n",
        "\trotation_range=25,\n",
        "\tzoom_range=0.20,\n",
        "\tshear_range=0.20,\n",
        "\tfill_mode=\"nearest\")\n",
        "\n",
        "for i in range(1, 10, 1):\n",
        "  for name in glob.glob(\"/content/drive/My Drive/Colab Notebooks/datasets/Traffic-Signs/\" + str(i) + \"/*.png\"):\n",
        "    img = load_img(name)\n",
        "    x = img_to_array(img)\n",
        "    x = x.reshape((1,) + x.shape) \n",
        "    j = 0\n",
        "    for batch in datagen.flow(x, batch_size=1,\n",
        "                                  save_to_dir=\"/content/drive/My Drive/Colab Notebooks/datasets/Traffic-Signs/\" + str(i) + \"/da/\", \n",
        "                              save_prefix=\"image\", save_format='png'):\n",
        "      j += 1\n",
        "      if j >= 2:\n",
        "        break\n",
        "print(\"Finalización del aumento de datos\")"
      ]
    },
    {
      "cell_type": "markdown",
      "metadata": {
        "id": "UCaBgMS8OdiV"
      },
      "source": [
        "## Primer modelo"
      ]
    },
    {
      "cell_type": "code",
      "execution_count": 5,
      "metadata": {
        "colab": {
          "base_uri": "https://localhost:8080/"
        },
        "id": "25NfZptPxjgD",
        "outputId": "1bb67d7d-6977-4305-ff78-e78b9e0a4adc"
      },
      "outputs": [
        {
          "output_type": "stream",
          "name": "stdout",
          "text": [
            "Found 4393 files belonging to 9 classes.\n",
            "Found 360 files belonging to 9 classes.\n"
          ]
        }
      ],
      "source": [
        "# DATA SOURCE --------------------------------------------------\n",
        "\n",
        "image_size = (150, 150)\n",
        "batch_size = 32\n",
        "\n",
        "train_ds = tf.keras.preprocessing.image_dataset_from_directory(\n",
        "    \"/content/drive/My Drive/Colab Notebooks/datasets/Traffic-Signs\",\n",
        "    image_size=image_size,\n",
        "    batch_size=batch_size,\n",
        "    label_mode='categorical'\n",
        ")\n",
        "val_ds = tf.keras.preprocessing.image_dataset_from_directory(\n",
        "    \"/content/drive/My Drive/Colab Notebooks/datasets/Traffic-Signs-Validation\",\n",
        "    image_size=image_size,\n",
        "    batch_size=batch_size,\n",
        "    label_mode='categorical'\n",
        ")\n",
        "\n",
        "train_ds = train_ds.prefetch(buffer_size=32)\n",
        "val_ds = val_ds.prefetch(buffer_size=32)"
      ]
    },
    {
      "cell_type": "code",
      "execution_count": 6,
      "metadata": {
        "id": "e5tVrY9gxyfJ"
      },
      "outputs": [],
      "source": [
        "# MODEL --------------------------------------------------\n",
        "\n",
        "import tensorflow as tf\n",
        "from tensorflow import keras\n",
        "from tensorflow.keras.layers import Conv2D, MaxPooling2D, Dropout, Dense, Rescaling, Flatten\n",
        "from tensorflow.keras.callbacks import EarlyStopping\n",
        "\n",
        "model = keras.Sequential()\n",
        "model.add(Rescaling(scale=(1./127.5),\n",
        "                    offset=-1, \n",
        "                    input_shape=(150, 150, 3)))\n",
        "model.add(Conv2D(32, kernel_size=(5, 5), activation='relu'))\n",
        "model.add(MaxPooling2D(pool_size=(2, 2)))\n",
        "model.add(Conv2D(64, (5, 5), activation='relu'))\n",
        "model.add(MaxPooling2D(pool_size=(2, 2)))\n",
        "model.add(Dropout(0.5))\n",
        "model.add(Conv2D(128, (5, 5), activation='relu'))\n",
        "model.add(MaxPooling2D(pool_size=(2, 2)))\n",
        "model.add(Dropout(0.5))\n",
        "\n",
        "model.add(Flatten())\n",
        "model.add(Dense(128, activation='relu'))\n",
        "model.add(Dropout(0.5))\n",
        "model.add(Dense(9, activation='softmax'))\n",
        "\n",
        "model.compile(loss=tf.keras.losses.categorical_crossentropy,\n",
        "              optimizer=tf.keras.optimizers.Adam(1e-3),\n",
        "              metrics=['accuracy'])"
      ]
    },
    {
      "cell_type": "code",
      "execution_count": 7,
      "metadata": {
        "colab": {
          "base_uri": "https://localhost:8080/"
        },
        "id": "-AiE5BwazFFK",
        "outputId": "a5e673a4-8022-4f86-a7f4-58af29f2ed71"
      },
      "outputs": [
        {
          "output_type": "stream",
          "name": "stdout",
          "text": [
            "Epoch 1/100\n",
            "138/138 [==============================] - 372s 2s/step - loss: 1.7211 - accuracy: 0.3776 - val_loss: 0.7832 - val_accuracy: 0.7639\n",
            "Epoch 2/100\n",
            "138/138 [==============================] - 17s 119ms/step - loss: 0.6646 - accuracy: 0.7808 - val_loss: 0.4885 - val_accuracy: 0.8833\n",
            "Epoch 3/100\n",
            "138/138 [==============================] - 17s 119ms/step - loss: 0.3424 - accuracy: 0.8855 - val_loss: 0.2263 - val_accuracy: 0.9278\n",
            "Epoch 4/100\n",
            "138/138 [==============================] - 17s 120ms/step - loss: 0.2292 - accuracy: 0.9237 - val_loss: 0.2369 - val_accuracy: 0.9194\n",
            "Epoch 5/100\n",
            "138/138 [==============================] - 17s 118ms/step - loss: 0.1851 - accuracy: 0.9392 - val_loss: 0.2093 - val_accuracy: 0.9472\n",
            "Epoch 6/100\n",
            "138/138 [==============================] - 19s 129ms/step - loss: 0.1497 - accuracy: 0.9522 - val_loss: 0.1868 - val_accuracy: 0.9500\n",
            "Epoch 7/100\n",
            "138/138 [==============================] - 17s 120ms/step - loss: 0.1244 - accuracy: 0.9615 - val_loss: 0.1890 - val_accuracy: 0.9417\n",
            "Epoch 8/100\n",
            "138/138 [==============================] - 18s 122ms/step - loss: 0.1465 - accuracy: 0.9540 - val_loss: 0.1255 - val_accuracy: 0.9639\n",
            "Epoch 9/100\n",
            "138/138 [==============================] - 17s 121ms/step - loss: 0.1071 - accuracy: 0.9647 - val_loss: 0.1229 - val_accuracy: 0.9639\n",
            "Epoch 10/100\n",
            "138/138 [==============================] - 17s 118ms/step - loss: 0.1287 - accuracy: 0.9611 - val_loss: 0.1599 - val_accuracy: 0.9528\n",
            "Epoch 11/100\n",
            "138/138 [==============================] - 17s 117ms/step - loss: 0.0819 - accuracy: 0.9743 - val_loss: 0.1151 - val_accuracy: 0.9667\n",
            "Epoch 12/100\n",
            "138/138 [==============================] - 17s 119ms/step - loss: 0.0787 - accuracy: 0.9777 - val_loss: 0.1219 - val_accuracy: 0.9694\n",
            "Epoch 13/100\n",
            "138/138 [==============================] - 17s 119ms/step - loss: 0.0957 - accuracy: 0.9725 - val_loss: 0.1196 - val_accuracy: 0.9722\n",
            "Epoch 14/100\n",
            "138/138 [==============================] - 17s 121ms/step - loss: 0.0881 - accuracy: 0.9747 - val_loss: 0.1628 - val_accuracy: 0.9583\n",
            "Epoch 15/100\n",
            "138/138 [==============================] - 17s 120ms/step - loss: 0.0860 - accuracy: 0.9743 - val_loss: 0.1245 - val_accuracy: 0.9611\n",
            "Epoch 16/100\n",
            "138/138 [==============================] - 17s 120ms/step - loss: 0.0516 - accuracy: 0.9822 - val_loss: 0.1592 - val_accuracy: 0.9556\n",
            "Epoch 17/100\n",
            "138/138 [==============================] - 17s 120ms/step - loss: 0.0502 - accuracy: 0.9838 - val_loss: 0.1262 - val_accuracy: 0.9583\n",
            "Epoch 18/100\n",
            "138/138 [==============================] - 17s 120ms/step - loss: 0.0533 - accuracy: 0.9841 - val_loss: 0.1603 - val_accuracy: 0.9667\n",
            "Epoch 19/100\n",
            "138/138 [==============================] - 18s 122ms/step - loss: 0.0604 - accuracy: 0.9813 - val_loss: 0.1407 - val_accuracy: 0.9583\n",
            "Epoch 20/100\n",
            "138/138 [==============================] - 17s 121ms/step - loss: 0.0693 - accuracy: 0.9793 - val_loss: 0.1685 - val_accuracy: 0.9611\n",
            "Epoch 21/100\n",
            "138/138 [==============================] - 17s 119ms/step - loss: 0.0879 - accuracy: 0.9734 - val_loss: 0.1827 - val_accuracy: 0.9694\n",
            "Epoch 22/100\n",
            "138/138 [==============================] - 18s 123ms/step - loss: 0.0622 - accuracy: 0.9802 - val_loss: 0.1864 - val_accuracy: 0.9611\n",
            "Epoch 23/100\n",
            "138/138 [==============================] - 17s 122ms/step - loss: 0.0748 - accuracy: 0.9786 - val_loss: 0.1386 - val_accuracy: 0.9778\n",
            "Epoch 24/100\n",
            "138/138 [==============================] - 17s 121ms/step - loss: 0.0592 - accuracy: 0.9832 - val_loss: 0.0711 - val_accuracy: 0.9778\n",
            "Epoch 25/100\n",
            "138/138 [==============================] - 19s 126ms/step - loss: 0.0760 - accuracy: 0.9779 - val_loss: 0.1286 - val_accuracy: 0.9667\n",
            "Epoch 26/100\n",
            "138/138 [==============================] - 18s 128ms/step - loss: 0.0430 - accuracy: 0.9836 - val_loss: 0.1256 - val_accuracy: 0.9722\n",
            "Epoch 27/100\n",
            "138/138 [==============================] - 18s 124ms/step - loss: 0.0621 - accuracy: 0.9809 - val_loss: 0.1481 - val_accuracy: 0.9667\n",
            "Epoch 28/100\n",
            "138/138 [==============================] - 17s 121ms/step - loss: 0.0486 - accuracy: 0.9859 - val_loss: 0.1402 - val_accuracy: 0.9722\n",
            "Epoch 29/100\n",
            "138/138 [==============================] - 18s 123ms/step - loss: 0.0551 - accuracy: 0.9852 - val_loss: 0.1210 - val_accuracy: 0.9639\n",
            "Epoch 30/100\n",
            "138/138 [==============================] - 17s 121ms/step - loss: 0.0441 - accuracy: 0.9859 - val_loss: 0.0551 - val_accuracy: 0.9806\n",
            "Epoch 31/100\n",
            "138/138 [==============================] - 17s 118ms/step - loss: 0.0524 - accuracy: 0.9850 - val_loss: 0.1732 - val_accuracy: 0.9639\n",
            "Epoch 32/100\n",
            "138/138 [==============================] - 17s 119ms/step - loss: 0.0623 - accuracy: 0.9847 - val_loss: 0.1199 - val_accuracy: 0.9750\n",
            "Epoch 33/100\n",
            "138/138 [==============================] - 17s 121ms/step - loss: 0.0625 - accuracy: 0.9838 - val_loss: 0.1253 - val_accuracy: 0.9806\n",
            "Epoch 34/100\n",
            "138/138 [==============================] - 17s 119ms/step - loss: 0.0577 - accuracy: 0.9852 - val_loss: 0.1086 - val_accuracy: 0.9667\n",
            "Epoch 35/100\n",
            "138/138 [==============================] - 17s 120ms/step - loss: 0.0243 - accuracy: 0.9936 - val_loss: 0.1380 - val_accuracy: 0.9722\n",
            "Epoch 36/100\n",
            "138/138 [==============================] - 17s 120ms/step - loss: 0.0360 - accuracy: 0.9902 - val_loss: 0.0987 - val_accuracy: 0.9806\n",
            "Epoch 37/100\n",
            "138/138 [==============================] - 17s 119ms/step - loss: 0.0437 - accuracy: 0.9902 - val_loss: 0.1276 - val_accuracy: 0.9694\n",
            "Epoch 38/100\n",
            "138/138 [==============================] - 17s 119ms/step - loss: 0.0326 - accuracy: 0.9907 - val_loss: 0.1295 - val_accuracy: 0.9611\n",
            "Epoch 39/100\n",
            "138/138 [==============================] - 17s 119ms/step - loss: 0.0744 - accuracy: 0.9836 - val_loss: 0.0953 - val_accuracy: 0.9722\n",
            "Epoch 40/100\n",
            "137/138 [============================>.] - ETA: 0s - loss: 0.0406 - accuracy: 0.9906Restoring model weights from the end of the best epoch: 30.\n",
            "138/138 [==============================] - 17s 118ms/step - loss: 0.0405 - accuracy: 0.9907 - val_loss: 0.1067 - val_accuracy: 0.9778\n",
            "Epoch 00040: early stopping\n"
          ]
        }
      ],
      "source": [
        "# TRAINING --------------------------------------------------\n",
        "\n",
        "epochs = 100\n",
        "\n",
        "es = EarlyStopping(monitor='val_accuracy', mode='max', verbose=1, patience=10, restore_best_weights=True)\n",
        "\n",
        "h = model.fit(\n",
        "        train_ds,\n",
        "        epochs=epochs, \n",
        "        validation_data=val_ds,\n",
        "        callbacks = [es]\n",
        ")"
      ]
    },
    {
      "cell_type": "code",
      "execution_count": 8,
      "metadata": {
        "colab": {
          "base_uri": "https://localhost:8080/",
          "height": 295
        },
        "id": "2PPKm5euoRAs",
        "outputId": "2e4cd086-c6d8-4323-8491-3126e476e487"
      },
      "outputs": [
        {
          "output_type": "display_data",
          "data": {
            "image/png": "[encoded data removed]",
            "text/plain": [
              "<Figure size 432x288 with 1 Axes>"
            ]
          },
          "metadata": {
            "needs_background": "light"
          }
        }
      ],
      "source": [
        "import matplotlib.pyplot as plt\n",
        "\n",
        "plt.plot(h.history['accuracy'])\n",
        "plt.plot(h.history['val_accuracy'])\n",
        "plt.plot(h.history['loss'])\n",
        "plt.title('Model accuracy')\n",
        "plt.ylabel('accuracy')\n",
        "plt.xlabel('epoch')\n",
        "plt.legend(['training', 'validation','loss'], loc='upper right')\n",
        "plt.show()"
      ]
    },
    {
      "cell_type": "markdown",
      "metadata": {
        "id": "TVOKAhbsm_pw"
      },
      "source": [
        "## Evaluación de los resultados"
      ]
    },
    {
      "cell_type": "code",
      "execution_count": 9,
      "metadata": {
        "colab": {
          "base_uri": "https://localhost:8080/",
          "height": 541
        },
        "id": "IkyaTtnAKfqA",
        "outputId": "e91db704-1236-4de7-efb7-6e2ef7d2e3fa"
      },
      "outputs": [
        {
          "output_type": "stream",
          "name": "stdout",
          "text": [
            "              precision    recall  f1-score   support\n",
            "\n",
            "           0     1.0000    0.9756    0.9877        41\n",
            "           1     0.9750    0.9750    0.9750        40\n",
            "           2     0.9750    0.9512    0.9630        41\n",
            "           3     1.0000    0.9756    0.9877        41\n",
            "           4     0.9750    1.0000    0.9873        39\n",
            "           5     0.9750    1.0000    0.9873        39\n",
            "           6     0.9250    1.0000    0.9610        37\n",
            "           7     1.0000    0.9756    0.9877        41\n",
            "           8     1.0000    0.9756    0.9877        41\n",
            "\n",
            "    accuracy                         0.9806       360\n",
            "   macro avg     0.9806    0.9810    0.9805       360\n",
            "weighted avg     0.9812    0.9806    0.9806       360\n",
            "\n"
          ]
        },
        {
          "output_type": "display_data",
          "data": {
            "image/png": "[encoded data removed]",
            "text/plain": [
              "<Figure size 432x288 with 2 Axes>"
            ]
          },
          "metadata": {
            "needs_background": "light"
          }
        }
      ],
      "source": [
        "import numpy as np\n",
        "from sklearn.metrics import classification_report, confusion_matrix\n",
        "import seaborn as sns\n",
        "\n",
        "results = np.concatenate([(y, model.predict(x=x)) for x, y in val_ds], axis=1)\n",
        "\n",
        "predictions = np.argmax(results[0], axis=1)\n",
        "labels = np.argmax(results[1], axis=1)\n",
        "\n",
        "cf_matrix = confusion_matrix(labels, predictions)\n",
        "\n",
        "sns.heatmap(cf_matrix, annot=True, fmt=\"d\", cmap=\"Blues\")\n",
        "\n",
        "print(classification_report(labels, predictions, digits = 4))"
      ]
    },
    {
      "cell_type": "code",
      "execution_count": 10,
      "metadata": {
        "colab": {
          "base_uri": "https://localhost:8080/"
        },
        "id": "djAlHGLz-Cjj",
        "outputId": "5d1af674-4025-40cd-b5d8-162e509e9850"
      },
      "outputs": [
        {
          "output_type": "stream",
          "name": "stdout",
          "text": [
            "1\n"
          ]
        }
      ],
      "source": [
        "img = keras.preprocessing.image.load_img(\n",
        "    '/content/drive/My Drive/Colab Notebooks/datasets/Traffic-Signs/2/00021_00006_00000.png', target_size=image_size\n",
        ")\n",
        "img_array = keras.preprocessing.image.img_to_array(img)\n",
        "img_array = tf.expand_dims(img_array, 0)  # Create batch axis\n",
        "\n",
        "predictions = model.predict(img_array)\n",
        "print(np.argmax(predictions[0]))"
      ]
    },
    {
      "cell_type": "code",
      "execution_count": 11,
      "metadata": {
        "colab": {
          "base_uri": "https://localhost:8080/"
        },
        "id": "AjTaWk0IO5j8",
        "outputId": "81562e4e-fbf8-4c57-b2ac-85253b555b9b"
      },
      "outputs": [
        {
          "output_type": "stream",
          "name": "stdout",
          "text": [
            "5\n"
          ]
        }
      ],
      "source": [
        "img = keras.preprocessing.image.load_img(\n",
        "    '/content/drive/My Drive/Colab Notebooks/imagenes/imagen5.png', target_size=image_size\n",
        ")\n",
        "img_array = keras.preprocessing.image.img_to_array(img)\n",
        "img_array = tf.expand_dims(img_array, 0)  # Create batch axis\n",
        "\n",
        "predictions = model.predict(img_array)\n",
        "print(np.argmax(predictions[0]))"
      ]
    }
  ],
  "metadata": {
    "accelerator": "GPU",
    "colab": {
      "collapsed_sections": [],
      "name": "TrafficSigns.ipynb",
      "provenance": [],
      "include_colab_link": true
    },
    "kernelspec": {
      "display_name": "Python 3",
      "name": "python3"
    }
  },
  "nbformat": 4,
  "nbformat_minor": 0
}