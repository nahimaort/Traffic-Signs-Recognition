{
  "nbformat": 4,
  "nbformat_minor": 0,
  "metadata": {
    "colab": {
      "name": "TrafficSigns.ipynb",
      "provenance": [],
      "collapsed_sections": [],
      "include_colab_link": true
    },
    "kernelspec": {
      "display_name": "Python 3",
      "name": "python3"
    },
    "accelerator": "GPU"
  },
  "cells": [
    {
      "cell_type": "markdown",
      "metadata": {
        "id": "view-in-github",
        "colab_type": "text"
      },
      "source": [
        "<a href=\"https://colab.research.google.com/github/nahimaort/Traffic-Signs-Recognition/blob/main/TrafficSigns.ipynb\" target=\"_parent\"><img src=\"https://colab.research.google.com/assets/colab-badge.svg\" alt=\"Open In Colab\"/></a>"
      ]
    },
    {
      "cell_type": "markdown",
      "metadata": {
        "id": "cXD8sjjQLj-k"
      },
      "source": [
        "# Reconocedor de señales de tráfico\n",
        "\n",
        "Vamos a desarrollar una red que reconozca señales de tráfico de tipo precaución.\n",
        "\n",
        "\n"
      ]
    },
    {
      "cell_type": "code",
      "metadata": {
        "id": "yZcKFL_TMkzR",
        "colab": {
          "base_uri": "https://localhost:8080/"
        },
        "outputId": "386b77a4-6ac7-431a-ff58-720678865dc3"
      },
      "source": [
        "from google.colab import drive\n",
        "drive.mount('/content/drive')\n",
        "\n",
        "\n"
      ],
      "execution_count": 1,
      "outputs": [
        {
          "output_type": "stream",
          "name": "stdout",
          "text": [
            "Mounted at /content/drive\n"
          ]
        }
      ]
    },
    {
      "cell_type": "code",
      "metadata": {
        "colab": {
          "base_uri": "https://localhost:8080/",
          "height": 37
        },
        "id": "eKjrirLcRIkU",
        "outputId": "a5a0f8ce-50f7-4d3a-dcba-b859c1dc8f01"
      },
      "source": [
        "import tensorflow as tf\n",
        "tf.test.gpu_device_name()"
      ],
      "execution_count": 2,
      "outputs": [
        {
          "output_type": "execute_result",
          "data": {
            "application/vnd.google.colaboratory.intrinsic+json": {
              "type": "string"
            },
            "text/plain": [
              "'/device:GPU:0'"
            ]
          },
          "metadata": {},
          "execution_count": 2
        }
      ]
    },
    {
      "cell_type": "markdown",
      "source": [
        "Vemos una imagen de ejemplo"
      ],
      "metadata": {
        "id": "N3zF5ip1kPjR"
      }
    },
    {
      "cell_type": "code",
      "metadata": {
        "colab": {
          "base_uri": "https://localhost:8080/",
          "height": 301
        },
        "id": "x3JBgGOsKu44",
        "outputId": "64ea079f-7e5b-4161-f0cb-a2bf48b03100"
      },
      "source": [
        "!ls \"/content/drive/My Drive/Colab Notebooks/datasets/\"\n",
        "\n",
        "from matplotlib.pyplot import imshow\n",
        "import numpy as np\n",
        "from PIL import Image\n",
        "\n",
        "%matplotlib inline\n",
        "pil_im = Image.open('/content/drive/My Drive/Colab Notebooks/datasets/Traffic-Signs/5/00025_00040_00018.png', 'r')\n",
        "imshow(np.asarray(pil_im))\n",
        "\n"
      ],
      "execution_count": 3,
      "outputs": [
        {
          "output_type": "stream",
          "name": "stdout",
          "text": [
            "Traffic-Signs  Traffic-Signs-2\tTraffic-Signs-Validation\n"
          ]
        },
        {
          "output_type": "execute_result",
          "data": {
            "text/plain": [
              "<matplotlib.image.AxesImage at 0x7fd7788e4fd0>"
            ]
          },
          "metadata": {},
          "execution_count": 3
        },
        {
          "output_type": "display_data",
          "data": {
            "image/png": "[encoded data removed]",
            "text/plain": [
              "<Figure size 432x288 with 1 Axes>"
            ]
          },
          "metadata": {
            "needs_background": "light"
          }
        }
      ]
    },
    {
      "cell_type": "markdown",
      "source": [
        "## Data Augmentation"
      ],
      "metadata": {
        "id": "X7U_9Zjj9WsA"
      }
    },
    {
      "cell_type": "code",
      "source": [
        "from keras.preprocessing.image import ImageDataGenerator, array_to_img, img_to_array, load_img\n",
        "import glob\n",
        "\n",
        "datagen = ImageDataGenerator(\n",
        "  horizontal_flip=False,\n",
        "\tvertical_flip=False,\n",
        "\trotation_range=25,\n",
        "\tzoom_range=0.20,\n",
        "\tshear_range=0.20,\n",
        "\tfill_mode=\"nearest\")\n",
        "\n",
        "for i in range(1, 10, 1):\n",
        "  for name in glob.glob(\"/content/drive/My Drive/Colab Notebooks/datasets/Traffic-Signs/\" + str(i) + \"/*.png\"):\n",
        "    img = load_img(name)\n",
        "    x = img_to_array(img)\n",
        "    x = x.reshape((1,) + x.shape) \n",
        "    j = 0\n",
        "    for batch in datagen.flow(x, batch_size=1,\n",
        "                                  save_to_dir=\"/content/drive/My Drive/Colab Notebooks/datasets/Traffic-Signs/\" + str(i) + \"/da/\", \n",
        "                              save_prefix=\"image\", save_format='png'):\n",
        "      j += 1\n",
        "      if j >= 2:\n",
        "        break\n",
        "print(\"Finalización del aumento de datos\")"
      ],
      "metadata": {
        "id": "Wj1hJvCa9ZAA",
        "colab": {
          "base_uri": "https://localhost:8080/"
        },
        "outputId": "ced84431-251d-4626-ca07-b9bc6c444383"
      },
      "execution_count": 4,
      "outputs": [
        {
          "output_type": "stream",
          "name": "stdout",
          "text": [
            "Finalización del aumento de datos\n"
          ]
        }
      ]
    },
    {
      "cell_type": "markdown",
      "metadata": {
        "id": "UCaBgMS8OdiV"
      },
      "source": [
        "## Primer modelo"
      ]
    },
    {
      "cell_type": "code",
      "metadata": {
        "colab": {
          "base_uri": "https://localhost:8080/"
        },
        "id": "25NfZptPxjgD",
        "outputId": "ce16640e-1350-4434-e00a-439d35e88f80"
      },
      "source": [
        "# DATA SOURCE --------------------------------------------------\n",
        "\n",
        "image_size = (150, 150)\n",
        "batch_size = 32\n",
        "\n",
        "train_ds = tf.keras.preprocessing.image_dataset_from_directory(\n",
        "    \"/content/drive/My Drive/Colab Notebooks/datasets/Traffic-Signs\",\n",
        "    image_size=image_size,\n",
        "    batch_size=batch_size,\n",
        "    label_mode='categorical'\n",
        ")\n",
        "val_ds = tf.keras.preprocessing.image_dataset_from_directory(\n",
        "    \"/content/drive/My Drive/Colab Notebooks/datasets/Traffic-Signs-Validation\",\n",
        "    image_size=image_size,\n",
        "    batch_size=batch_size,\n",
        "    label_mode='categorical'\n",
        ")\n",
        "\n",
        "train_ds = train_ds.prefetch(buffer_size=32)\n",
        "val_ds = val_ds.prefetch(buffer_size=32)"
      ],
      "execution_count": 6,
      "outputs": [
        {
          "output_type": "stream",
          "name": "stdout",
          "text": [
            "Found 4402 files belonging to 9 classes.\n",
            "Found 360 files belonging to 9 classes.\n"
          ]
        }
      ]
    },
    {
      "cell_type": "code",
      "metadata": {
        "id": "e5tVrY9gxyfJ"
      },
      "source": [
        "# MODEL --------------------------------------------------\n",
        "\n",
        "import tensorflow as tf\n",
        "from tensorflow import keras\n",
        "from tensorflow.keras.layers import Conv2D, MaxPooling2D, Dropout, Dense, Rescaling, Flatten\n",
        "from tensorflow.keras.callbacks import EarlyStopping\n",
        "\n",
        "model = keras.Sequential()\n",
        "model.add(Rescaling(scale=(1./127.5),\n",
        "                    offset=-1, \n",
        "                    input_shape=(150, 150, 3)))\n",
        "model.add(Conv2D(32, kernel_size=(3, 3), activation='relu'))\n",
        "model.add(MaxPooling2D(pool_size=(2, 2)))\n",
        "model.add(Conv2D(64, (3, 3), activation='relu'))\n",
        "model.add(MaxPooling2D(pool_size=(2, 2)))\n",
        "model.add(Dropout(0.25))\n",
        "model.add(Conv2D(128, (3, 3), activation='relu'))\n",
        "model.add(MaxPooling2D(pool_size=(2, 2)))\n",
        "model.add(Dropout(0.25))\n",
        "\n",
        "model.add(Flatten())\n",
        "model.add(Dense(128, activation='relu'))\n",
        "model.add(Dropout(0.5))\n",
        "model.add(Dense(9, activation='softmax'))\n",
        "\n",
        "model.compile(loss=tf.keras.losses.categorical_crossentropy,\n",
        "              optimizer=tf.keras.optimizers.Adam(1e-3),\n",
        "              metrics=['accuracy'])"
      ],
      "execution_count": 7,
      "outputs": []
    },
    {
      "cell_type": "code",
      "metadata": {
        "colab": {
          "base_uri": "https://localhost:8080/"
        },
        "id": "-AiE5BwazFFK",
        "outputId": "5de63e16-e500-43c3-92d5-7cb1c38fbc9f"
      },
      "source": [
        "# TRAINING --------------------------------------------------\n",
        "\n",
        "epochs = 200\n",
        "\n",
        "es = EarlyStopping(monitor='val_accuracy', mode='max', verbose=1, patience=10, restore_best_weights=True)\n",
        "\n",
        "h = model.fit(\n",
        "        train_ds,\n",
        "        epochs=epochs, \n",
        "        validation_data=val_ds,\n",
        "        callbacks = [es]\n",
        ")"
      ],
      "execution_count": 8,
      "outputs": [
        {
          "output_type": "stream",
          "name": "stdout",
          "text": [
            "Epoch 1/200\n",
            "138/138 [==============================] - 60s 361ms/step - loss: 1.7577 - accuracy: 0.3707 - val_loss: 0.8338 - val_accuracy: 0.7889\n",
            "Epoch 2/200\n",
            "138/138 [==============================] - 18s 126ms/step - loss: 0.6802 - accuracy: 0.7724 - val_loss: 0.5667 - val_accuracy: 0.8250\n",
            "Epoch 3/200\n",
            "138/138 [==============================] - 17s 117ms/step - loss: 0.3867 - accuracy: 0.8678 - val_loss: 0.3725 - val_accuracy: 0.8806\n",
            "Epoch 4/200\n",
            "138/138 [==============================] - 19s 132ms/step - loss: 0.2414 - accuracy: 0.9200 - val_loss: 0.2751 - val_accuracy: 0.9250\n",
            "Epoch 5/200\n",
            "138/138 [==============================] - 17s 118ms/step - loss: 0.1572 - accuracy: 0.9475 - val_loss: 0.2888 - val_accuracy: 0.9167\n",
            "Epoch 6/200\n",
            "138/138 [==============================] - 17s 118ms/step - loss: 0.1544 - accuracy: 0.9471 - val_loss: 0.1949 - val_accuracy: 0.9500\n",
            "Epoch 7/200\n",
            "138/138 [==============================] - 17s 116ms/step - loss: 0.1083 - accuracy: 0.9639 - val_loss: 0.2638 - val_accuracy: 0.9167\n",
            "Epoch 8/200\n",
            "138/138 [==============================] - 17s 116ms/step - loss: 0.0878 - accuracy: 0.9709 - val_loss: 0.1700 - val_accuracy: 0.9583\n",
            "Epoch 9/200\n",
            "138/138 [==============================] - 17s 117ms/step - loss: 0.0696 - accuracy: 0.9791 - val_loss: 0.1983 - val_accuracy: 0.9417\n",
            "Epoch 10/200\n",
            "138/138 [==============================] - 17s 117ms/step - loss: 0.0882 - accuracy: 0.9721 - val_loss: 0.2331 - val_accuracy: 0.9278\n",
            "Epoch 11/200\n",
            "138/138 [==============================] - 17s 117ms/step - loss: 0.0806 - accuracy: 0.9730 - val_loss: 0.1822 - val_accuracy: 0.9500\n",
            "Epoch 12/200\n",
            "138/138 [==============================] - 17s 118ms/step - loss: 0.0496 - accuracy: 0.9834 - val_loss: 0.1762 - val_accuracy: 0.9556\n",
            "Epoch 13/200\n",
            "138/138 [==============================] - 17s 117ms/step - loss: 0.0522 - accuracy: 0.9821 - val_loss: 0.2287 - val_accuracy: 0.9417\n",
            "Epoch 14/200\n",
            "138/138 [==============================] - 17s 118ms/step - loss: 0.0701 - accuracy: 0.9798 - val_loss: 0.2411 - val_accuracy: 0.9417\n",
            "Epoch 15/200\n",
            "138/138 [==============================] - 17s 116ms/step - loss: 0.0473 - accuracy: 0.9877 - val_loss: 0.2044 - val_accuracy: 0.9500\n",
            "Epoch 16/200\n",
            "138/138 [==============================] - 17s 117ms/step - loss: 0.0550 - accuracy: 0.9798 - val_loss: 0.1597 - val_accuracy: 0.9528\n",
            "Epoch 17/200\n",
            "138/138 [==============================] - 17s 118ms/step - loss: 0.0417 - accuracy: 0.9857 - val_loss: 0.1732 - val_accuracy: 0.9667\n",
            "Epoch 18/200\n",
            "138/138 [==============================] - 17s 116ms/step - loss: 0.0506 - accuracy: 0.9836 - val_loss: 0.1622 - val_accuracy: 0.9528\n",
            "Epoch 19/200\n",
            "138/138 [==============================] - 17s 117ms/step - loss: 0.0337 - accuracy: 0.9884 - val_loss: 0.1436 - val_accuracy: 0.9611\n",
            "Epoch 20/200\n",
            "138/138 [==============================] - 17s 117ms/step - loss: 0.0364 - accuracy: 0.9877 - val_loss: 0.1409 - val_accuracy: 0.9667\n",
            "Epoch 21/200\n",
            "138/138 [==============================] - 17s 117ms/step - loss: 0.0391 - accuracy: 0.9859 - val_loss: 0.2126 - val_accuracy: 0.9611\n",
            "Epoch 22/200\n",
            "138/138 [==============================] - 17s 119ms/step - loss: 0.0274 - accuracy: 0.9896 - val_loss: 0.1775 - val_accuracy: 0.9556\n",
            "Epoch 23/200\n",
            "138/138 [==============================] - 17s 116ms/step - loss: 0.0368 - accuracy: 0.9891 - val_loss: 0.1097 - val_accuracy: 0.9639\n",
            "Epoch 24/200\n",
            "138/138 [==============================] - 17s 117ms/step - loss: 0.0271 - accuracy: 0.9911 - val_loss: 0.1721 - val_accuracy: 0.9611\n",
            "Epoch 25/200\n",
            "138/138 [==============================] - 17s 117ms/step - loss: 0.0340 - accuracy: 0.9882 - val_loss: 0.1554 - val_accuracy: 0.9611\n",
            "Epoch 26/200\n",
            "138/138 [==============================] - 17s 118ms/step - loss: 0.0416 - accuracy: 0.9893 - val_loss: 0.1937 - val_accuracy: 0.9500\n",
            "Epoch 27/200\n",
            "137/138 [============================>.] - ETA: 0s - loss: 0.0504 - accuracy: 0.9849Restoring model weights from the end of the best epoch: 17.\n",
            "138/138 [==============================] - 17s 117ms/step - loss: 0.0502 - accuracy: 0.9850 - val_loss: 0.1455 - val_accuracy: 0.9583\n",
            "Epoch 00027: early stopping\n"
          ]
        }
      ]
    },
    {
      "cell_type": "code",
      "metadata": {
        "colab": {
          "base_uri": "https://localhost:8080/",
          "height": 295
        },
        "id": "2PPKm5euoRAs",
        "outputId": "3a4a65bf-4438-4a98-839f-8943d0e723c8"
      },
      "source": [
        "import matplotlib.pyplot as plt\n",
        "\n",
        "plt.plot(h.history['accuracy'])\n",
        "plt.plot(h.history['val_accuracy'])\n",
        "plt.plot(h.history['loss'])\n",
        "plt.title('Model accuracy')\n",
        "plt.ylabel('accuracy')\n",
        "plt.xlabel('epoch')\n",
        "plt.legend(['training', 'validation','loss'], loc='upper right')\n",
        "plt.show()"
      ],
      "execution_count": 9,
      "outputs": [
        {
          "output_type": "display_data",
          "data": {
            "image/png": "[encoded data removed]",
            "text/plain": [
              "<Figure size 432x288 with 1 Axes>"
            ]
          },
          "metadata": {
            "needs_background": "light"
          }
        }
      ]
    },
    {
      "cell_type": "markdown",
      "metadata": {
        "id": "TVOKAhbsm_pw"
      },
      "source": [
        "## Evaluación de los resultados"
      ]
    },
    {
      "cell_type": "code",
      "metadata": {
        "colab": {
          "base_uri": "https://localhost:8080/",
          "height": 541
        },
        "id": "IkyaTtnAKfqA",
        "outputId": "3312fd3e-5533-4f46-c001-2a3e753791e1"
      },
      "source": [
        "import numpy as np\n",
        "from sklearn.metrics import classification_report, confusion_matrix\n",
        "import seaborn as sns\n",
        "\n",
        "results = np.concatenate([(y, model.predict(x=x)) for x, y in val_ds], axis=1)\n",
        "\n",
        "predictions = np.argmax(results[0], axis=1)\n",
        "labels = np.argmax(results[1], axis=1)\n",
        "\n",
        "cf_matrix = confusion_matrix(labels, predictions)\n",
        "\n",
        "sns.heatmap(cf_matrix, annot=True, fmt=\"d\", cmap=\"Blues\")\n",
        "\n",
        "print(classification_report(labels, predictions, digits = 4))"
      ],
      "execution_count": 10,
      "outputs": [
        {
          "output_type": "stream",
          "name": "stdout",
          "text": [
            "              precision    recall  f1-score   support\n",
            "\n",
            "           0     0.9750    0.9512    0.9630        41\n",
            "           1     0.9500    0.9500    0.9500        40\n",
            "           2     0.9500    0.9268    0.9383        41\n",
            "           3     1.0000    0.9524    0.9756        42\n",
            "           4     0.9250    1.0000    0.9610        37\n",
            "           5     1.0000    1.0000    1.0000        40\n",
            "           6     0.9500    1.0000    0.9744        38\n",
            "           7     0.9500    1.0000    0.9744        38\n",
            "           8     1.0000    0.9302    0.9639        43\n",
            "\n",
            "    accuracy                         0.9667       360\n",
            "   macro avg     0.9667    0.9679    0.9667       360\n",
            "weighted avg     0.9676    0.9667    0.9666       360\n",
            "\n"
          ]
        },
        {
          "output_type": "display_data",
          "data": {
            "image/png": "[encoded data removed]",
            "text/plain": [
              "<Figure size 432x288 with 2 Axes>"
            ]
          },
          "metadata": {
            "needs_background": "light"
          }
        }
      ]
    },
    {
      "cell_type": "code",
      "metadata": {
        "colab": {
          "base_uri": "https://localhost:8080/"
        },
        "id": "djAlHGLz-Cjj",
        "outputId": "a6e7c844-7dd6-459d-c102-3c639424ee12"
      },
      "source": [
        "img = keras.preprocessing.image.load_img(\n",
        "    '/content/drive/My Drive/Colab Notebooks/datasets/Traffic-Signs/2/00021_00006_00000.png', target_size=image_size\n",
        ")\n",
        "img_array = keras.preprocessing.image.img_to_array(img)\n",
        "img_array = tf.expand_dims(img_array, 0)  # Create batch axis\n",
        "\n",
        "predictions = model.predict(img_array)\n",
        "print(np.argmax(predictions[0]))"
      ],
      "execution_count": 11,
      "outputs": [
        {
          "output_type": "stream",
          "name": "stdout",
          "text": [
            "1\n"
          ]
        }
      ]
    },
    {
      "cell_type": "code",
      "source": [
        "img = keras.preprocessing.image.load_img(\n",
        "    '/content/drive/My Drive/Colab Notebooks/imagenes/imagen5.png', target_size=image_size\n",
        ")\n",
        "img_array = keras.preprocessing.image.img_to_array(img)\n",
        "img_array = tf.expand_dims(img_array, 0)  # Create batch axis\n",
        "\n",
        "predictions = model.predict(img_array)\n",
        "print(np.argmax(predictions[0]))"
      ],
      "metadata": {
        "colab": {
          "base_uri": "https://localhost:8080/"
        },
        "id": "AjTaWk0IO5j8",
        "outputId": "d5085234-e046-48bf-dc09-e00efed85824"
      },
      "execution_count": 12,
      "outputs": [
        {
          "output_type": "stream",
          "name": "stdout",
          "text": [
            "5\n"
          ]
        }
      ]
    }
  ]
}