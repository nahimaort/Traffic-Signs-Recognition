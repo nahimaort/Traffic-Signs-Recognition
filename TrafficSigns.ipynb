{
  "nbformat": 4,
  "nbformat_minor": 0,
  "metadata": {
    "colab": {
      "name": "TrafficSigns.ipynb",
      "provenance": [],
      "collapsed_sections": [],
      "include_colab_link": true
    },
    "kernelspec": {
      "display_name": "Python 3",
      "name": "python3"
    },
    "accelerator": "GPU"
  },
  "cells": [
    {
      "cell_type": "markdown",
      "metadata": {
        "id": "view-in-github",
        "colab_type": "text"
      },
      "source": [
        "<a href=\"https://colab.research.google.com/github/nahimaort/Traffic-Signs-Recognition/blob/main/TrafficSigns.ipynb\" target=\"_parent\"><img src=\"https://colab.research.google.com/assets/colab-badge.svg\" alt=\"Open In Colab\"/></a>"
      ]
    },
    {
      "cell_type": "markdown",
      "metadata": {
        "id": "cXD8sjjQLj-k"
      },
      "source": [
        "# Reconocedor de señales de tráfico\n",
        "\n",
        "Vamos a desarrollar una red que reconozca señales de tráfico de tipo precaución.\n",
        "\n",
        "\n"
      ]
    },
    {
      "cell_type": "code",
      "metadata": {
        "id": "yZcKFL_TMkzR",
        "colab": {
          "base_uri": "https://localhost:8080/"
        },
        "outputId": "662d6480-6b86-411a-9503-22328ee8ae11"
      },
      "source": [
        "from google.colab import drive\n",
        "drive.mount('/content/drive')\n",
        "\n",
        "\n"
      ],
      "execution_count": 1,
      "outputs": [
        {
          "output_type": "stream",
          "name": "stdout",
          "text": [
            "Mounted at /content/drive\n"
          ]
        }
      ]
    },
    {
      "cell_type": "code",
      "metadata": {
        "colab": {
          "base_uri": "https://localhost:8080/",
          "height": 37
        },
        "id": "eKjrirLcRIkU",
        "outputId": "a93257a4-089e-4b01-ac8d-ed5e137f6e87"
      },
      "source": [
        "import tensorflow as tf\n",
        "tf.test.gpu_device_name()"
      ],
      "execution_count": 2,
      "outputs": [
        {
          "output_type": "execute_result",
          "data": {
            "application/vnd.google.colaboratory.intrinsic+json": {
              "type": "string"
            },
            "text/plain": [
              "'/device:GPU:0'"
            ]
          },
          "metadata": {},
          "execution_count": 2
        }
      ]
    },
    {
      "cell_type": "markdown",
      "source": [
        "Vemos una imagen de ejemplo"
      ],
      "metadata": {
        "id": "N3zF5ip1kPjR"
      }
    },
    {
      "cell_type": "code",
      "metadata": {
        "colab": {
          "base_uri": "https://localhost:8080/",
          "height": 301
        },
        "id": "x3JBgGOsKu44",
        "outputId": "a98052dc-4e6a-497d-d6a3-31338ea0e2a8"
      },
      "source": [
        "!ls \"/content/drive/My Drive/Colab Notebooks/datasets/\"\n",
        "\n",
        "from matplotlib.pyplot import imshow\n",
        "import numpy as np\n",
        "from PIL import Image\n",
        "\n",
        "%matplotlib inline\n",
        "pil_im = Image.open('/content/drive/My Drive/Colab Notebooks/datasets/Traffic-Signs/5/00025_00040_00018.png', 'r')\n",
        "imshow(np.asarray(pil_im))\n",
        "\n"
      ],
      "execution_count": null,
      "outputs": [
        {
          "output_type": "stream",
          "name": "stdout",
          "text": [
            "Traffic-Signs  Traffic-Signs-2\tTraffic-Signs-Validation\n"
          ]
        },
        {
          "output_type": "execute_result",
          "data": {
            "text/plain": [
              "<matplotlib.image.AxesImage at 0x7f7d4003eb90>"
            ]
          },
          "metadata": {},
          "execution_count": 3
        },
        {
          "output_type": "display_data",
          "data": {
            "image/png": "[encoded data removed]",
            "text/plain": [
              "<Figure size 432x288 with 1 Axes>"
            ]
          },
          "metadata": {
            "needs_background": "light"
          }
        }
      ]
    },
    {
      "cell_type": "markdown",
      "source": [
        "## Data Augmentation"
      ],
      "metadata": {
        "id": "X7U_9Zjj9WsA"
      }
    },
    {
      "cell_type": "code",
      "source": [
        "from keras.preprocessing.image import ImageDataGenerator, img_to_array, load_img\n",
        "import glob\n",
        "\n",
        "datagen = ImageDataGenerator(\n",
        "  horizontal_flip=False,\n",
        "\tvertical_flip=False,\n",
        "\trotation_range=25,\n",
        "\tzoom_range=0.20,\n",
        "\tshear_range=0.20,\n",
        "\tfill_mode=\"nearest\")\n",
        "\n",
        "for i in range(1, 10, 1):\n",
        "  for name in glob.glob(\"/content/drive/My Drive/Colab Notebooks/datasets/Traffic-Signs/\" + str(i) + \"/*.png\"):\n",
        "    img = load_img(name)\n",
        "    x = img_to_array(img)\n",
        "    x = x.reshape((1,) + x.shape) \n",
        "    j = 0\n",
        "    for batch in datagen.flow(x, batch_size=1,\n",
        "                                  save_to_dir=\"/content/drive/My Drive/Colab Notebooks/datasets/Traffic-Signs/\" + str(i) + \"/da/\", \n",
        "                              save_prefix=\"image\", save_format='png'):\n",
        "      j += 1\n",
        "      if j >= 2:\n",
        "        break\n",
        "print(\"Finalización del aumento de datos\")"
      ],
      "metadata": {
        "id": "Wj1hJvCa9ZAA"
      },
      "execution_count": null,
      "outputs": []
    },
    {
      "cell_type": "markdown",
      "metadata": {
        "id": "UCaBgMS8OdiV"
      },
      "source": [
        "## Primer modelo"
      ]
    },
    {
      "cell_type": "code",
      "metadata": {
        "colab": {
          "base_uri": "https://localhost:8080/"
        },
        "id": "25NfZptPxjgD",
        "outputId": "0dc67db6-211a-4e19-e653-603887117bdb"
      },
      "source": [
        "# DATA SOURCE --------------------------------------------------\n",
        "\n",
        "image_size = (150, 150)\n",
        "batch_size = 64\n",
        "\n",
        "train_ds = tf.keras.preprocessing.image_dataset_from_directory(\n",
        "    \"/content/drive/My Drive/Colab Notebooks/datasets/Traffic-Signs\",\n",
        "    image_size=image_size,\n",
        "    batch_size=batch_size,\n",
        "    label_mode='categorical'\n",
        ")\n",
        "val_ds = tf.keras.preprocessing.image_dataset_from_directory(\n",
        "    \"/content/drive/My Drive/Colab Notebooks/datasets/Traffic-Signs-Validation\",\n",
        "    image_size=image_size,\n",
        "    batch_size=batch_size,\n",
        "    label_mode='categorical'\n",
        ")\n",
        "\n",
        "train_ds = train_ds.prefetch(buffer_size=32)\n",
        "val_ds = val_ds.prefetch(buffer_size=32)"
      ],
      "execution_count": 24,
      "outputs": [
        {
          "output_type": "stream",
          "name": "stdout",
          "text": [
            "Found 4393 files belonging to 9 classes.\n",
            "Found 360 files belonging to 9 classes.\n"
          ]
        }
      ]
    },
    {
      "cell_type": "code",
      "metadata": {
        "id": "e5tVrY9gxyfJ"
      },
      "source": [
        "# MODEL --------------------------------------------------\n",
        "\n",
        "import tensorflow as tf\n",
        "from tensorflow import keras\n",
        "from tensorflow.keras.layers import Conv2D, MaxPooling2D, Dropout, Dense, Rescaling, Flatten\n",
        "from tensorflow.keras.callbacks import EarlyStopping\n",
        "\n",
        "model = keras.Sequential()\n",
        "model.add(Rescaling(scale=(1./127.5),\n",
        "                    offset=-1, \n",
        "                    input_shape=(150, 150, 3)))\n",
        "model.add(Conv2D(32, kernel_size=(5, 5), activation='relu'))\n",
        "model.add(MaxPooling2D(pool_size=(2, 2)))\n",
        "model.add(Conv2D(64, (5, 5), activation='relu'))\n",
        "model.add(MaxPooling2D(pool_size=(2, 2)))\n",
        "model.add(Dropout(0.5))\n",
        "model.add(Conv2D(128, (5, 5), activation='relu'))\n",
        "model.add(MaxPooling2D(pool_size=(2, 2)))\n",
        "model.add(Dropout(0.5))\n",
        "\n",
        "model.add(Flatten())\n",
        "model.add(Dense(128, activation='relu'))\n",
        "model.add(Dropout(0.5))\n",
        "model.add(Dense(9, activation='softmax'))\n",
        "\n",
        "model.compile(loss=tf.keras.losses.categorical_crossentropy,\n",
        "              optimizer=tf.keras.optimizers.Adam(1e-3),\n",
        "              metrics=['accuracy'])"
      ],
      "execution_count": 25,
      "outputs": []
    },
    {
      "cell_type": "code",
      "metadata": {
        "colab": {
          "base_uri": "https://localhost:8080/"
        },
        "id": "-AiE5BwazFFK",
        "outputId": "d0b28f07-ce9f-45b9-98ce-626ec49c657b"
      },
      "source": [
        "# TRAINING --------------------------------------------------\n",
        "\n",
        "epochs = 100\n",
        "\n",
        "es = EarlyStopping(monitor='val_accuracy', mode='max', verbose=1, patience=10, restore_best_weights=True)\n",
        "\n",
        "h = model.fit(\n",
        "        train_ds,\n",
        "        epochs=epochs, \n",
        "        validation_data=val_ds,\n",
        "        callbacks = [es]\n",
        ")"
      ],
      "execution_count": 26,
      "outputs": [
        {
          "output_type": "stream",
          "name": "stdout",
          "text": [
            "Epoch 1/100\n",
            "69/69 [==============================] - 19s 219ms/step - loss: 1.8010 - accuracy: 0.3367 - val_loss: 0.9873 - val_accuracy: 0.7750\n",
            "Epoch 2/100\n",
            "69/69 [==============================] - 16s 212ms/step - loss: 0.7226 - accuracy: 0.7610 - val_loss: 0.4555 - val_accuracy: 0.8750\n",
            "Epoch 3/100\n",
            "69/69 [==============================] - 16s 211ms/step - loss: 0.3707 - accuracy: 0.8673 - val_loss: 0.3231 - val_accuracy: 0.9278\n",
            "Epoch 4/100\n",
            "69/69 [==============================] - 17s 225ms/step - loss: 0.2276 - accuracy: 0.9185 - val_loss: 0.2912 - val_accuracy: 0.9194\n",
            "Epoch 5/100\n",
            "69/69 [==============================] - 18s 234ms/step - loss: 0.1960 - accuracy: 0.9349 - val_loss: 0.2620 - val_accuracy: 0.9250\n",
            "Epoch 6/100\n",
            "69/69 [==============================] - 17s 228ms/step - loss: 0.1469 - accuracy: 0.9492 - val_loss: 0.2433 - val_accuracy: 0.9306\n",
            "Epoch 7/100\n",
            "69/69 [==============================] - 16s 208ms/step - loss: 0.1176 - accuracy: 0.9629 - val_loss: 0.2234 - val_accuracy: 0.9417\n",
            "Epoch 8/100\n",
            "69/69 [==============================] - 16s 209ms/step - loss: 0.1225 - accuracy: 0.9606 - val_loss: 0.1716 - val_accuracy: 0.9528\n",
            "Epoch 9/100\n",
            "69/69 [==============================] - 16s 217ms/step - loss: 0.0979 - accuracy: 0.9668 - val_loss: 0.1689 - val_accuracy: 0.9472\n",
            "Epoch 10/100\n",
            "69/69 [==============================] - 16s 210ms/step - loss: 0.0741 - accuracy: 0.9740 - val_loss: 0.1390 - val_accuracy: 0.9583\n",
            "Epoch 11/100\n",
            "69/69 [==============================] - 16s 210ms/step - loss: 0.0913 - accuracy: 0.9713 - val_loss: 0.1439 - val_accuracy: 0.9528\n",
            "Epoch 12/100\n",
            "69/69 [==============================] - 16s 210ms/step - loss: 0.0706 - accuracy: 0.9807 - val_loss: 0.1181 - val_accuracy: 0.9722\n",
            "Epoch 13/100\n",
            "69/69 [==============================] - 16s 212ms/step - loss: 0.0777 - accuracy: 0.9747 - val_loss: 0.1429 - val_accuracy: 0.9639\n",
            "Epoch 14/100\n",
            "69/69 [==============================] - 17s 222ms/step - loss: 0.0660 - accuracy: 0.9791 - val_loss: 0.1514 - val_accuracy: 0.9694\n",
            "Epoch 15/100\n",
            "69/69 [==============================] - 16s 213ms/step - loss: 0.0768 - accuracy: 0.9763 - val_loss: 0.1411 - val_accuracy: 0.9583\n",
            "Epoch 16/100\n",
            "69/69 [==============================] - 16s 211ms/step - loss: 0.0566 - accuracy: 0.9804 - val_loss: 0.1199 - val_accuracy: 0.9722\n",
            "Epoch 17/100\n",
            "69/69 [==============================] - 16s 210ms/step - loss: 0.0620 - accuracy: 0.9797 - val_loss: 0.1398 - val_accuracy: 0.9583\n",
            "Epoch 18/100\n",
            "69/69 [==============================] - 16s 212ms/step - loss: 0.0739 - accuracy: 0.9747 - val_loss: 0.1477 - val_accuracy: 0.9556\n",
            "Epoch 19/100\n",
            "69/69 [==============================] - 16s 213ms/step - loss: 0.0512 - accuracy: 0.9820 - val_loss: 0.1257 - val_accuracy: 0.9639\n",
            "Epoch 20/100\n",
            "69/69 [==============================] - 16s 211ms/step - loss: 0.0384 - accuracy: 0.9893 - val_loss: 0.1055 - val_accuracy: 0.9778\n",
            "Epoch 21/100\n",
            "69/69 [==============================] - 16s 211ms/step - loss: 0.0507 - accuracy: 0.9822 - val_loss: 0.1345 - val_accuracy: 0.9611\n",
            "Epoch 22/100\n",
            "69/69 [==============================] - 16s 213ms/step - loss: 0.0527 - accuracy: 0.9836 - val_loss: 0.1585 - val_accuracy: 0.9722\n",
            "Epoch 23/100\n",
            "69/69 [==============================] - 16s 216ms/step - loss: 0.0504 - accuracy: 0.9836 - val_loss: 0.1152 - val_accuracy: 0.9667\n",
            "Epoch 24/100\n",
            "69/69 [==============================] - 16s 216ms/step - loss: 0.0541 - accuracy: 0.9834 - val_loss: 0.1505 - val_accuracy: 0.9667\n",
            "Epoch 25/100\n",
            "69/69 [==============================] - 16s 214ms/step - loss: 0.0464 - accuracy: 0.9857 - val_loss: 0.1418 - val_accuracy: 0.9694\n",
            "Epoch 26/100\n",
            "69/69 [==============================] - 16s 214ms/step - loss: 0.0374 - accuracy: 0.9893 - val_loss: 0.1312 - val_accuracy: 0.9694\n",
            "Epoch 27/100\n",
            "69/69 [==============================] - 17s 218ms/step - loss: 0.0432 - accuracy: 0.9859 - val_loss: 0.1236 - val_accuracy: 0.9750\n",
            "Epoch 28/100\n",
            "69/69 [==============================] - 16s 211ms/step - loss: 0.0373 - accuracy: 0.9898 - val_loss: 0.1427 - val_accuracy: 0.9667\n",
            "Epoch 29/100\n",
            "69/69 [==============================] - 16s 211ms/step - loss: 0.0507 - accuracy: 0.9843 - val_loss: 0.1613 - val_accuracy: 0.9639\n",
            "Epoch 30/100\n",
            "69/69 [==============================] - ETA: 0s - loss: 0.0494 - accuracy: 0.9836Restoring model weights from the end of the best epoch: 20.\n",
            "69/69 [==============================] - 16s 209ms/step - loss: 0.0494 - accuracy: 0.9836 - val_loss: 0.1503 - val_accuracy: 0.9667\n",
            "Epoch 00030: early stopping\n"
          ]
        }
      ]
    },
    {
      "cell_type": "code",
      "metadata": {
        "colab": {
          "base_uri": "https://localhost:8080/",
          "height": 295
        },
        "id": "2PPKm5euoRAs",
        "outputId": "a39ab86d-82f9-4e3b-8960-4235de8c8e30"
      },
      "source": [
        "import matplotlib.pyplot as plt\n",
        "\n",
        "plt.plot(h.history['accuracy'])\n",
        "plt.plot(h.history['val_accuracy'])\n",
        "plt.plot(h.history['loss'])\n",
        "plt.title('Model accuracy')\n",
        "plt.ylabel('accuracy')\n",
        "plt.xlabel('epoch')\n",
        "plt.legend(['training', 'validation','loss'], loc='upper right')\n",
        "plt.show()"
      ],
      "execution_count": 27,
      "outputs": [
        {
          "output_type": "display_data",
          "data": {
            "image/png": "[encoded data removed]",
            "text/plain": [
              "<Figure size 432x288 with 1 Axes>"
            ]
          },
          "metadata": {
            "needs_background": "light"
          }
        }
      ]
    },
    {
      "cell_type": "markdown",
      "metadata": {
        "id": "TVOKAhbsm_pw"
      },
      "source": [
        "## Evaluación de los resultados"
      ]
    },
    {
      "cell_type": "code",
      "metadata": {
        "colab": {
          "base_uri": "https://localhost:8080/",
          "height": 541
        },
        "id": "IkyaTtnAKfqA",
        "outputId": "ecb35587-929b-43a1-b929-ce4e85bf578c"
      },
      "source": [
        "import numpy as np\n",
        "from sklearn.metrics import classification_report, confusion_matrix\n",
        "import seaborn as sns\n",
        "\n",
        "results = np.concatenate([(y, model.predict(x=x)) for x, y in val_ds], axis=1)\n",
        "\n",
        "predictions = np.argmax(results[0], axis=1)\n",
        "labels = np.argmax(results[1], axis=1)\n",
        "\n",
        "cf_matrix = confusion_matrix(labels, predictions)\n",
        "\n",
        "sns.heatmap(cf_matrix, annot=True, fmt=\"d\", cmap=\"Blues\")\n",
        "\n",
        "print(classification_report(labels, predictions, digits = 4))"
      ],
      "execution_count": 28,
      "outputs": [
        {
          "output_type": "stream",
          "name": "stdout",
          "text": [
            "              precision    recall  f1-score   support\n",
            "\n",
            "           0     1.0000    0.9302    0.9639        43\n",
            "           1     1.0000    0.9524    0.9756        42\n",
            "           2     0.9750    1.0000    0.9873        39\n",
            "           3     0.9750    0.9750    0.9750        40\n",
            "           4     0.9500    0.9744    0.9620        39\n",
            "           5     0.9750    1.0000    0.9873        39\n",
            "           6     0.9250    1.0000    0.9610        37\n",
            "           7     1.0000    1.0000    1.0000        40\n",
            "           8     1.0000    0.9756    0.9877        41\n",
            "\n",
            "    accuracy                         0.9778       360\n",
            "   macro avg     0.9778    0.9786    0.9778       360\n",
            "weighted avg     0.9787    0.9778    0.9778       360\n",
            "\n"
          ]
        },
        {
          "output_type": "display_data",
          "data": {
            "image/png": "[encoded data removed]",
            "text/plain": [
              "<Figure size 432x288 with 2 Axes>"
            ]
          },
          "metadata": {
            "needs_background": "light"
          }
        }
      ]
    },
    {
      "cell_type": "code",
      "metadata": {
        "colab": {
          "base_uri": "https://localhost:8080/"
        },
        "id": "djAlHGLz-Cjj",
        "outputId": "1190c059-e99c-4a2f-a2ca-651192567704"
      },
      "source": [
        "img = keras.preprocessing.image.load_img(\n",
        "    '/content/drive/My Drive/Colab Notebooks/datasets/Traffic-Signs/2/00021_00006_00000.png', target_size=image_size\n",
        ")\n",
        "img_array = keras.preprocessing.image.img_to_array(img)\n",
        "img_array = tf.expand_dims(img_array, 0)  # Create batch axis\n",
        "\n",
        "predictions = model.predict(img_array)\n",
        "print(np.argmax(predictions[0]))"
      ],
      "execution_count": 29,
      "outputs": [
        {
          "output_type": "stream",
          "name": "stdout",
          "text": [
            "1\n"
          ]
        }
      ]
    },
    {
      "cell_type": "code",
      "source": [
        "img = keras.preprocessing.image.load_img(\n",
        "    '/content/drive/My Drive/Colab Notebooks/imagenes/imagen5.png', target_size=image_size\n",
        ")\n",
        "img_array = keras.preprocessing.image.img_to_array(img)\n",
        "img_array = tf.expand_dims(img_array, 0)  # Create batch axis\n",
        "\n",
        "predictions = model.predict(img_array)\n",
        "print(np.argmax(predictions[0]))"
      ],
      "metadata": {
        "colab": {
          "base_uri": "https://localhost:8080/"
        },
        "id": "AjTaWk0IO5j8",
        "outputId": "c5ac95d6-844a-47c7-9816-708956e587d6"
      },
      "execution_count": 30,
      "outputs": [
        {
          "output_type": "stream",
          "name": "stdout",
          "text": [
            "5\n"
          ]
        }
      ]
    }
  ]
}