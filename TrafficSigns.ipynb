{
  "cells": [
    {
      "cell_type": "markdown",
      "metadata": {
        "id": "view-in-github",
        "colab_type": "text"
      },
      "source": [
        "<a href=\"https://colab.research.google.com/github/nahimaort/Traffic-Signs-Recognition/blob/main/TrafficSigns.ipynb\" target=\"_parent\"><img src=\"https://colab.research.google.com/assets/colab-badge.svg\" alt=\"Open In Colab\"/></a>"
      ]
    },
    {
      "cell_type": "markdown",
      "metadata": {
        "id": "cXD8sjjQLj-k"
      },
      "source": [
        "# Reconocedor de señales de tráfico\n",
        "\n",
        "Vamos a desarrollar una red que reconozca señales de tráfico de tipo precaución.\n",
        "\n",
        "\n"
      ]
    },
    {
      "cell_type": "code",
      "execution_count": 2,
      "metadata": {
        "id": "yZcKFL_TMkzR",
        "colab": {
          "base_uri": "https://localhost:8080/"
        },
        "outputId": "9a03fe41-fa3a-41d2-f832-17cceef70ec7"
      },
      "outputs": [
        {
          "output_type": "stream",
          "name": "stdout",
          "text": [
            "Mounted at /content/drive\n"
          ]
        }
      ],
      "source": [
        "from google.colab import drive\n",
        "drive.mount('/content/drive')\n",
        "\n",
        "\n"
      ]
    },
    {
      "cell_type": "code",
      "execution_count": 3,
      "metadata": {
        "colab": {
          "base_uri": "https://localhost:8080/",
          "height": 37
        },
        "id": "eKjrirLcRIkU",
        "outputId": "3b23f470-87ae-497c-f49e-38a1f129d1a6"
      },
      "outputs": [
        {
          "output_type": "execute_result",
          "data": {
            "application/vnd.google.colaboratory.intrinsic+json": {
              "type": "string"
            },
            "text/plain": [
              "'/device:GPU:0'"
            ]
          },
          "metadata": {},
          "execution_count": 3
        }
      ],
      "source": [
        "import tensorflow as tf\n",
        "tf.test.gpu_device_name()"
      ]
    },
    {
      "cell_type": "markdown",
      "metadata": {
        "id": "N3zF5ip1kPjR"
      },
      "source": [
        "Vemos una imagen de ejemplo"
      ]
    },
    {
      "cell_type": "code",
      "execution_count": 4,
      "metadata": {
        "colab": {
          "base_uri": "https://localhost:8080/",
          "height": 301
        },
        "id": "x3JBgGOsKu44",
        "outputId": "6257c19b-0306-462a-d611-2ad44acac904"
      },
      "outputs": [
        {
          "output_type": "stream",
          "name": "stdout",
          "text": [
            "Traffic-Signs  Traffic-Signs-Validation\n"
          ]
        },
        {
          "output_type": "execute_result",
          "data": {
            "text/plain": [
              "<matplotlib.image.AxesImage at 0x7fc83b30c810>"
            ]
          },
          "metadata": {},
          "execution_count": 4
        },
        {
          "output_type": "display_data",
          "data": {
            "image/png": "[encoded data removed]",
            "text/plain": [
              "<Figure size 432x288 with 1 Axes>"
            ]
          },
          "metadata": {
            "needs_background": "light"
          }
        }
      ],
      "source": [
        "!ls \"/content/drive/My Drive/Colab Notebooks/datasets/\"\n",
        "\n",
        "from matplotlib.pyplot import imshow\n",
        "import numpy as np\n",
        "from PIL import Image\n",
        "\n",
        "%matplotlib inline\n",
        "pil_im = Image.open('/content/drive/My Drive/Colab Notebooks/datasets/Traffic-Signs/5/00025_00040_00018.png', 'r')\n",
        "imshow(np.asarray(pil_im))\n",
        "\n"
      ]
    },
    {
      "cell_type": "markdown",
      "metadata": {
        "id": "X7U_9Zjj9WsA"
      },
      "source": [
        "## Data Augmentation"
      ]
    },
    {
      "cell_type": "code",
      "execution_count": null,
      "metadata": {
        "id": "Wj1hJvCa9ZAA"
      },
      "outputs": [],
      "source": [
        "from keras.preprocessing.image import ImageDataGenerator, img_to_array, load_img\n",
        "import glob\n",
        "\n",
        "datagen = ImageDataGenerator(\n",
        "  horizontal_flip=False,\n",
        "\tvertical_flip=False,\n",
        "\trotation_range=25,\n",
        "\tzoom_range=0.20,\n",
        "\tshear_range=0.20,\n",
        "\tfill_mode=\"nearest\")\n",
        "\n",
        "for i in range(1, 10, 1):\n",
        "  for name in glob.glob(\"/content/drive/My Drive/Colab Notebooks/datasets/Traffic-Signs/\" + str(i) + \"/*.png\"):\n",
        "    img = load_img(name)\n",
        "    x = img_to_array(img)\n",
        "    x = x.reshape((1,) + x.shape) \n",
        "    j = 0\n",
        "    for batch in datagen.flow(x, batch_size=1,\n",
        "                                  save_to_dir=\"/content/drive/My Drive/Colab Notebooks/datasets/Traffic-Signs/\" + str(i) + \"/da/\", \n",
        "                              save_prefix=\"image\", save_format='png'):\n",
        "      j += 1\n",
        "      if j >= 2:\n",
        "        break\n",
        "print(\"Finalización del aumento de datos\")"
      ]
    },
    {
      "cell_type": "markdown",
      "metadata": {
        "id": "UCaBgMS8OdiV"
      },
      "source": [
        "## Primer modelo"
      ]
    },
    {
      "cell_type": "code",
      "execution_count": 3,
      "metadata": {
        "colab": {
          "base_uri": "https://localhost:8080/"
        },
        "id": "25NfZptPxjgD",
        "outputId": "65073bbf-eb9f-4533-f180-e88346a0639d"
      },
      "outputs": [
        {
          "output_type": "stream",
          "name": "stdout",
          "text": [
            "Found 4393 files belonging to 9 classes.\n",
            "Found 360 files belonging to 9 classes.\n"
          ]
        }
      ],
      "source": [
        "# DATA SOURCE --------------------------------------------------\n",
        "\n",
        "image_size = (150, 150)\n",
        "batch_size = 32\n",
        "\n",
        "train_ds = tf.keras.preprocessing.image_dataset_from_directory(\n",
        "    \"/content/drive/My Drive/Colab Notebooks/datasets/Traffic-Signs\",\n",
        "    image_size=image_size,\n",
        "    batch_size=batch_size,\n",
        "    label_mode='categorical'\n",
        ")\n",
        "val_ds = tf.keras.preprocessing.image_dataset_from_directory(\n",
        "    \"/content/drive/My Drive/Colab Notebooks/datasets/Traffic-Signs-Validation\",\n",
        "    image_size=image_size,\n",
        "    batch_size=batch_size,\n",
        "    label_mode='categorical'\n",
        ")\n",
        "\n",
        "train_ds = train_ds.prefetch(buffer_size=32)\n",
        "val_ds = val_ds.prefetch(buffer_size=32)"
      ]
    },
    {
      "cell_type": "code",
      "execution_count": 4,
      "metadata": {
        "id": "e5tVrY9gxyfJ"
      },
      "outputs": [],
      "source": [
        "# MODEL --------------------------------------------------\n",
        "\n",
        "import tensorflow as tf\n",
        "from tensorflow import keras\n",
        "from tensorflow.keras.layers import Conv2D, MaxPooling2D, Dropout, Dense, Rescaling, Flatten\n",
        "from tensorflow.keras.callbacks import EarlyStopping\n",
        "\n",
        "model = keras.Sequential()\n",
        "model.add(Rescaling(scale=(1./127.5),\n",
        "                    offset=-1, \n",
        "                    input_shape=(150, 150, 3)))\n",
        "model.add(Conv2D(32, kernel_size=(5, 5), activation='relu'))\n",
        "model.add(MaxPooling2D(pool_size=(2, 2)))\n",
        "model.add(Conv2D(64, (5, 5), activation='relu'))\n",
        "model.add(MaxPooling2D(pool_size=(2, 2)))\n",
        "model.add(Dropout(0.5))\n",
        "model.add(Conv2D(128, (5, 5), activation='relu'))\n",
        "model.add(MaxPooling2D(pool_size=(2, 2)))\n",
        "model.add(Dropout(0.5))\n",
        "\n",
        "model.add(Flatten())\n",
        "model.add(Dropout(0.5))\n",
        "model.add(Dense(9, activation='softmax'))\n",
        "\n",
        "model.compile(loss=tf.keras.losses.categorical_crossentropy,\n",
        "              optimizer=tf.keras.optimizers.Adam(1e-3),\n",
        "              metrics=['accuracy'])"
      ]
    },
    {
      "cell_type": "code",
      "execution_count": 5,
      "metadata": {
        "colab": {
          "base_uri": "https://localhost:8080/"
        },
        "id": "-AiE5BwazFFK",
        "outputId": "40982dc1-9959-4d2f-b9a0-d2ce00207623"
      },
      "outputs": [
        {
          "output_type": "stream",
          "name": "stdout",
          "text": [
            "Epoch 1/100\n",
            "138/138 [==============================] - 20s 109ms/step - loss: 1.1902 - accuracy: 0.5871 - val_loss: 0.6249 - val_accuracy: 0.8667\n",
            "Epoch 2/100\n",
            "138/138 [==============================] - 17s 119ms/step - loss: 0.3439 - accuracy: 0.8930 - val_loss: 0.3759 - val_accuracy: 0.8917\n",
            "Epoch 3/100\n",
            "138/138 [==============================] - 17s 119ms/step - loss: 0.2057 - accuracy: 0.9342 - val_loss: 0.3694 - val_accuracy: 0.9194\n",
            "Epoch 4/100\n",
            "138/138 [==============================] - 17s 118ms/step - loss: 0.1412 - accuracy: 0.9574 - val_loss: 0.2345 - val_accuracy: 0.9417\n",
            "Epoch 5/100\n",
            "138/138 [==============================] - 17s 119ms/step - loss: 0.1098 - accuracy: 0.9656 - val_loss: 0.2214 - val_accuracy: 0.9389\n",
            "Epoch 6/100\n",
            "138/138 [==============================] - 17s 119ms/step - loss: 0.0848 - accuracy: 0.9745 - val_loss: 0.2630 - val_accuracy: 0.9389\n",
            "Epoch 7/100\n",
            "138/138 [==============================] - 17s 118ms/step - loss: 0.0628 - accuracy: 0.9816 - val_loss: 0.1906 - val_accuracy: 0.9611\n",
            "Epoch 8/100\n",
            "138/138 [==============================] - 17s 119ms/step - loss: 0.0847 - accuracy: 0.9750 - val_loss: 0.2167 - val_accuracy: 0.9306\n",
            "Epoch 9/100\n",
            "138/138 [==============================] - 17s 118ms/step - loss: 0.0478 - accuracy: 0.9834 - val_loss: 0.2518 - val_accuracy: 0.9444\n",
            "Epoch 10/100\n",
            "138/138 [==============================] - 17s 118ms/step - loss: 0.0684 - accuracy: 0.9829 - val_loss: 0.1959 - val_accuracy: 0.9472\n",
            "Epoch 11/100\n",
            "138/138 [==============================] - 17s 118ms/step - loss: 0.0670 - accuracy: 0.9816 - val_loss: 0.1845 - val_accuracy: 0.9472\n",
            "Epoch 12/100\n",
            "138/138 [==============================] - 17s 118ms/step - loss: 0.0622 - accuracy: 0.9816 - val_loss: 0.3586 - val_accuracy: 0.9333\n",
            "Epoch 13/100\n",
            "138/138 [==============================] - 17s 119ms/step - loss: 0.0715 - accuracy: 0.9827 - val_loss: 0.2438 - val_accuracy: 0.9389\n",
            "Epoch 14/100\n",
            "138/138 [==============================] - 17s 118ms/step - loss: 0.0949 - accuracy: 0.9756 - val_loss: 0.3138 - val_accuracy: 0.9278\n",
            "Epoch 15/100\n",
            "138/138 [==============================] - 17s 119ms/step - loss: 0.0517 - accuracy: 0.9852 - val_loss: 0.2386 - val_accuracy: 0.9667\n",
            "Epoch 16/100\n",
            "138/138 [==============================] - 17s 117ms/step - loss: 0.0499 - accuracy: 0.9866 - val_loss: 0.1675 - val_accuracy: 0.9528\n",
            "Epoch 17/100\n",
            "138/138 [==============================] - 17s 119ms/step - loss: 0.0887 - accuracy: 0.9775 - val_loss: 0.1919 - val_accuracy: 0.9556\n",
            "Epoch 18/100\n",
            "138/138 [==============================] - 17s 120ms/step - loss: 0.0600 - accuracy: 0.9829 - val_loss: 0.2424 - val_accuracy: 0.9556\n",
            "Epoch 19/100\n",
            "138/138 [==============================] - 17s 118ms/step - loss: 0.0674 - accuracy: 0.9836 - val_loss: 0.3391 - val_accuracy: 0.9472\n",
            "Epoch 20/100\n",
            "138/138 [==============================] - 17s 117ms/step - loss: 0.1055 - accuracy: 0.9747 - val_loss: 0.3919 - val_accuracy: 0.9306\n",
            "Epoch 21/100\n",
            "138/138 [==============================] - 17s 119ms/step - loss: 0.0660 - accuracy: 0.9838 - val_loss: 0.2710 - val_accuracy: 0.9417\n",
            "Epoch 22/100\n",
            "138/138 [==============================] - 17s 119ms/step - loss: 0.0679 - accuracy: 0.9829 - val_loss: 0.2853 - val_accuracy: 0.9444\n",
            "Epoch 23/100\n",
            "138/138 [==============================] - 17s 119ms/step - loss: 0.0631 - accuracy: 0.9868 - val_loss: 0.2280 - val_accuracy: 0.9528\n",
            "Epoch 24/100\n",
            "138/138 [==============================] - 17s 118ms/step - loss: 0.1315 - accuracy: 0.9756 - val_loss: 0.4099 - val_accuracy: 0.9194\n",
            "Epoch 25/100\n",
            "137/138 [============================>.] - ETA: 0s - loss: 0.0583 - accuracy: 0.9845Restoring model weights from the end of the best epoch: 15.\n",
            "138/138 [==============================] - 17s 119ms/step - loss: 0.0585 - accuracy: 0.9843 - val_loss: 0.2015 - val_accuracy: 0.9417\n",
            "Epoch 00025: early stopping\n"
          ]
        }
      ],
      "source": [
        "# TRAINING --------------------------------------------------\n",
        "\n",
        "epochs = 100\n",
        "\n",
        "es = EarlyStopping(monitor='val_accuracy', mode='max', verbose=1, patience=10, restore_best_weights=True)\n",
        "\n",
        "h = model.fit(\n",
        "        train_ds,\n",
        "        epochs=epochs, \n",
        "        validation_data=val_ds,\n",
        "        callbacks = [es]\n",
        ")"
      ]
    },
    {
      "cell_type": "code",
      "execution_count": 6,
      "metadata": {
        "colab": {
          "base_uri": "https://localhost:8080/",
          "height": 295
        },
        "id": "2PPKm5euoRAs",
        "outputId": "4b2b5899-32ab-4062-a64d-44073829cc9d"
      },
      "outputs": [
        {
          "output_type": "display_data",
          "data": {
            "image/png": "[encoded data removed]",
            "text/plain": [
              "<Figure size 432x288 with 1 Axes>"
            ]
          },
          "metadata": {
            "needs_background": "light"
          }
        }
      ],
      "source": [
        "import matplotlib.pyplot as plt\n",
        "\n",
        "plt.plot(h.history['accuracy'])\n",
        "plt.plot(h.history['val_accuracy'])\n",
        "plt.plot(h.history['loss'])\n",
        "plt.title('Model accuracy')\n",
        "plt.ylabel('accuracy')\n",
        "plt.xlabel('epoch')\n",
        "plt.legend(['training', 'validation','loss'], loc='upper right')\n",
        "plt.show()"
      ]
    },
    {
      "cell_type": "markdown",
      "metadata": {
        "id": "TVOKAhbsm_pw"
      },
      "source": [
        "## Evaluación de los resultados"
      ]
    },
    {
      "cell_type": "code",
      "execution_count": 7,
      "metadata": {
        "colab": {
          "base_uri": "https://localhost:8080/",
          "height": 541
        },
        "id": "IkyaTtnAKfqA",
        "outputId": "df296a18-75a7-4861-cb5d-ec048e68c908"
      },
      "outputs": [
        {
          "output_type": "stream",
          "name": "stdout",
          "text": [
            "              precision    recall  f1-score   support\n",
            "\n",
            "           0     1.0000    0.8696    0.9302        46\n",
            "           1     1.0000    0.9524    0.9756        42\n",
            "           2     0.9500    0.9744    0.9620        39\n",
            "           3     1.0000    1.0000    1.0000        40\n",
            "           4     0.9250    1.0000    0.9610        37\n",
            "           5     1.0000    0.9756    0.9877        41\n",
            "           6     0.9000    1.0000    0.9474        36\n",
            "           7     0.9500    0.9744    0.9620        39\n",
            "           8     0.9750    0.9750    0.9750        40\n",
            "\n",
            "    accuracy                         0.9667       360\n",
            "   macro avg     0.9667    0.9690    0.9668       360\n",
            "weighted avg     0.9687    0.9667    0.9666       360\n",
            "\n"
          ]
        },
        {
          "output_type": "display_data",
          "data": {
            "image/png": "[encoded data removed]",
            "text/plain": [
              "<Figure size 432x288 with 2 Axes>"
            ]
          },
          "metadata": {
            "needs_background": "light"
          }
        }
      ],
      "source": [
        "import numpy as np\n",
        "from sklearn.metrics import classification_report, confusion_matrix\n",
        "import seaborn as sns\n",
        "\n",
        "results = np.concatenate([(y, model.predict(x=x)) for x, y in val_ds], axis=1)\n",
        "\n",
        "predictions = np.argmax(results[0], axis=1)\n",
        "labels = np.argmax(results[1], axis=1)\n",
        "\n",
        "cf_matrix = confusion_matrix(labels, predictions)\n",
        "\n",
        "sns.heatmap(cf_matrix, annot=True, fmt=\"d\", cmap=\"Blues\")\n",
        "\n",
        "print(classification_report(labels, predictions, digits = 4))"
      ]
    },
    {
      "cell_type": "code",
      "execution_count": 8,
      "metadata": {
        "colab": {
          "base_uri": "https://localhost:8080/"
        },
        "id": "djAlHGLz-Cjj",
        "outputId": "e3594c41-044d-43fb-9f22-40f9a01a7edb"
      },
      "outputs": [
        {
          "output_type": "stream",
          "name": "stdout",
          "text": [
            "1\n"
          ]
        }
      ],
      "source": [
        "img = keras.preprocessing.image.load_img(\n",
        "    '/content/drive/My Drive/Colab Notebooks/datasets/Traffic-Signs/2/00021_00006_00000.png', target_size=image_size\n",
        ")\n",
        "img_array = keras.preprocessing.image.img_to_array(img)\n",
        "img_array = tf.expand_dims(img_array, 0)  # Create batch axis\n",
        "\n",
        "predictions = model.predict(img_array)\n",
        "print(np.argmax(predictions[0]))"
      ]
    },
    {
      "cell_type": "code",
      "execution_count": 9,
      "metadata": {
        "colab": {
          "base_uri": "https://localhost:8080/"
        },
        "id": "AjTaWk0IO5j8",
        "outputId": "fe80e4f0-0f32-416b-a245-7c87b197278b"
      },
      "outputs": [
        {
          "output_type": "stream",
          "name": "stdout",
          "text": [
            "5\n"
          ]
        }
      ],
      "source": [
        "img = keras.preprocessing.image.load_img(\n",
        "    '/content/drive/My Drive/Colab Notebooks/imagenes/imagen5.png', target_size=image_size\n",
        ")\n",
        "img_array = keras.preprocessing.image.img_to_array(img)\n",
        "img_array = tf.expand_dims(img_array, 0)  # Create batch axis\n",
        "\n",
        "predictions = model.predict(img_array)\n",
        "print(np.argmax(predictions[0]))"
      ]
    }
  ],
  "metadata": {
    "accelerator": "GPU",
    "colab": {
      "collapsed_sections": [],
      "name": "TrafficSigns.ipynb",
      "provenance": [],
      "include_colab_link": true
    },
    "kernelspec": {
      "display_name": "Python 3",
      "name": "python3"
    }
  },
  "nbformat": 4,
  "nbformat_minor": 0
}