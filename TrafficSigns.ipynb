{
  "nbformat": 4,
  "nbformat_minor": 0,
  "metadata": {
    "colab": {
      "name": "TrafficSigns.ipynb",
      "provenance": [],
      "collapsed_sections": [],
      "include_colab_link": true
    },
    "kernelspec": {
      "display_name": "Python 3",
      "name": "python3"
    },
    "accelerator": "GPU"
  },
  "cells": [
    {
      "cell_type": "markdown",
      "metadata": {
        "id": "view-in-github",
        "colab_type": "text"
      },
      "source": [
        "<a href=\"https://colab.research.google.com/github/nahimaort/Traffic-Signs-Recognition/blob/main/TrafficSigns.ipynb\" target=\"_parent\"><img src=\"https://colab.research.google.com/assets/colab-badge.svg\" alt=\"Open In Colab\"/></a>"
      ]
    },
    {
      "cell_type": "markdown",
      "metadata": {
        "id": "cXD8sjjQLj-k"
      },
      "source": [
        "# Reconocedor de señales de tráfico\n",
        "\n",
        "Vamos a desarrollar una red que reconozca señales de tráfico de tipo precaución.\n",
        "\n",
        "\n"
      ]
    },
    {
      "cell_type": "code",
      "metadata": {
        "id": "yZcKFL_TMkzR",
        "colab": {
          "base_uri": "https://localhost:8080/"
        },
        "outputId": "db154a83-7171-4215-a1f7-c57310e2d8d0"
      },
      "source": [
        "from google.colab import drive\n",
        "drive.mount('/content/drive')\n",
        "\n",
        "\n"
      ],
      "execution_count": 1,
      "outputs": [
        {
          "output_type": "stream",
          "name": "stdout",
          "text": [
            "Drive already mounted at /content/drive; to attempt to forcibly remount, call drive.mount(\"/content/drive\", force_remount=True).\n"
          ]
        }
      ]
    },
    {
      "cell_type": "code",
      "metadata": {
        "colab": {
          "base_uri": "https://localhost:8080/",
          "height": 37
        },
        "id": "eKjrirLcRIkU",
        "outputId": "2389f9c6-0588-40b3-88d0-445b9a0d5146"
      },
      "source": [
        "import tensorflow as tf\n",
        "tf.test.gpu_device_name()"
      ],
      "execution_count": 2,
      "outputs": [
        {
          "output_type": "execute_result",
          "data": {
            "application/vnd.google.colaboratory.intrinsic+json": {
              "type": "string"
            },
            "text/plain": [
              "'/device:GPU:0'"
            ]
          },
          "metadata": {},
          "execution_count": 2
        }
      ]
    },
    {
      "cell_type": "markdown",
      "source": [
        "Vemos una imagen de ejemplo"
      ],
      "metadata": {
        "id": "N3zF5ip1kPjR"
      }
    },
    {
      "cell_type": "code",
      "metadata": {
        "colab": {
          "base_uri": "https://localhost:8080/",
          "height": 301
        },
        "id": "x3JBgGOsKu44",
        "outputId": "a98052dc-4e6a-497d-d6a3-31338ea0e2a8"
      },
      "source": [
        "!ls \"/content/drive/My Drive/Colab Notebooks/datasets/\"\n",
        "\n",
        "from matplotlib.pyplot import imshow\n",
        "import numpy as np\n",
        "from PIL import Image\n",
        "\n",
        "%matplotlib inline\n",
        "pil_im = Image.open('/content/drive/My Drive/Colab Notebooks/datasets/Traffic-Signs/5/00025_00040_00018.png', 'r')\n",
        "imshow(np.asarray(pil_im))\n",
        "\n"
      ],
      "execution_count": null,
      "outputs": [
        {
          "output_type": "stream",
          "name": "stdout",
          "text": [
            "Traffic-Signs  Traffic-Signs-2\tTraffic-Signs-Validation\n"
          ]
        },
        {
          "output_type": "execute_result",
          "data": {
            "text/plain": [
              "<matplotlib.image.AxesImage at 0x7f7d4003eb90>"
            ]
          },
          "metadata": {},
          "execution_count": 3
        },
        {
          "output_type": "display_data",
          "data": {
            "image/png": "[encoded data removed]",
            "text/plain": [
              "<Figure size 432x288 with 1 Axes>"
            ]
          },
          "metadata": {
            "needs_background": "light"
          }
        }
      ]
    },
    {
      "cell_type": "markdown",
      "source": [
        "## Data Augmentation"
      ],
      "metadata": {
        "id": "X7U_9Zjj9WsA"
      }
    },
    {
      "cell_type": "code",
      "source": [
        "from keras.preprocessing.image import ImageDataGenerator, array_to_img, img_to_array, load_img\n",
        "import glob\n",
        "\n",
        "datagen = ImageDataGenerator(\n",
        "  horizontal_flip=False,\n",
        "\tvertical_flip=False,\n",
        "\trotation_range=25,\n",
        "\tzoom_range=0.20,\n",
        "\tshear_range=0.20,\n",
        "\tfill_mode=\"nearest\")\n",
        "\n",
        "for i in range(1, 10, 1):\n",
        "  for name in glob.glob(\"/content/drive/My Drive/Colab Notebooks/datasets/Traffic-Signs/\" + str(i) + \"/*.png\"):\n",
        "    img = load_img(name)\n",
        "    x = img_to_array(img)\n",
        "    x = x.reshape((1,) + x.shape) \n",
        "    j = 0\n",
        "    for batch in datagen.flow(x, batch_size=1,\n",
        "                                  save_to_dir=\"/content/drive/My Drive/Colab Notebooks/datasets/Traffic-Signs/\" + str(i) + \"/da/\", \n",
        "                              save_prefix=\"image\", save_format='png'):\n",
        "      j += 1\n",
        "      if j >= 2:\n",
        "        break\n",
        "print(\"Finalización del aumento de datos\")"
      ],
      "metadata": {
        "id": "Wj1hJvCa9ZAA"
      },
      "execution_count": null,
      "outputs": []
    },
    {
      "cell_type": "markdown",
      "metadata": {
        "id": "UCaBgMS8OdiV"
      },
      "source": [
        "## Primer modelo"
      ]
    },
    {
      "cell_type": "code",
      "metadata": {
        "colab": {
          "base_uri": "https://localhost:8080/"
        },
        "id": "25NfZptPxjgD",
        "outputId": "5d84f2cb-6569-43b9-ff06-64a4c13d5453"
      },
      "source": [
        "# DATA SOURCE --------------------------------------------------\n",
        "\n",
        "image_size = (150, 150)\n",
        "batch_size = 32\n",
        "\n",
        "train_ds = tf.keras.preprocessing.image_dataset_from_directory(\n",
        "    \"/content/drive/My Drive/Colab Notebooks/datasets/Traffic-Signs\",\n",
        "    image_size=image_size,\n",
        "    batch_size=batch_size,\n",
        "    label_mode='categorical'\n",
        ")\n",
        "val_ds = tf.keras.preprocessing.image_dataset_from_directory(\n",
        "    \"/content/drive/My Drive/Colab Notebooks/datasets/Traffic-Signs-Validation\",\n",
        "    image_size=image_size,\n",
        "    batch_size=batch_size,\n",
        "    label_mode='categorical'\n",
        ")\n",
        "\n",
        "train_ds = train_ds.prefetch(buffer_size=32)\n",
        "val_ds = val_ds.prefetch(buffer_size=32)"
      ],
      "execution_count": 3,
      "outputs": [
        {
          "output_type": "stream",
          "name": "stdout",
          "text": [
            "Found 4393 files belonging to 9 classes.\n",
            "Found 360 files belonging to 9 classes.\n"
          ]
        }
      ]
    },
    {
      "cell_type": "code",
      "metadata": {
        "id": "e5tVrY9gxyfJ"
      },
      "source": [
        "# MODEL --------------------------------------------------\n",
        "\n",
        "import tensorflow as tf\n",
        "from tensorflow import keras\n",
        "from tensorflow.keras.layers import Conv2D, MaxPooling2D, Dropout, Dense, Rescaling, Flatten\n",
        "from tensorflow.keras.callbacks import EarlyStopping\n",
        "\n",
        "model = keras.Sequential()\n",
        "model.add(Rescaling(scale=(1./127.5),\n",
        "                    offset=-1, \n",
        "                    input_shape=(150, 150, 3)))\n",
        "model.add(Conv2D(16, kernel_size=(3, 3), activation='relu'))\n",
        "model.add(MaxPooling2D(pool_size=(2, 2)))\n",
        "model.add(Conv2D(32, (3, 3), activation='relu'))\n",
        "model.add(MaxPooling2D(pool_size=(2, 2)))\n",
        "model.add(Dropout(0.25))\n",
        "\"\"\"\n",
        "model.add(Conv2D(128, (5, 5), activation='relu'))\n",
        "model.add(MaxPooling2D(pool_size=(2, 2)))\n",
        "model.add(Dropout(0.5))\n",
        "\"\"\"\n",
        "\n",
        "model.add(Flatten())\n",
        "model.add(Dense(64, activation='relu'))\n",
        "model.add(Dropout(0.5))\n",
        "model.add(Dense(9, activation='softmax'))\n",
        "\n",
        "model.compile(loss=tf.keras.losses.categorical_crossentropy,\n",
        "              optimizer=tf.keras.optimizers.Adam(1e-3),\n",
        "              metrics=['accuracy'])"
      ],
      "execution_count": 4,
      "outputs": []
    },
    {
      "cell_type": "code",
      "metadata": {
        "colab": {
          "base_uri": "https://localhost:8080/"
        },
        "id": "-AiE5BwazFFK",
        "outputId": "4b12f2be-0ab5-4113-899c-b57c82c9cdc4"
      },
      "source": [
        "# TRAINING --------------------------------------------------\n",
        "\n",
        "epochs = 200\n",
        "\n",
        "es = EarlyStopping(monitor='val_accuracy', mode='max', verbose=1, patience=10, restore_best_weights=True)\n",
        "\n",
        "h = model.fit(\n",
        "        train_ds,\n",
        "        epochs=epochs, \n",
        "        validation_data=val_ds,\n",
        "        callbacks = [es]\n",
        ")"
      ],
      "execution_count": 5,
      "outputs": [
        {
          "output_type": "stream",
          "name": "stdout",
          "text": [
            "Epoch 1/200\n",
            "138/138 [==============================] - 17s 94ms/step - loss: 2.0655 - accuracy: 0.2028 - val_loss: 1.7036 - val_accuracy: 0.4583\n",
            "Epoch 2/200\n",
            "138/138 [==============================] - 15s 103ms/step - loss: 1.5506 - accuracy: 0.3808 - val_loss: 1.2247 - val_accuracy: 0.7278\n",
            "Epoch 3/200\n",
            "138/138 [==============================] - 15s 104ms/step - loss: 1.3625 - accuracy: 0.4523 - val_loss: 0.9234 - val_accuracy: 0.7389\n",
            "Epoch 4/200\n",
            "138/138 [==============================] - 15s 105ms/step - loss: 1.2088 - accuracy: 0.5042 - val_loss: 0.8486 - val_accuracy: 0.8361\n",
            "Epoch 5/200\n",
            "138/138 [==============================] - 15s 104ms/step - loss: 1.1055 - accuracy: 0.5311 - val_loss: 0.7643 - val_accuracy: 0.8167\n",
            "Epoch 6/200\n",
            "138/138 [==============================] - 15s 102ms/step - loss: 1.0219 - accuracy: 0.5695 - val_loss: 0.6338 - val_accuracy: 0.8083\n",
            "Epoch 7/200\n",
            "138/138 [==============================] - 15s 104ms/step - loss: 0.9877 - accuracy: 0.5673 - val_loss: 0.6108 - val_accuracy: 0.8583\n",
            "Epoch 8/200\n",
            "138/138 [==============================] - 15s 104ms/step - loss: 0.9239 - accuracy: 0.6239 - val_loss: 0.6185 - val_accuracy: 0.8306\n",
            "Epoch 9/200\n",
            "138/138 [==============================] - 16s 109ms/step - loss: 0.8816 - accuracy: 0.6456 - val_loss: 0.4987 - val_accuracy: 0.8694\n",
            "Epoch 10/200\n",
            "138/138 [==============================] - 15s 104ms/step - loss: 0.8773 - accuracy: 0.6358 - val_loss: 0.5008 - val_accuracy: 0.8694\n",
            "Epoch 11/200\n",
            "138/138 [==============================] - 16s 109ms/step - loss: 0.8317 - accuracy: 0.6670 - val_loss: 0.5063 - val_accuracy: 0.8778\n",
            "Epoch 12/200\n",
            "138/138 [==============================] - 15s 105ms/step - loss: 0.8045 - accuracy: 0.6718 - val_loss: 0.4692 - val_accuracy: 0.8833\n",
            "Epoch 13/200\n",
            "138/138 [==============================] - 15s 105ms/step - loss: 0.8172 - accuracy: 0.6661 - val_loss: 0.5422 - val_accuracy: 0.8667\n",
            "Epoch 14/200\n",
            "138/138 [==============================] - 16s 109ms/step - loss: 0.7564 - accuracy: 0.7043 - val_loss: 0.4861 - val_accuracy: 0.8667\n",
            "Epoch 15/200\n",
            "138/138 [==============================] - 16s 110ms/step - loss: 0.7653 - accuracy: 0.6988 - val_loss: 0.5021 - val_accuracy: 0.8639\n",
            "Epoch 16/200\n",
            "138/138 [==============================] - 16s 109ms/step - loss: 0.7242 - accuracy: 0.7098 - val_loss: 0.5323 - val_accuracy: 0.8750\n",
            "Epoch 17/200\n",
            "138/138 [==============================] - 15s 106ms/step - loss: 0.7319 - accuracy: 0.7079 - val_loss: 0.4539 - val_accuracy: 0.8889\n",
            "Epoch 18/200\n",
            "138/138 [==============================] - 15s 104ms/step - loss: 0.7073 - accuracy: 0.7193 - val_loss: 0.4792 - val_accuracy: 0.8861\n",
            "Epoch 19/200\n",
            "138/138 [==============================] - 15s 103ms/step - loss: 0.6332 - accuracy: 0.7530 - val_loss: 0.5070 - val_accuracy: 0.8944\n",
            "Epoch 20/200\n",
            "138/138 [==============================] - 15s 103ms/step - loss: 0.6417 - accuracy: 0.7476 - val_loss: 0.4697 - val_accuracy: 0.9000\n",
            "Epoch 21/200\n",
            "138/138 [==============================] - 15s 104ms/step - loss: 0.6047 - accuracy: 0.7667 - val_loss: 0.4342 - val_accuracy: 0.8944\n",
            "Epoch 22/200\n",
            "138/138 [==============================] - 15s 105ms/step - loss: 0.5888 - accuracy: 0.7694 - val_loss: 0.4933 - val_accuracy: 0.8889\n",
            "Epoch 23/200\n",
            "138/138 [==============================] - 15s 105ms/step - loss: 0.5733 - accuracy: 0.7796 - val_loss: 0.4485 - val_accuracy: 0.9056\n",
            "Epoch 24/200\n",
            "138/138 [==============================] - 15s 105ms/step - loss: 0.5440 - accuracy: 0.7906 - val_loss: 0.4884 - val_accuracy: 0.9000\n",
            "Epoch 25/200\n",
            "138/138 [==============================] - 16s 107ms/step - loss: 0.5596 - accuracy: 0.7824 - val_loss: 0.4639 - val_accuracy: 0.9056\n",
            "Epoch 26/200\n",
            "138/138 [==============================] - 15s 104ms/step - loss: 0.5683 - accuracy: 0.7828 - val_loss: 0.4647 - val_accuracy: 0.9139\n",
            "Epoch 27/200\n",
            "138/138 [==============================] - 15s 105ms/step - loss: 0.5309 - accuracy: 0.7924 - val_loss: 0.5125 - val_accuracy: 0.9056\n",
            "Epoch 28/200\n",
            "138/138 [==============================] - 15s 106ms/step - loss: 0.5117 - accuracy: 0.7933 - val_loss: 0.4435 - val_accuracy: 0.9167\n",
            "Epoch 29/200\n",
            "138/138 [==============================] - 15s 102ms/step - loss: 0.5228 - accuracy: 0.8017 - val_loss: 0.4869 - val_accuracy: 0.9111\n",
            "Epoch 30/200\n",
            "138/138 [==============================] - 15s 107ms/step - loss: 0.5391 - accuracy: 0.7929 - val_loss: 0.5146 - val_accuracy: 0.8861\n",
            "Epoch 31/200\n",
            "138/138 [==============================] - 15s 107ms/step - loss: 0.5216 - accuracy: 0.8017 - val_loss: 0.5247 - val_accuracy: 0.9056\n",
            "Epoch 32/200\n",
            "138/138 [==============================] - 15s 107ms/step - loss: 0.5075 - accuracy: 0.8026 - val_loss: 0.4776 - val_accuracy: 0.9083\n",
            "Epoch 33/200\n",
            "138/138 [==============================] - 16s 107ms/step - loss: 0.5037 - accuracy: 0.8124 - val_loss: 0.4238 - val_accuracy: 0.9056\n",
            "Epoch 34/200\n",
            "138/138 [==============================] - 16s 108ms/step - loss: 0.5022 - accuracy: 0.8061 - val_loss: 0.3943 - val_accuracy: 0.9278\n",
            "Epoch 35/200\n",
            "138/138 [==============================] - 15s 103ms/step - loss: 0.4782 - accuracy: 0.8140 - val_loss: 0.4457 - val_accuracy: 0.9139\n",
            "Epoch 36/200\n",
            "138/138 [==============================] - 15s 107ms/step - loss: 0.4629 - accuracy: 0.8199 - val_loss: 0.4346 - val_accuracy: 0.9167\n",
            "Epoch 37/200\n",
            "138/138 [==============================] - 15s 107ms/step - loss: 0.4812 - accuracy: 0.8129 - val_loss: 0.4744 - val_accuracy: 0.9083\n",
            "Epoch 38/200\n",
            "138/138 [==============================] - 15s 107ms/step - loss: 0.4787 - accuracy: 0.8172 - val_loss: 0.4946 - val_accuracy: 0.9167\n",
            "Epoch 39/200\n",
            "138/138 [==============================] - 15s 105ms/step - loss: 0.4812 - accuracy: 0.8188 - val_loss: 0.4577 - val_accuracy: 0.9139\n",
            "Epoch 40/200\n",
            "138/138 [==============================] - 15s 104ms/step - loss: 0.4765 - accuracy: 0.8168 - val_loss: 0.4839 - val_accuracy: 0.9083\n",
            "Epoch 41/200\n",
            "138/138 [==============================] - 15s 103ms/step - loss: 0.4840 - accuracy: 0.8170 - val_loss: 0.5059 - val_accuracy: 0.9194\n",
            "Epoch 42/200\n",
            "138/138 [==============================] - 15s 103ms/step - loss: 0.4586 - accuracy: 0.8256 - val_loss: 0.4432 - val_accuracy: 0.9194\n",
            "Epoch 43/200\n",
            "138/138 [==============================] - 15s 104ms/step - loss: 0.4591 - accuracy: 0.8286 - val_loss: 0.4771 - val_accuracy: 0.9083\n",
            "Epoch 44/200\n",
            "137/138 [============================>.] - ETA: 0s - loss: 0.4594 - accuracy: 0.8196Restoring model weights from the end of the best epoch: 34.\n",
            "138/138 [==============================] - 15s 103ms/step - loss: 0.4595 - accuracy: 0.8193 - val_loss: 0.4969 - val_accuracy: 0.9167\n",
            "Epoch 00044: early stopping\n"
          ]
        }
      ]
    },
    {
      "cell_type": "code",
      "metadata": {
        "colab": {
          "base_uri": "https://localhost:8080/",
          "height": 295
        },
        "id": "2PPKm5euoRAs",
        "outputId": "4dba9fbd-ec04-44bf-efb1-1efeed41d17e"
      },
      "source": [
        "import matplotlib.pyplot as plt\n",
        "\n",
        "plt.plot(h.history['accuracy'])\n",
        "plt.plot(h.history['val_accuracy'])\n",
        "plt.plot(h.history['loss'])\n",
        "plt.title('Model accuracy')\n",
        "plt.ylabel('accuracy')\n",
        "plt.xlabel('epoch')\n",
        "plt.legend(['training', 'validation','loss'], loc='upper right')\n",
        "plt.show()"
      ],
      "execution_count": 7,
      "outputs": [
        {
          "output_type": "display_data",
          "data": {
            "image/png": "[encoded data removed]",
            "text/plain": [
              "<Figure size 432x288 with 1 Axes>"
            ]
          },
          "metadata": {
            "needs_background": "light"
          }
        }
      ]
    },
    {
      "cell_type": "markdown",
      "metadata": {
        "id": "TVOKAhbsm_pw"
      },
      "source": [
        "## Evaluación de los resultados"
      ]
    },
    {
      "cell_type": "code",
      "metadata": {
        "colab": {
          "base_uri": "https://localhost:8080/",
          "height": 537
        },
        "id": "IkyaTtnAKfqA",
        "outputId": "a94e3795-1952-4ff5-df5c-e3418dbdd677"
      },
      "source": [
        "import numpy as np\n",
        "from sklearn.metrics import classification_report, confusion_matrix\n",
        "import seaborn as sns\n",
        "\n",
        "results = np.concatenate([(y, model.predict(x=x)) for x, y in val_ds], axis=1)\n",
        "\n",
        "predictions = np.argmax(results[0], axis=1)\n",
        "labels = np.argmax(results[1], axis=1)\n",
        "\n",
        "cf_matrix = confusion_matrix(labels, predictions)\n",
        "\n",
        "sns.heatmap(cf_matrix, annot=True, fmt=\"d\", cmap=\"Blues\")\n",
        "\n",
        "print(classification_report(labels, predictions, digits = 4))"
      ],
      "execution_count": 8,
      "outputs": [
        {
          "output_type": "stream",
          "name": "stdout",
          "text": [
            "              precision    recall  f1-score   support\n",
            "\n",
            "           0     0.9750    0.9750    0.9750        40\n",
            "           1     0.8500    0.8293    0.8395        41\n",
            "           2     0.9250    0.8810    0.9024        42\n",
            "           3     0.9500    0.9744    0.9620        39\n",
            "           4     0.9250    1.0000    0.9610        37\n",
            "           5     0.9750    0.9286    0.9512        42\n",
            "           6     0.9750    0.9512    0.9630        41\n",
            "           7     0.8750    0.8974    0.8861        39\n",
            "           8     0.9000    0.9231    0.9114        39\n",
            "\n",
            "    accuracy                         0.9278       360\n",
            "   macro avg     0.9278    0.9289    0.9280       360\n",
            "weighted avg     0.9281    0.9278    0.9276       360\n",
            "\n"
          ]
        },
        {
          "output_type": "display_data",
          "data": {
            "image/png": "[encoded data removed]",
            "text/plain": [
              "<Figure size 432x288 with 2 Axes>"
            ]
          },
          "metadata": {
            "needs_background": "light"
          }
        }
      ]
    },
    {
      "cell_type": "code",
      "metadata": {
        "colab": {
          "base_uri": "https://localhost:8080/"
        },
        "id": "djAlHGLz-Cjj",
        "outputId": "5e414a68-99d6-4b7a-cb0a-5911f704a8db"
      },
      "source": [
        "img = keras.preprocessing.image.load_img(\n",
        "    '/content/drive/My Drive/Colab Notebooks/datasets/Traffic-Signs/2/00021_00006_00000.png', target_size=image_size\n",
        ")\n",
        "img_array = keras.preprocessing.image.img_to_array(img)\n",
        "img_array = tf.expand_dims(img_array, 0)  # Create batch axis\n",
        "\n",
        "predictions = model.predict(img_array)\n",
        "print(np.argmax(predictions[0]))"
      ],
      "execution_count": 9,
      "outputs": [
        {
          "output_type": "stream",
          "name": "stdout",
          "text": [
            "1\n"
          ]
        }
      ]
    },
    {
      "cell_type": "code",
      "source": [
        "img = keras.preprocessing.image.load_img(\n",
        "    '/content/drive/My Drive/Colab Notebooks/imagenes/imagen5.png', target_size=image_size\n",
        ")\n",
        "img_array = keras.preprocessing.image.img_to_array(img)\n",
        "img_array = tf.expand_dims(img_array, 0)  # Create batch axis\n",
        "\n",
        "predictions = model.predict(img_array)\n",
        "print(np.argmax(predictions[0]))"
      ],
      "metadata": {
        "colab": {
          "base_uri": "https://localhost:8080/"
        },
        "id": "AjTaWk0IO5j8",
        "outputId": "43b99154-5d8c-452a-a9cc-5732f90efe99"
      },
      "execution_count": 10,
      "outputs": [
        {
          "output_type": "stream",
          "name": "stdout",
          "text": [
            "5\n"
          ]
        }
      ]
    }
  ]
}