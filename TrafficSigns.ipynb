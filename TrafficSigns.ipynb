{
  "nbformat": 4,
  "nbformat_minor": 0,
  "metadata": {
    "colab": {
      "name": "TrafficSigns.ipynb",
      "provenance": [],
      "collapsed_sections": [],
      "include_colab_link": true
    },
    "kernelspec": {
      "display_name": "Python 3",
      "name": "python3"
    },
    "accelerator": "GPU"
  },
  "cells": [
    {
      "cell_type": "markdown",
      "metadata": {
        "id": "view-in-github",
        "colab_type": "text"
      },
      "source": [
        "<a href=\"https://colab.research.google.com/github/nahimaort/Traffic-Signs-Recognition/blob/main/TrafficSigns.ipynb\" target=\"_parent\"><img src=\"https://colab.research.google.com/assets/colab-badge.svg\" alt=\"Open In Colab\"/></a>"
      ]
    },
    {
      "cell_type": "markdown",
      "metadata": {
        "id": "cXD8sjjQLj-k"
      },
      "source": [
        "# Reconocedor de señales de tráfico\n",
        "\n",
        "Vamos a desarrollar una red que reconozca señales de tráfico de tipo precaución.\n",
        "\n",
        "\n"
      ]
    },
    {
      "cell_type": "code",
      "metadata": {
        "id": "yZcKFL_TMkzR",
        "colab": {
          "base_uri": "https://localhost:8080/"
        },
        "outputId": "e1365d96-59e8-428c-dd94-ef547c17d6e9"
      },
      "source": [
        "from google.colab import drive\n",
        "drive.mount('/content/drive')\n",
        "\n",
        "\n"
      ],
      "execution_count": 1,
      "outputs": [
        {
          "output_type": "stream",
          "name": "stdout",
          "text": [
            "Drive already mounted at /content/drive; to attempt to forcibly remount, call drive.mount(\"/content/drive\", force_remount=True).\n"
          ]
        }
      ]
    },
    {
      "cell_type": "code",
      "metadata": {
        "colab": {
          "base_uri": "https://localhost:8080/",
          "height": 37
        },
        "id": "eKjrirLcRIkU",
        "outputId": "a9492699-cb2e-4b96-e8bd-8abcd82d5b6c"
      },
      "source": [
        "import tensorflow as tf\n",
        "tf.test.gpu_device_name()"
      ],
      "execution_count": 2,
      "outputs": [
        {
          "output_type": "execute_result",
          "data": {
            "application/vnd.google.colaboratory.intrinsic+json": {
              "type": "string"
            },
            "text/plain": [
              "'/device:GPU:0'"
            ]
          },
          "metadata": {},
          "execution_count": 2
        }
      ]
    },
    {
      "cell_type": "markdown",
      "source": [
        "Vemos una imagen de ejemplo"
      ],
      "metadata": {
        "id": "N3zF5ip1kPjR"
      }
    },
    {
      "cell_type": "code",
      "metadata": {
        "colab": {
          "base_uri": "https://localhost:8080/",
          "height": 301
        },
        "id": "x3JBgGOsKu44",
        "outputId": "fee12d46-3ccb-43ba-9e9e-22d86338f4cd"
      },
      "source": [
        "!ls \"/content/drive/My Drive/Colab Notebooks/datasets/\"\n",
        "\n",
        "from matplotlib.pyplot import imshow\n",
        "import numpy as np\n",
        "from PIL import Image\n",
        "\n",
        "%matplotlib inline\n",
        "pil_im = Image.open('/content/drive/My Drive/Colab Notebooks/datasets/Traffic-Signs/5/00025_00040_00018.png', 'r')\n",
        "imshow(np.asarray(pil_im))\n",
        "\n"
      ],
      "execution_count": 3,
      "outputs": [
        {
          "output_type": "stream",
          "name": "stdout",
          "text": [
            "Traffic-Signs\n"
          ]
        },
        {
          "output_type": "execute_result",
          "data": {
            "text/plain": [
              "<matplotlib.image.AxesImage at 0x7f7de19725d0>"
            ]
          },
          "metadata": {},
          "execution_count": 3
        },
        {
          "output_type": "display_data",
          "data": {
            "image/png": "[encoded data removed]",
            "text/plain": [
              "<Figure size 432x288 with 1 Axes>"
            ]
          },
          "metadata": {
            "needs_background": "light"
          }
        }
      ]
    },
    {
      "cell_type": "markdown",
      "source": [
        "## Data Augmentation"
      ],
      "metadata": {
        "id": "X7U_9Zjj9WsA"
      }
    },
    {
      "cell_type": "code",
      "source": [
        "from keras.preprocessing.image import ImageDataGenerator, array_to_img, img_to_array, load_img\n",
        "import glob\n",
        "\n",
        "datagen = ImageDataGenerator(\n",
        "  horizontal_flip=False,\n",
        "\tvertical_flip=False,\n",
        "\trotation_range=25,\n",
        "\tzoom_range=0.20,\n",
        "\tshear_range=0.20,\n",
        "\tfill_mode=\"nearest\")\n",
        "\n",
        "for i in range(1, 10, 1):\n",
        "  for name in glob.glob(\"/content/drive/My Drive/Colab Notebooks/datasets/Traffic-Signs/\" + str(i) + \"/*.png\"):\n",
        "    img = load_img(name)\n",
        "    x = img_to_array(img)\n",
        "    x = x.reshape((1,) + x.shape) \n",
        "    j = 0\n",
        "    for batch in datagen.flow(x, batch_size=1,\n",
        "                                  save_to_dir=\"/content/drive/My Drive/Colab Notebooks/datasets/Traffic-Signs/\" + str(i) + \"/da/\", save_prefix=\"image\", save_format='png'):\n",
        "      j += 1\n",
        "      if j >= 2:\n",
        "        break\n",
        "print(\"Finalización del aumento de datos\")"
      ],
      "metadata": {
        "id": "Wj1hJvCa9ZAA",
        "colab": {
          "base_uri": "https://localhost:8080/"
        },
        "outputId": "be344509-cc0a-4063-b107-4f51055e6677"
      },
      "execution_count": 5,
      "outputs": [
        {
          "output_type": "stream",
          "name": "stdout",
          "text": [
            "Finalización del aumento de datos\n"
          ]
        }
      ]
    },
    {
      "cell_type": "markdown",
      "metadata": {
        "id": "UCaBgMS8OdiV"
      },
      "source": [
        "## Primer modelo"
      ]
    },
    {
      "cell_type": "code",
      "metadata": {
        "colab": {
          "base_uri": "https://localhost:8080/"
        },
        "id": "25NfZptPxjgD",
        "outputId": "6f183ec7-76c6-40a4-8e66-85c87bb84be5"
      },
      "source": [
        "# DATA SOURCE --------------------------------------------------\n",
        "\n",
        "image_size = (150, 150)\n",
        "batch_size = 32\n",
        "\n",
        "train_ds = tf.keras.preprocessing.image_dataset_from_directory(\n",
        "    \"/content/drive/My Drive/Colab Notebooks/datasets/Traffic-Signs\",\n",
        "    validation_split=0.2,\n",
        "    subset=\"training\",\n",
        "    seed=1337,\n",
        "    image_size=image_size,\n",
        "    batch_size=batch_size,\n",
        "    label_mode='categorical'\n",
        ")\n",
        "val_ds = tf.keras.preprocessing.image_dataset_from_directory(\n",
        "    \"/content/drive/My Drive/Colab Notebooks/datasets/Traffic-Signs\",\n",
        "    validation_split=0.2,\n",
        "    subset=\"validation\",\n",
        "    seed=1337,\n",
        "    image_size=image_size,\n",
        "    batch_size=batch_size,\n",
        "    label_mode='categorical'\n",
        ")\n",
        "\n",
        "train_ds = train_ds.prefetch(buffer_size=32)\n",
        "val_ds = val_ds.prefetch(buffer_size=32)"
      ],
      "execution_count": 6,
      "outputs": [
        {
          "output_type": "stream",
          "name": "stdout",
          "text": [
            "Found 5547 files belonging to 9 classes.\n",
            "Using 4438 files for training.\n",
            "Found 5547 files belonging to 9 classes.\n",
            "Using 1109 files for validation.\n"
          ]
        }
      ]
    },
    {
      "cell_type": "code",
      "metadata": {
        "id": "e5tVrY9gxyfJ"
      },
      "source": [
        "# MODEL --------------------------------------------------\n",
        "\n",
        "import tensorflow as tf\n",
        "from tensorflow import keras\n",
        "from tensorflow.keras.layers import Conv2D, MaxPooling2D, Dropout, Dense, Rescaling, Flatten\n",
        "from tensorflow.keras.callbacks import EarlyStopping\n",
        "\n",
        "model = keras.Sequential()\n",
        "model.add(Rescaling(scale=(1./127.5),\n",
        "                    offset=-1, \n",
        "                    input_shape=(150, 150, 3)))\n",
        "model.add(Conv2D(32, kernel_size=(3, 3), activation='relu'))\n",
        "model.add(MaxPooling2D(pool_size=(2, 2)))\n",
        "model.add(Conv2D(64, (3, 3), activation='relu'))\n",
        "model.add(MaxPooling2D(pool_size=(2, 2)))\n",
        "model.add(Dropout(0.25))\n",
        "model.add(Conv2D(128, (3, 3), activation='relu'))\n",
        "model.add(MaxPooling2D(pool_size=(2, 2)))\n",
        "model.add(Dropout(0.25))\n",
        "\n",
        "model.add(Flatten())\n",
        "model.add(Dense(128, activation='relu'))\n",
        "model.add(Dropout(0.5))\n",
        "model.add(Dense(9, activation='softmax'))\n",
        "\n",
        "model.compile(loss=tf.keras.losses.categorical_crossentropy,\n",
        "              optimizer=tf.keras.optimizers.Adam(1e-3),\n",
        "              metrics=['accuracy'])"
      ],
      "execution_count": 7,
      "outputs": []
    },
    {
      "cell_type": "code",
      "metadata": {
        "colab": {
          "base_uri": "https://localhost:8080/"
        },
        "id": "-AiE5BwazFFK",
        "outputId": "0b8eb486-423b-4985-ca16-4ff0fb1da901"
      },
      "source": [
        "# TRAINING --------------------------------------------------\n",
        "\n",
        "epochs = 200\n",
        "\n",
        "es = EarlyStopping(monitor='val_accuracy', mode='max', verbose=1, patience=10, restore_best_weights=True)\n",
        "\n",
        "h = model.fit(\n",
        "        train_ds,\n",
        "        epochs=epochs, \n",
        "        validation_data=val_ds,\n",
        "        callbacks = [es]\n",
        ")"
      ],
      "execution_count": 8,
      "outputs": [
        {
          "output_type": "stream",
          "name": "stdout",
          "text": [
            "Epoch 1/200\n",
            "139/139 [==============================] - 22s 130ms/step - loss: 1.6670 - accuracy: 0.4126 - val_loss: 0.7838 - val_accuracy: 0.7998\n",
            "Epoch 2/200\n",
            "139/139 [==============================] - 20s 136ms/step - loss: 0.6517 - accuracy: 0.7889 - val_loss: 0.2783 - val_accuracy: 0.9225\n",
            "Epoch 3/200\n",
            "139/139 [==============================] - 20s 138ms/step - loss: 0.3375 - accuracy: 0.8867 - val_loss: 0.1835 - val_accuracy: 0.9441\n",
            "Epoch 4/200\n",
            "139/139 [==============================] - 19s 134ms/step - loss: 0.2034 - accuracy: 0.9331 - val_loss: 0.1449 - val_accuracy: 0.9513\n",
            "Epoch 5/200\n",
            "139/139 [==============================] - 20s 136ms/step - loss: 0.1675 - accuracy: 0.9446 - val_loss: 0.1214 - val_accuracy: 0.9684\n",
            "Epoch 6/200\n",
            "139/139 [==============================] - 20s 141ms/step - loss: 0.1317 - accuracy: 0.9603 - val_loss: 0.1006 - val_accuracy: 0.9648\n",
            "Epoch 7/200\n",
            "139/139 [==============================] - 20s 139ms/step - loss: 0.1014 - accuracy: 0.9678 - val_loss: 0.1063 - val_accuracy: 0.9657\n",
            "Epoch 8/200\n",
            "139/139 [==============================] - 20s 142ms/step - loss: 0.0789 - accuracy: 0.9736 - val_loss: 0.0928 - val_accuracy: 0.9739\n",
            "Epoch 9/200\n",
            "139/139 [==============================] - 19s 134ms/step - loss: 0.0742 - accuracy: 0.9748 - val_loss: 0.0848 - val_accuracy: 0.9784\n",
            "Epoch 10/200\n",
            "139/139 [==============================] - 21s 147ms/step - loss: 0.0740 - accuracy: 0.9770 - val_loss: 0.0678 - val_accuracy: 0.9847\n",
            "Epoch 11/200\n",
            "139/139 [==============================] - 21s 147ms/step - loss: 0.0465 - accuracy: 0.9854 - val_loss: 0.0906 - val_accuracy: 0.9820\n",
            "Epoch 12/200\n",
            "139/139 [==============================] - 20s 137ms/step - loss: 0.0455 - accuracy: 0.9860 - val_loss: 0.0686 - val_accuracy: 0.9865\n",
            "Epoch 13/200\n",
            "139/139 [==============================] - 19s 133ms/step - loss: 0.0464 - accuracy: 0.9867 - val_loss: 0.0926 - val_accuracy: 0.9775\n",
            "Epoch 14/200\n",
            "139/139 [==============================] - 19s 132ms/step - loss: 0.0434 - accuracy: 0.9858 - val_loss: 0.0604 - val_accuracy: 0.9874\n",
            "Epoch 15/200\n",
            "139/139 [==============================] - 19s 134ms/step - loss: 0.0459 - accuracy: 0.9845 - val_loss: 0.0635 - val_accuracy: 0.9829\n",
            "Epoch 16/200\n",
            "139/139 [==============================] - 19s 135ms/step - loss: 0.0532 - accuracy: 0.9820 - val_loss: 0.1033 - val_accuracy: 0.9766\n",
            "Epoch 17/200\n",
            "139/139 [==============================] - 19s 132ms/step - loss: 0.0594 - accuracy: 0.9817 - val_loss: 0.0792 - val_accuracy: 0.9829\n",
            "Epoch 18/200\n",
            "139/139 [==============================] - 19s 134ms/step - loss: 0.0494 - accuracy: 0.9860 - val_loss: 0.1209 - val_accuracy: 0.9739\n",
            "Epoch 19/200\n",
            "139/139 [==============================] - 19s 133ms/step - loss: 0.0314 - accuracy: 0.9885 - val_loss: 0.1136 - val_accuracy: 0.9775\n",
            "Epoch 20/200\n",
            "139/139 [==============================] - 19s 133ms/step - loss: 0.0372 - accuracy: 0.9867 - val_loss: 0.0950 - val_accuracy: 0.9784\n",
            "Epoch 21/200\n",
            "139/139 [==============================] - 20s 137ms/step - loss: 0.0363 - accuracy: 0.9894 - val_loss: 0.0493 - val_accuracy: 0.9874\n",
            "Epoch 22/200\n",
            "139/139 [==============================] - 19s 134ms/step - loss: 0.0215 - accuracy: 0.9939 - val_loss: 0.0566 - val_accuracy: 0.9847\n",
            "Epoch 23/200\n",
            "139/139 [==============================] - 20s 136ms/step - loss: 0.0307 - accuracy: 0.9890 - val_loss: 0.0821 - val_accuracy: 0.9829\n",
            "Epoch 24/200\n",
            "138/139 [============================>.] - ETA: 0s - loss: 0.0434 - accuracy: 0.9885Restoring model weights from the end of the best epoch: 14.\n",
            "139/139 [==============================] - 19s 135ms/step - loss: 0.0432 - accuracy: 0.9885 - val_loss: 0.0852 - val_accuracy: 0.9838\n",
            "Epoch 00024: early stopping\n"
          ]
        }
      ]
    },
    {
      "cell_type": "code",
      "metadata": {
        "colab": {
          "base_uri": "https://localhost:8080/",
          "height": 295
        },
        "id": "2PPKm5euoRAs",
        "outputId": "a10da8c2-7b98-4d27-f571-9009cb1bbf0b"
      },
      "source": [
        "import matplotlib.pyplot as plt\n",
        "\n",
        "plt.plot(h.history['accuracy'])\n",
        "plt.plot(h.history['val_accuracy'])\n",
        "plt.plot(h.history['loss'])\n",
        "plt.title('Model accuracy')\n",
        "plt.ylabel('accuracy')\n",
        "plt.xlabel('epoch')\n",
        "plt.legend(['training', 'validation','loss'], loc='upper right')\n",
        "plt.show()"
      ],
      "execution_count": 9,
      "outputs": [
        {
          "output_type": "display_data",
          "data": {
            "image/png": "[encoded data removed]",
            "text/plain": [
              "<Figure size 432x288 with 1 Axes>"
            ]
          },
          "metadata": {
            "needs_background": "light"
          }
        }
      ]
    },
    {
      "cell_type": "markdown",
      "metadata": {
        "id": "TVOKAhbsm_pw"
      },
      "source": [
        "## Evaluación de los resultados"
      ]
    },
    {
      "cell_type": "code",
      "metadata": {
        "colab": {
          "base_uri": "https://localhost:8080/",
          "height": 537
        },
        "id": "IkyaTtnAKfqA",
        "outputId": "4be023e0-ac21-4726-b4f4-e08ff59bcd3d"
      },
      "source": [
        "import numpy as np\n",
        "from sklearn.metrics import classification_report, confusion_matrix\n",
        "import seaborn as sns\n",
        "\n",
        "results = np.concatenate([(y, model.predict(x=x)) for x, y in val_ds], axis=1)\n",
        "\n",
        "predictions = np.argmax(results[0], axis=1)\n",
        "labels = np.argmax(results[1], axis=1)\n",
        "\n",
        "cf_matrix = confusion_matrix(labels, predictions)\n",
        "\n",
        "sns.heatmap(cf_matrix, annot=True, fmt=\"d\", cmap=\"Blues\")\n",
        "\n",
        "print(classification_report(labels, predictions, digits = 4))"
      ],
      "execution_count": 10,
      "outputs": [
        {
          "output_type": "stream",
          "name": "stdout",
          "text": [
            "              precision    recall  f1-score   support\n",
            "\n",
            "           0     0.9837    0.9837    0.9837       123\n",
            "           1     0.9496    0.9658    0.9576       117\n",
            "           2     0.9919    1.0000    0.9959       122\n",
            "           3     0.9908    1.0000    0.9954       108\n",
            "           4     1.0000    1.0000    1.0000       123\n",
            "           5     1.0000    1.0000    1.0000       124\n",
            "           6     1.0000    0.9929    0.9964       140\n",
            "           7     0.9769    1.0000    0.9883       127\n",
            "           8     0.9916    0.9440    0.9672       125\n",
            "\n",
            "    accuracy                         0.9874      1109\n",
            "   macro avg     0.9872    0.9874    0.9872      1109\n",
            "weighted avg     0.9875    0.9874    0.9873      1109\n",
            "\n"
          ]
        },
        {
          "output_type": "display_data",
          "data": {
            "image/png": "[encoded data removed]",
            "text/plain": [
              "<Figure size 432x288 with 2 Axes>"
            ]
          },
          "metadata": {
            "needs_background": "light"
          }
        }
      ]
    },
    {
      "cell_type": "code",
      "metadata": {
        "colab": {
          "base_uri": "https://localhost:8080/"
        },
        "id": "djAlHGLz-Cjj",
        "outputId": "7be5701e-6821-4ec0-f091-3c5549cea5d7"
      },
      "source": [
        "img = keras.preprocessing.image.load_img(\n",
        "    '/content/drive/My Drive/Colab Notebooks/datasets/Traffic-Signs/2/00021_00006_00000.png', target_size=image_size\n",
        ")\n",
        "img_array = keras.preprocessing.image.img_to_array(img)\n",
        "img_array = tf.expand_dims(img_array, 0)  # Create batch axis\n",
        "\n",
        "predictions = model.predict(img_array)\n",
        "print(np.argmax(predictions[0]))"
      ],
      "execution_count": 11,
      "outputs": [
        {
          "output_type": "stream",
          "name": "stdout",
          "text": [
            "1\n"
          ]
        }
      ]
    },
    {
      "cell_type": "code",
      "source": [
        "img = keras.preprocessing.image.load_img(\n",
        "    '/content/drive/My Drive/Colab Notebooks/imagenes/imagen5.png', target_size=image_size\n",
        ")\n",
        "img_array = keras.preprocessing.image.img_to_array(img)\n",
        "img_array = tf.expand_dims(img_array, 0)  # Create batch axis\n",
        "\n",
        "predictions = model.predict(img_array)\n",
        "print(np.argmax(predictions[0]))"
      ],
      "metadata": {
        "colab": {
          "base_uri": "https://localhost:8080/"
        },
        "id": "AjTaWk0IO5j8",
        "outputId": "f990fed0-cd12-4709-d616-b884a59a9c3c"
      },
      "execution_count": 12,
      "outputs": [
        {
          "output_type": "stream",
          "name": "stdout",
          "text": [
            "5\n"
          ]
        }
      ]
    }
  ]
}