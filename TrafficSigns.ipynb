{
  "nbformat": 4,
  "nbformat_minor": 0,
  "metadata": {
    "colab": {
      "name": "TrafficSigns.ipynb",
      "provenance": [],
      "collapsed_sections": [],
      "include_colab_link": true
    },
    "kernelspec": {
      "display_name": "Python 3",
      "name": "python3"
    },
    "accelerator": "GPU"
  },
  "cells": [
    {
      "cell_type": "markdown",
      "metadata": {
        "id": "view-in-github",
        "colab_type": "text"
      },
      "source": [
        "<a href=\"https://colab.research.google.com/github/nahimaort/Traffic-Signs-Recognition/blob/main/TrafficSigns.ipynb\" target=\"_parent\"><img src=\"https://colab.research.google.com/assets/colab-badge.svg\" alt=\"Open In Colab\"/></a>"
      ]
    },
    {
      "cell_type": "markdown",
      "metadata": {
        "id": "cXD8sjjQLj-k"
      },
      "source": [
        "# Reconocedor de señales de tráfico\n",
        "\n",
        "Vamos a desarrollar una red que reconozca señales de tráfico de tipo precaución.\n",
        "\n",
        "\n"
      ]
    },
    {
      "cell_type": "code",
      "metadata": {
        "id": "yZcKFL_TMkzR",
        "colab": {
          "base_uri": "https://localhost:8080/"
        },
        "outputId": "15623da2-398f-4808-81af-5d2ab955cc82"
      },
      "source": [
        "from google.colab import drive\n",
        "drive.mount('/content/drive')\n",
        "\n",
        "\n"
      ],
      "execution_count": null,
      "outputs": [
        {
          "output_type": "stream",
          "name": "stdout",
          "text": [
            "Mounted at /content/drive\n"
          ]
        }
      ]
    },
    {
      "cell_type": "code",
      "metadata": {
        "colab": {
          "base_uri": "https://localhost:8080/",
          "height": 37
        },
        "id": "eKjrirLcRIkU",
        "outputId": "c9b70e04-3743-4d12-96e1-4aeddd8cc44e"
      },
      "source": [
        "import tensorflow as tf\n",
        "tf.test.gpu_device_name()"
      ],
      "execution_count": 1,
      "outputs": [
        {
          "output_type": "execute_result",
          "data": {
            "application/vnd.google.colaboratory.intrinsic+json": {
              "type": "string"
            },
            "text/plain": [
              "'/device:GPU:0'"
            ]
          },
          "metadata": {},
          "execution_count": 1
        }
      ]
    },
    {
      "cell_type": "markdown",
      "source": [
        "Vemos una imagen de ejemplo"
      ],
      "metadata": {
        "id": "N3zF5ip1kPjR"
      }
    },
    {
      "cell_type": "code",
      "metadata": {
        "colab": {
          "base_uri": "https://localhost:8080/",
          "height": 301
        },
        "id": "x3JBgGOsKu44",
        "outputId": "a98052dc-4e6a-497d-d6a3-31338ea0e2a8"
      },
      "source": [
        "!ls \"/content/drive/My Drive/Colab Notebooks/datasets/\"\n",
        "\n",
        "from matplotlib.pyplot import imshow\n",
        "import numpy as np\n",
        "from PIL import Image\n",
        "\n",
        "%matplotlib inline\n",
        "pil_im = Image.open('/content/drive/My Drive/Colab Notebooks/datasets/Traffic-Signs/5/00025_00040_00018.png', 'r')\n",
        "imshow(np.asarray(pil_im))\n",
        "\n"
      ],
      "execution_count": null,
      "outputs": [
        {
          "output_type": "stream",
          "name": "stdout",
          "text": [
            "Traffic-Signs  Traffic-Signs-2\tTraffic-Signs-Validation\n"
          ]
        },
        {
          "output_type": "execute_result",
          "data": {
            "text/plain": [
              "<matplotlib.image.AxesImage at 0x7f7d4003eb90>"
            ]
          },
          "metadata": {},
          "execution_count": 3
        },
        {
          "output_type": "display_data",
          "data": {
            "image/png": "[encoded data removed]",
            "text/plain": [
              "<Figure size 432x288 with 1 Axes>"
            ]
          },
          "metadata": {
            "needs_background": "light"
          }
        }
      ]
    },
    {
      "cell_type": "markdown",
      "source": [
        "## Data Augmentation"
      ],
      "metadata": {
        "id": "X7U_9Zjj9WsA"
      }
    },
    {
      "cell_type": "code",
      "source": [
        "from keras.preprocessing.image import ImageDataGenerator, array_to_img, img_to_array, load_img\n",
        "import glob\n",
        "\n",
        "datagen = ImageDataGenerator(\n",
        "  horizontal_flip=False,\n",
        "\tvertical_flip=False,\n",
        "\trotation_range=25,\n",
        "\tzoom_range=0.20,\n",
        "\tshear_range=0.20,\n",
        "\tfill_mode=\"nearest\")\n",
        "\n",
        "for i in range(1, 10, 1):\n",
        "  for name in glob.glob(\"/content/drive/My Drive/Colab Notebooks/datasets/Traffic-Signs/\" + str(i) + \"/*.png\"):\n",
        "    img = load_img(name)\n",
        "    x = img_to_array(img)\n",
        "    x = x.reshape((1,) + x.shape) \n",
        "    j = 0\n",
        "    for batch in datagen.flow(x, batch_size=1,\n",
        "                                  save_to_dir=\"/content/drive/My Drive/Colab Notebooks/datasets/Traffic-Signs/\" + str(i) + \"/da/\", \n",
        "                              save_prefix=\"image\", save_format='png'):\n",
        "      j += 1\n",
        "      if j >= 2:\n",
        "        break\n",
        "print(\"Finalización del aumento de datos\")"
      ],
      "metadata": {
        "id": "Wj1hJvCa9ZAA"
      },
      "execution_count": null,
      "outputs": []
    },
    {
      "cell_type": "markdown",
      "metadata": {
        "id": "UCaBgMS8OdiV"
      },
      "source": [
        "## Primer modelo"
      ]
    },
    {
      "cell_type": "code",
      "metadata": {
        "colab": {
          "base_uri": "https://localhost:8080/"
        },
        "id": "25NfZptPxjgD",
        "outputId": "0b78f128-1c00-4e07-a379-f114f858d20d"
      },
      "source": [
        "# DATA SOURCE --------------------------------------------------\n",
        "\n",
        "image_size = (150, 150)\n",
        "batch_size = 32\n",
        "\n",
        "train_ds = tf.keras.preprocessing.image_dataset_from_directory(\n",
        "    \"/content/drive/My Drive/Colab Notebooks/datasets/Traffic-Signs\",\n",
        "    image_size=image_size,\n",
        "    batch_size=batch_size,\n",
        "    label_mode='categorical'\n",
        ")\n",
        "val_ds = tf.keras.preprocessing.image_dataset_from_directory(\n",
        "    \"/content/drive/My Drive/Colab Notebooks/datasets/Traffic-Signs-Validation\",\n",
        "    image_size=image_size,\n",
        "    batch_size=batch_size,\n",
        "    label_mode='categorical'\n",
        ")\n",
        "\n",
        "train_ds = train_ds.prefetch(buffer_size=32)\n",
        "val_ds = val_ds.prefetch(buffer_size=32)"
      ],
      "execution_count": 2,
      "outputs": [
        {
          "output_type": "stream",
          "name": "stdout",
          "text": [
            "Found 4393 files belonging to 9 classes.\n",
            "Found 360 files belonging to 9 classes.\n"
          ]
        }
      ]
    },
    {
      "cell_type": "code",
      "metadata": {
        "id": "e5tVrY9gxyfJ"
      },
      "source": [
        "# MODEL --------------------------------------------------\n",
        "\n",
        "import tensorflow as tf\n",
        "from tensorflow import keras\n",
        "from tensorflow.keras.layers import Conv2D, MaxPooling2D, Dropout, Dense, Rescaling, Flatten\n",
        "from tensorflow.keras.callbacks import EarlyStopping\n",
        "\n",
        "model = keras.Sequential()\n",
        "model.add(Rescaling(scale=(1./127.5),\n",
        "                    offset=-1, \n",
        "                    input_shape=(150, 150, 3)))\n",
        "model.add(Conv2D(32, kernel_size=(3, 3), activation='relu'))\n",
        "model.add(MaxPooling2D(pool_size=(2, 2)))\n",
        "model.add(Conv2D(64, (3, 3), activation='relu'))\n",
        "model.add(MaxPooling2D(pool_size=(2, 2)))\n",
        "model.add(Dropout(0.5))\n",
        "\"\"\"\n",
        "model.add(Conv2D(128, (5, 5), activation='relu'))\n",
        "model.add(MaxPooling2D(pool_size=(2, 2)))\n",
        "model.add(Dropout(0.5))\n",
        "\"\"\"\n",
        "\n",
        "model.add(Flatten())\n",
        "model.add(Dense(128, activation='relu'))\n",
        "model.add(Dropout(0.5))\n",
        "model.add(Dense(9, activation='softmax'))\n",
        "\n",
        "model.compile(loss=tf.keras.losses.categorical_crossentropy,\n",
        "              optimizer=tf.keras.optimizers.Adam(1e-3),\n",
        "              metrics=['accuracy'])"
      ],
      "execution_count": 3,
      "outputs": []
    },
    {
      "cell_type": "code",
      "metadata": {
        "colab": {
          "base_uri": "https://localhost:8080/"
        },
        "id": "-AiE5BwazFFK",
        "outputId": "86ad7080-8cec-4dd3-fbc5-ac2032c4dae5"
      },
      "source": [
        "# TRAINING --------------------------------------------------\n",
        "\n",
        "epochs = 200\n",
        "\n",
        "es = EarlyStopping(monitor='val_accuracy', mode='max', verbose=1, patience=10, restore_best_weights=True)\n",
        "\n",
        "h = model.fit(\n",
        "        train_ds,\n",
        "        epochs=epochs, \n",
        "        validation_data=val_ds,\n",
        "        callbacks = [es]\n",
        ")"
      ],
      "execution_count": 4,
      "outputs": [
        {
          "output_type": "stream",
          "name": "stdout",
          "text": [
            "Epoch 1/200\n",
            "138/138 [==============================] - 17s 96ms/step - loss: 1.3697 - accuracy: 0.5333 - val_loss: 0.6699 - val_accuracy: 0.8139\n",
            "Epoch 2/200\n",
            "138/138 [==============================] - 15s 107ms/step - loss: 0.4455 - accuracy: 0.8593 - val_loss: 0.4617 - val_accuracy: 0.8472\n",
            "Epoch 3/200\n",
            "138/138 [==============================] - 15s 105ms/step - loss: 0.2379 - accuracy: 0.9199 - val_loss: 0.4055 - val_accuracy: 0.8833\n",
            "Epoch 4/200\n",
            "138/138 [==============================] - 15s 104ms/step - loss: 0.1695 - accuracy: 0.9424 - val_loss: 0.3717 - val_accuracy: 0.8861\n",
            "Epoch 5/200\n",
            "138/138 [==============================] - 16s 107ms/step - loss: 0.1301 - accuracy: 0.9581 - val_loss: 0.3381 - val_accuracy: 0.9111\n",
            "Epoch 6/200\n",
            "138/138 [==============================] - 15s 106ms/step - loss: 0.0941 - accuracy: 0.9681 - val_loss: 0.3500 - val_accuracy: 0.9139\n",
            "Epoch 7/200\n",
            "138/138 [==============================] - 16s 107ms/step - loss: 0.0853 - accuracy: 0.9718 - val_loss: 0.3379 - val_accuracy: 0.9194\n",
            "Epoch 8/200\n",
            "138/138 [==============================] - 15s 106ms/step - loss: 0.0758 - accuracy: 0.9770 - val_loss: 0.3176 - val_accuracy: 0.9194\n",
            "Epoch 9/200\n",
            "138/138 [==============================] - 16s 108ms/step - loss: 0.0620 - accuracy: 0.9809 - val_loss: 0.3616 - val_accuracy: 0.9250\n",
            "Epoch 10/200\n",
            "138/138 [==============================] - 16s 108ms/step - loss: 0.0636 - accuracy: 0.9822 - val_loss: 0.2903 - val_accuracy: 0.9389\n",
            "Epoch 11/200\n",
            "138/138 [==============================] - 15s 107ms/step - loss: 0.0711 - accuracy: 0.9788 - val_loss: 0.3469 - val_accuracy: 0.9222\n",
            "Epoch 12/200\n",
            "138/138 [==============================] - 15s 107ms/step - loss: 0.0578 - accuracy: 0.9811 - val_loss: 0.3792 - val_accuracy: 0.9139\n",
            "Epoch 13/200\n",
            "138/138 [==============================] - 15s 106ms/step - loss: 0.0514 - accuracy: 0.9843 - val_loss: 0.3918 - val_accuracy: 0.9222\n",
            "Epoch 14/200\n",
            "138/138 [==============================] - 15s 106ms/step - loss: 0.0493 - accuracy: 0.9859 - val_loss: 0.4353 - val_accuracy: 0.9139\n",
            "Epoch 15/200\n",
            "138/138 [==============================] - 16s 108ms/step - loss: 0.0546 - accuracy: 0.9836 - val_loss: 0.3576 - val_accuracy: 0.9333\n",
            "Epoch 16/200\n",
            "138/138 [==============================] - 15s 107ms/step - loss: 0.0512 - accuracy: 0.9850 - val_loss: 0.4342 - val_accuracy: 0.9167\n",
            "Epoch 17/200\n",
            "138/138 [==============================] - 16s 108ms/step - loss: 0.0556 - accuracy: 0.9832 - val_loss: 0.3371 - val_accuracy: 0.9306\n",
            "Epoch 18/200\n",
            "138/138 [==============================] - 16s 110ms/step - loss: 0.0442 - accuracy: 0.9854 - val_loss: 0.3874 - val_accuracy: 0.9306\n",
            "Epoch 19/200\n",
            "138/138 [==============================] - 15s 107ms/step - loss: 0.0343 - accuracy: 0.9893 - val_loss: 0.4314 - val_accuracy: 0.9222\n",
            "Epoch 20/200\n",
            "137/138 [============================>.] - ETA: 0s - loss: 0.0414 - accuracy: 0.9865Restoring model weights from the end of the best epoch: 10.\n",
            "138/138 [==============================] - 16s 109ms/step - loss: 0.0413 - accuracy: 0.9866 - val_loss: 0.4714 - val_accuracy: 0.9306\n",
            "Epoch 00020: early stopping\n"
          ]
        }
      ]
    },
    {
      "cell_type": "code",
      "metadata": {
        "colab": {
          "base_uri": "https://localhost:8080/",
          "height": 295
        },
        "id": "2PPKm5euoRAs",
        "outputId": "af45d806-6819-4913-c9b8-d6be64cb2e25"
      },
      "source": [
        "import matplotlib.pyplot as plt\n",
        "\n",
        "plt.plot(h.history['accuracy'])\n",
        "plt.plot(h.history['val_accuracy'])\n",
        "plt.plot(h.history['loss'])\n",
        "plt.title('Model accuracy')\n",
        "plt.ylabel('accuracy')\n",
        "plt.xlabel('epoch')\n",
        "plt.legend(['training', 'validation','loss'], loc='upper right')\n",
        "plt.show()"
      ],
      "execution_count": 5,
      "outputs": [
        {
          "output_type": "display_data",
          "data": {
            "image/png": "[encoded data removed]",
            "text/plain": [
              "<Figure size 432x288 with 1 Axes>"
            ]
          },
          "metadata": {
            "needs_background": "light"
          }
        }
      ]
    },
    {
      "cell_type": "markdown",
      "metadata": {
        "id": "TVOKAhbsm_pw"
      },
      "source": [
        "## Evaluación de los resultados"
      ]
    },
    {
      "cell_type": "code",
      "metadata": {
        "colab": {
          "base_uri": "https://localhost:8080/",
          "height": 541
        },
        "id": "IkyaTtnAKfqA",
        "outputId": "9e9af3b1-41ba-451b-e5cc-df20fcb39794"
      },
      "source": [
        "import numpy as np\n",
        "from sklearn.metrics import classification_report, confusion_matrix\n",
        "import seaborn as sns\n",
        "\n",
        "results = np.concatenate([(y, model.predict(x=x)) for x, y in val_ds], axis=1)\n",
        "\n",
        "predictions = np.argmax(results[0], axis=1)\n",
        "labels = np.argmax(results[1], axis=1)\n",
        "\n",
        "cf_matrix = confusion_matrix(labels, predictions)\n",
        "\n",
        "sns.heatmap(cf_matrix, annot=True, fmt=\"d\", cmap=\"Blues\")\n",
        "\n",
        "print(classification_report(labels, predictions, digits = 4))"
      ],
      "execution_count": 6,
      "outputs": [
        {
          "output_type": "stream",
          "name": "stdout",
          "text": [
            "              precision    recall  f1-score   support\n",
            "\n",
            "           0     0.9500    0.9048    0.9268        42\n",
            "           1     0.8500    0.9189    0.8831        37\n",
            "           2     0.9250    0.9487    0.9367        39\n",
            "           3     0.9500    0.9268    0.9383        41\n",
            "           4     0.9500    1.0000    0.9744        38\n",
            "           5     1.0000    0.9756    0.9877        41\n",
            "           6     0.9000    1.0000    0.9474        36\n",
            "           7     0.9500    0.9500    0.9500        40\n",
            "           8     0.9750    0.8478    0.9070        46\n",
            "\n",
            "    accuracy                         0.9389       360\n",
            "   macro avg     0.9389    0.9414    0.9390       360\n",
            "weighted avg     0.9409    0.9389    0.9387       360\n",
            "\n"
          ]
        },
        {
          "output_type": "display_data",
          "data": {
            "image/png": "[encoded data removed]",
            "text/plain": [
              "<Figure size 432x288 with 2 Axes>"
            ]
          },
          "metadata": {
            "needs_background": "light"
          }
        }
      ]
    },
    {
      "cell_type": "code",
      "metadata": {
        "colab": {
          "base_uri": "https://localhost:8080/"
        },
        "id": "djAlHGLz-Cjj",
        "outputId": "06888a38-d19e-4dcc-a45f-10186e5d1376"
      },
      "source": [
        "img = keras.preprocessing.image.load_img(\n",
        "    '/content/drive/My Drive/Colab Notebooks/datasets/Traffic-Signs/2/00021_00006_00000.png', target_size=image_size\n",
        ")\n",
        "img_array = keras.preprocessing.image.img_to_array(img)\n",
        "img_array = tf.expand_dims(img_array, 0)  # Create batch axis\n",
        "\n",
        "predictions = model.predict(img_array)\n",
        "print(np.argmax(predictions[0]))"
      ],
      "execution_count": 7,
      "outputs": [
        {
          "output_type": "stream",
          "name": "stdout",
          "text": [
            "1\n"
          ]
        }
      ]
    },
    {
      "cell_type": "code",
      "source": [
        "img = keras.preprocessing.image.load_img(\n",
        "    '/content/drive/My Drive/Colab Notebooks/imagenes/imagen5.png', target_size=image_size\n",
        ")\n",
        "img_array = keras.preprocessing.image.img_to_array(img)\n",
        "img_array = tf.expand_dims(img_array, 0)  # Create batch axis\n",
        "\n",
        "predictions = model.predict(img_array)\n",
        "print(np.argmax(predictions[0]))"
      ],
      "metadata": {
        "colab": {
          "base_uri": "https://localhost:8080/"
        },
        "id": "AjTaWk0IO5j8",
        "outputId": "9d8aed12-6700-45b3-f799-733393997acc"
      },
      "execution_count": 8,
      "outputs": [
        {
          "output_type": "stream",
          "name": "stdout",
          "text": [
            "5\n"
          ]
        }
      ]
    }
  ]
}